{
 "cells": [
  {
   "cell_type": "markdown",
   "metadata": {},
   "source": [
    "# Importing libraries"
   ]
  },
  {
   "cell_type": "code",
   "execution_count": 1,
   "metadata": {},
   "outputs": [],
   "source": [
    "import pyodbc \n",
    "import os\n",
    "import sys\n",
    "import glob\n",
    "import numpy as np\n",
    "import pandas as pd\n",
    "import matplotlib.pyplot as plt\n",
    "%matplotlib inline\n",
    "import seaborn as sns\n",
    "import datetime\n",
    "import calendar\n"
   ]
  },
  {
   "cell_type": "markdown",
   "metadata": {},
   "source": [
    "# Browsing .csv files that will be loaded to SQL SERVER"
   ]
  },
  {
   "cell_type": "code",
   "execution_count": 2,
   "metadata": {},
   "outputs": [
    {
     "name": "stdout",
     "output_type": "stream",
     "text": [
      "\u001b[96mThese paths will be used for loading .csv files in a Pandas DataFrame\n",
      "C:\\My projects\\DataEngineeringProjects\\DataEngineeringProject1\\Inventory Analysis csv files\\2017PurchasePricesDec.csv\n",
      "C:\\My projects\\DataEngineeringProjects\\DataEngineeringProject1\\Inventory Analysis csv files\\BegInvFINAL12312016.csv\n",
      "C:\\My projects\\DataEngineeringProjects\\DataEngineeringProject1\\Inventory Analysis csv files\\EndInvFINAL12312016.csv\n",
      "C:\\My projects\\DataEngineeringProjects\\DataEngineeringProject1\\Inventory Analysis csv files\\InvoicePurchases12312016.csv\n",
      "C:\\My projects\\DataEngineeringProjects\\DataEngineeringProject1\\Inventory Analysis csv files\\PurchasesFINAL12312016.csv\n",
      "C:\\My projects\\DataEngineeringProjects\\DataEngineeringProject1\\Inventory Analysis csv files\\SalesFINAL12312016.csv\n"
     ]
    }
   ],
   "source": [
    "print(\"\\033[96mThese paths will be used for loading .csv files in a Pandas DataFrame\")\n",
    "for dirname, _, filenames in os.walk('C:\\My projects\\DataEngineeringProjects\\DataEngineeringProject1\\Inventory Analysis csv files'):\n",
    "    for filename in filenames: \n",
    "        print(os.path.join(dirname, filename))\n"
   ]
  },
  {
   "cell_type": "code",
   "execution_count": 3,
   "metadata": {},
   "outputs": [
    {
     "name": "stdout",
     "output_type": "stream",
     "text": [
      "\u001b[94m These .csv files will be used ['2017PurchasePricesDec.csv', 'BegInvFINAL12312016.csv', 'EndInvFINAL12312016.csv', 'InvoicePurchases12312016.csv', 'PurchasesFINAL12312016.csv', 'SalesFINAL12312016.csv']\n"
     ]
    }
   ],
   "source": [
    "path = 'C:\\My projects\\DataEngineeringProjects\\DataEngineeringProject1\\Inventory Analysis csv files'\n",
    "extension = 'csv'\n",
    "os.chdir(path)\n",
    "result = glob.glob('*.{}'.format(extension))\n",
    "print(\"\\033[94m These .csv files will be used {}\".format(result))"
   ]
  },
  {
   "cell_type": "markdown",
   "metadata": {},
   "source": [
    "# Loading csv files in a Pandas DataFrame"
   ]
  },
  {
   "cell_type": "code",
   "execution_count": 4,
   "metadata": {},
   "outputs": [],
   "source": [
    "PurchasePriceDesc = r'C:\\My projects\\DataEngineeringProjects\\DataEngineeringProject1\\Inventory Analysis csv files\\2017PurchasePricesDec.csv'\n",
    "BeginningOfInventory = r'C:\\My projects\\DataEngineeringProjects\\DataEngineeringProject1\\Inventory Analysis csv files\\BegInvFINAL12312016.csv'\n",
    "EndOfInventory = r'C:\\My projects\\DataEngineeringProjects\\DataEngineeringProject1\\Inventory Analysis csv files\\EndInvFINAL12312016.csv'\n",
    "InvoicePurchase = r'C:\\My projects\\DataEngineeringProjects\\DataEngineeringProject1\\Inventory Analysis csv files\\InvoicePurchases12312016.csv'\n",
    "FinalPurchase = r'C:\\My projects\\DataEngineeringProjects\\DataEngineeringProject1\\Inventory Analysis csv files\\PurchasesFINAL12312016.csv'\n",
    "FinalSales = r'C:\\My projects\\DataEngineeringProjects\\DataEngineeringProject1\\Inventory Analysis csv files\\SalesFINAL12312016.csv'\n",
    "\n",
    "dfPurchasePriceDesc = pd.read_csv(PurchasePriceDesc)\n",
    "dfBeginningOfInventory = pd.read_csv(BeginningOfInventory)\n",
    "dfEndOfInventory = pd.read_csv(EndOfInventory)\n",
    "dfInvoicePurchase = pd.read_csv(InvoicePurchase)\n",
    "dfFinalPurchase = pd.read_csv(FinalPurchase)\n",
    "dfFinalSales = pd.read_csv(FinalSales)\n"
   ]
  },
  {
   "cell_type": "markdown",
   "metadata": {},
   "source": [
    "### Browsing all DataFrames and Data Wrangling"
   ]
  },
  {
   "cell_type": "markdown",
   "metadata": {},
   "source": [
    "### `dfPurchasePriceDesc`"
   ]
  },
  {
   "cell_type": "code",
   "execution_count": 5,
   "metadata": {},
   "outputs": [
    {
     "data": {
      "text/html": [
       "<div>\n",
       "<style scoped>\n",
       "    .dataframe tbody tr th:only-of-type {\n",
       "        vertical-align: middle;\n",
       "    }\n",
       "\n",
       "    .dataframe tbody tr th {\n",
       "        vertical-align: top;\n",
       "    }\n",
       "\n",
       "    .dataframe thead th {\n",
       "        text-align: right;\n",
       "    }\n",
       "</style>\n",
       "<table border=\"1\" class=\"dataframe\">\n",
       "  <thead>\n",
       "    <tr style=\"text-align: right;\">\n",
       "      <th></th>\n",
       "      <th>Brand</th>\n",
       "      <th>Description</th>\n",
       "      <th>Price</th>\n",
       "      <th>Size</th>\n",
       "      <th>Volume</th>\n",
       "      <th>Classification</th>\n",
       "      <th>PurchasePrice</th>\n",
       "      <th>VendorNumber</th>\n",
       "      <th>VendorName</th>\n",
       "    </tr>\n",
       "  </thead>\n",
       "  <tbody>\n",
       "    <tr>\n",
       "      <th>0</th>\n",
       "      <td>58</td>\n",
       "      <td>Gekkeikan Black &amp; Gold Sake</td>\n",
       "      <td>12.99</td>\n",
       "      <td>750mL</td>\n",
       "      <td>750</td>\n",
       "      <td>1</td>\n",
       "      <td>9.28</td>\n",
       "      <td>8320</td>\n",
       "      <td>SHAW ROSS INT L IMP LTD</td>\n",
       "    </tr>\n",
       "    <tr>\n",
       "      <th>1</th>\n",
       "      <td>62</td>\n",
       "      <td>Herradura Silver Tequila</td>\n",
       "      <td>36.99</td>\n",
       "      <td>750mL</td>\n",
       "      <td>750</td>\n",
       "      <td>1</td>\n",
       "      <td>28.67</td>\n",
       "      <td>1128</td>\n",
       "      <td>BROWN-FORMAN CORP</td>\n",
       "    </tr>\n",
       "    <tr>\n",
       "      <th>2</th>\n",
       "      <td>63</td>\n",
       "      <td>Herradura Reposado Tequila</td>\n",
       "      <td>38.99</td>\n",
       "      <td>750mL</td>\n",
       "      <td>750</td>\n",
       "      <td>1</td>\n",
       "      <td>30.46</td>\n",
       "      <td>1128</td>\n",
       "      <td>BROWN-FORMAN CORP</td>\n",
       "    </tr>\n",
       "    <tr>\n",
       "      <th>3</th>\n",
       "      <td>72</td>\n",
       "      <td>No. 3 London Dry Gin</td>\n",
       "      <td>34.99</td>\n",
       "      <td>750mL</td>\n",
       "      <td>750</td>\n",
       "      <td>1</td>\n",
       "      <td>26.11</td>\n",
       "      <td>9165</td>\n",
       "      <td>ULTRA BEVERAGE COMPANY LLP</td>\n",
       "    </tr>\n",
       "    <tr>\n",
       "      <th>4</th>\n",
       "      <td>75</td>\n",
       "      <td>Three Olives Tomato Vodka</td>\n",
       "      <td>14.99</td>\n",
       "      <td>750mL</td>\n",
       "      <td>750</td>\n",
       "      <td>1</td>\n",
       "      <td>10.94</td>\n",
       "      <td>7245</td>\n",
       "      <td>PROXIMO SPIRITS INC.</td>\n",
       "    </tr>\n",
       "    <tr>\n",
       "      <th>...</th>\n",
       "      <td>...</td>\n",
       "      <td>...</td>\n",
       "      <td>...</td>\n",
       "      <td>...</td>\n",
       "      <td>...</td>\n",
       "      <td>...</td>\n",
       "      <td>...</td>\n",
       "      <td>...</td>\n",
       "      <td>...</td>\n",
       "    </tr>\n",
       "    <tr>\n",
       "      <th>12256</th>\n",
       "      <td>44917</td>\n",
       "      <td>Ferreira 10-Yr Tawny Port</td>\n",
       "      <td>24.99</td>\n",
       "      <td>750mL</td>\n",
       "      <td>750</td>\n",
       "      <td>2</td>\n",
       "      <td>16.55</td>\n",
       "      <td>90024</td>\n",
       "      <td>VINILANDIA USA</td>\n",
       "    </tr>\n",
       "    <tr>\n",
       "      <th>12257</th>\n",
       "      <td>44944</td>\n",
       "      <td>Sanford Santa Rita Pnt Nr</td>\n",
       "      <td>22.99</td>\n",
       "      <td>750mL</td>\n",
       "      <td>750</td>\n",
       "      <td>2</td>\n",
       "      <td>14.93</td>\n",
       "      <td>4425</td>\n",
       "      <td>MARTIGNETTI COMPANIES</td>\n",
       "    </tr>\n",
       "    <tr>\n",
       "      <th>12258</th>\n",
       "      <td>45016</td>\n",
       "      <td>Neal One Lane Bridg Cab Svgn</td>\n",
       "      <td>93.99</td>\n",
       "      <td>750mL</td>\n",
       "      <td>750</td>\n",
       "      <td>2</td>\n",
       "      <td>61.43</td>\n",
       "      <td>10754</td>\n",
       "      <td>PERFECTA WINES</td>\n",
       "    </tr>\n",
       "    <tr>\n",
       "      <th>12259</th>\n",
       "      <td>46011</td>\n",
       "      <td>Folonari Pnt Nr Venezie</td>\n",
       "      <td>12.99</td>\n",
       "      <td>1500ml</td>\n",
       "      <td>1500</td>\n",
       "      <td>2</td>\n",
       "      <td>8.90</td>\n",
       "      <td>9744</td>\n",
       "      <td>FREDERICK WILDMAN &amp; SONS</td>\n",
       "    </tr>\n",
       "    <tr>\n",
       "      <th>12260</th>\n",
       "      <td>46964</td>\n",
       "      <td>Calera Viognier Mt Harlan</td>\n",
       "      <td>35.99</td>\n",
       "      <td>750mL</td>\n",
       "      <td>750</td>\n",
       "      <td>2</td>\n",
       "      <td>24.32</td>\n",
       "      <td>10754</td>\n",
       "      <td>PERFECTA WINES</td>\n",
       "    </tr>\n",
       "  </tbody>\n",
       "</table>\n",
       "<p>12261 rows × 9 columns</p>\n",
       "</div>"
      ],
      "text/plain": [
       "       Brand                   Description  Price    Size Volume  \\\n",
       "0         58   Gekkeikan Black & Gold Sake  12.99   750mL    750   \n",
       "1         62      Herradura Silver Tequila  36.99   750mL    750   \n",
       "2         63    Herradura Reposado Tequila  38.99   750mL    750   \n",
       "3         72          No. 3 London Dry Gin  34.99   750mL    750   \n",
       "4         75     Three Olives Tomato Vodka  14.99   750mL    750   \n",
       "...      ...                           ...    ...     ...    ...   \n",
       "12256  44917     Ferreira 10-Yr Tawny Port  24.99   750mL    750   \n",
       "12257  44944     Sanford Santa Rita Pnt Nr  22.99   750mL    750   \n",
       "12258  45016  Neal One Lane Bridg Cab Svgn  93.99   750mL    750   \n",
       "12259  46011       Folonari Pnt Nr Venezie  12.99  1500ml   1500   \n",
       "12260  46964     Calera Viognier Mt Harlan  35.99   750mL    750   \n",
       "\n",
       "       Classification  PurchasePrice  VendorNumber  \\\n",
       "0                   1           9.28          8320   \n",
       "1                   1          28.67          1128   \n",
       "2                   1          30.46          1128   \n",
       "3                   1          26.11          9165   \n",
       "4                   1          10.94          7245   \n",
       "...               ...            ...           ...   \n",
       "12256               2          16.55         90024   \n",
       "12257               2          14.93          4425   \n",
       "12258               2          61.43         10754   \n",
       "12259               2           8.90          9744   \n",
       "12260               2          24.32         10754   \n",
       "\n",
       "                        VendorName  \n",
       "0      SHAW ROSS INT L IMP LTD      \n",
       "1      BROWN-FORMAN CORP            \n",
       "2      BROWN-FORMAN CORP            \n",
       "3      ULTRA BEVERAGE COMPANY LLP   \n",
       "4      PROXIMO SPIRITS INC.         \n",
       "...                            ...  \n",
       "12256  VINILANDIA USA               \n",
       "12257        MARTIGNETTI COMPANIES  \n",
       "12258  PERFECTA WINES               \n",
       "12259  FREDERICK WILDMAN & SONS     \n",
       "12260  PERFECTA WINES               \n",
       "\n",
       "[12261 rows x 9 columns]"
      ]
     },
     "execution_count": 5,
     "metadata": {},
     "output_type": "execute_result"
    }
   ],
   "source": [
    "dfPurchasePriceDesc"
   ]
  },
  {
   "cell_type": "code",
   "execution_count": 6,
   "metadata": {},
   "outputs": [
    {
     "data": {
      "text/plain": [
       "Index(['Brand', 'Description', 'Price', 'Size', 'Volume', 'Classification',\n",
       "       'PurchasePrice', 'VendorNumber', 'VendorName'],\n",
       "      dtype='object')"
      ]
     },
     "execution_count": 6,
     "metadata": {},
     "output_type": "execute_result"
    }
   ],
   "source": [
    "dfPurchasePriceDesc.columns"
   ]
  },
  {
   "cell_type": "code",
   "execution_count": 7,
   "metadata": {},
   "outputs": [
    {
     "data": {
      "text/plain": [
       "Brand               int64\n",
       "Description        object\n",
       "Price             float64\n",
       "Size               object\n",
       "Volume             object\n",
       "Classification      int64\n",
       "PurchasePrice     float64\n",
       "VendorNumber        int64\n",
       "VendorName         object\n",
       "dtype: object"
      ]
     },
     "execution_count": 7,
     "metadata": {},
     "output_type": "execute_result"
    }
   ],
   "source": [
    "dfPurchasePriceDesc.dtypes"
   ]
  },
  {
   "cell_type": "markdown",
   "metadata": {},
   "source": [
    "### Removing NULL values from DataFrame"
   ]
  },
  {
   "cell_type": "code",
   "execution_count": 8,
   "metadata": {},
   "outputs": [],
   "source": [
    "dfPurchasePriceDesc = dfPurchasePriceDesc.dropna()"
   ]
  },
  {
   "cell_type": "markdown",
   "metadata": {},
   "source": [
    "### `dfBeginningOfInventory`"
   ]
  },
  {
   "cell_type": "code",
   "execution_count": 9,
   "metadata": {},
   "outputs": [
    {
     "data": {
      "text/html": [
       "<div>\n",
       "<style scoped>\n",
       "    .dataframe tbody tr th:only-of-type {\n",
       "        vertical-align: middle;\n",
       "    }\n",
       "\n",
       "    .dataframe tbody tr th {\n",
       "        vertical-align: top;\n",
       "    }\n",
       "\n",
       "    .dataframe thead th {\n",
       "        text-align: right;\n",
       "    }\n",
       "</style>\n",
       "<table border=\"1\" class=\"dataframe\">\n",
       "  <thead>\n",
       "    <tr style=\"text-align: right;\">\n",
       "      <th></th>\n",
       "      <th>InventoryId</th>\n",
       "      <th>Store</th>\n",
       "      <th>City</th>\n",
       "      <th>Brand</th>\n",
       "      <th>Description</th>\n",
       "      <th>Size</th>\n",
       "      <th>onHand</th>\n",
       "      <th>Price</th>\n",
       "      <th>startDate</th>\n",
       "    </tr>\n",
       "  </thead>\n",
       "  <tbody>\n",
       "    <tr>\n",
       "      <th>0</th>\n",
       "      <td>1_HARDERSFIELD_58</td>\n",
       "      <td>1</td>\n",
       "      <td>HARDERSFIELD</td>\n",
       "      <td>58</td>\n",
       "      <td>Gekkeikan Black &amp; Gold Sake</td>\n",
       "      <td>750mL</td>\n",
       "      <td>8</td>\n",
       "      <td>12.99</td>\n",
       "      <td>2016-01-01</td>\n",
       "    </tr>\n",
       "    <tr>\n",
       "      <th>1</th>\n",
       "      <td>1_HARDERSFIELD_60</td>\n",
       "      <td>1</td>\n",
       "      <td>HARDERSFIELD</td>\n",
       "      <td>60</td>\n",
       "      <td>Canadian Club 1858 VAP</td>\n",
       "      <td>750mL</td>\n",
       "      <td>7</td>\n",
       "      <td>10.99</td>\n",
       "      <td>2016-01-01</td>\n",
       "    </tr>\n",
       "    <tr>\n",
       "      <th>2</th>\n",
       "      <td>1_HARDERSFIELD_62</td>\n",
       "      <td>1</td>\n",
       "      <td>HARDERSFIELD</td>\n",
       "      <td>62</td>\n",
       "      <td>Herradura Silver Tequila</td>\n",
       "      <td>750mL</td>\n",
       "      <td>6</td>\n",
       "      <td>36.99</td>\n",
       "      <td>2016-01-01</td>\n",
       "    </tr>\n",
       "    <tr>\n",
       "      <th>3</th>\n",
       "      <td>1_HARDERSFIELD_63</td>\n",
       "      <td>1</td>\n",
       "      <td>HARDERSFIELD</td>\n",
       "      <td>63</td>\n",
       "      <td>Herradura Reposado Tequila</td>\n",
       "      <td>750mL</td>\n",
       "      <td>3</td>\n",
       "      <td>38.99</td>\n",
       "      <td>2016-01-01</td>\n",
       "    </tr>\n",
       "    <tr>\n",
       "      <th>4</th>\n",
       "      <td>1_HARDERSFIELD_72</td>\n",
       "      <td>1</td>\n",
       "      <td>HARDERSFIELD</td>\n",
       "      <td>72</td>\n",
       "      <td>No. 3 London Dry Gin</td>\n",
       "      <td>750mL</td>\n",
       "      <td>6</td>\n",
       "      <td>34.99</td>\n",
       "      <td>2016-01-01</td>\n",
       "    </tr>\n",
       "    <tr>\n",
       "      <th>...</th>\n",
       "      <td>...</td>\n",
       "      <td>...</td>\n",
       "      <td>...</td>\n",
       "      <td>...</td>\n",
       "      <td>...</td>\n",
       "      <td>...</td>\n",
       "      <td>...</td>\n",
       "      <td>...</td>\n",
       "      <td>...</td>\n",
       "    </tr>\n",
       "    <tr>\n",
       "      <th>206524</th>\n",
       "      <td>79_BALLYMENA_46985</td>\n",
       "      <td>79</td>\n",
       "      <td>BALLYMENA</td>\n",
       "      <td>46985</td>\n",
       "      <td>Rodney Strong Cab Svgn Alexa</td>\n",
       "      <td>750mL</td>\n",
       "      <td>13</td>\n",
       "      <td>22.99</td>\n",
       "      <td>2016-01-01</td>\n",
       "    </tr>\n",
       "    <tr>\n",
       "      <th>206525</th>\n",
       "      <td>79_BALLYMENA_47014</td>\n",
       "      <td>79</td>\n",
       "      <td>BALLYMENA</td>\n",
       "      <td>47014</td>\n",
       "      <td>Juan Gil Jumilla Rd</td>\n",
       "      <td>750mL</td>\n",
       "      <td>13</td>\n",
       "      <td>13.99</td>\n",
       "      <td>2016-01-01</td>\n",
       "    </tr>\n",
       "    <tr>\n",
       "      <th>206526</th>\n",
       "      <td>79_BALLYMENA_47090</td>\n",
       "      <td>79</td>\n",
       "      <td>BALLYMENA</td>\n",
       "      <td>47090</td>\n",
       "      <td>Napa Cellars Cab Svgn Napa</td>\n",
       "      <td>750mL</td>\n",
       "      <td>19</td>\n",
       "      <td>23.99</td>\n",
       "      <td>2016-01-01</td>\n",
       "    </tr>\n",
       "    <tr>\n",
       "      <th>206527</th>\n",
       "      <td>79_BALLYMENA_90011</td>\n",
       "      <td>79</td>\n",
       "      <td>BALLYMENA</td>\n",
       "      <td>90011</td>\n",
       "      <td>Ch Pichon Longville 12 Pauil</td>\n",
       "      <td>750mL</td>\n",
       "      <td>12</td>\n",
       "      <td>144.99</td>\n",
       "      <td>2016-01-01</td>\n",
       "    </tr>\n",
       "    <tr>\n",
       "      <th>206528</th>\n",
       "      <td>79_BALLYMENA_90089</td>\n",
       "      <td>79</td>\n",
       "      <td>BALLYMENA</td>\n",
       "      <td>90089</td>\n",
       "      <td>Ch Lynch Bages 12 Pauillac</td>\n",
       "      <td>750mL</td>\n",
       "      <td>24</td>\n",
       "      <td>119.99</td>\n",
       "      <td>2016-01-01</td>\n",
       "    </tr>\n",
       "  </tbody>\n",
       "</table>\n",
       "<p>206529 rows × 9 columns</p>\n",
       "</div>"
      ],
      "text/plain": [
       "               InventoryId  Store          City  Brand  \\\n",
       "0        1_HARDERSFIELD_58      1  HARDERSFIELD     58   \n",
       "1        1_HARDERSFIELD_60      1  HARDERSFIELD     60   \n",
       "2        1_HARDERSFIELD_62      1  HARDERSFIELD     62   \n",
       "3        1_HARDERSFIELD_63      1  HARDERSFIELD     63   \n",
       "4        1_HARDERSFIELD_72      1  HARDERSFIELD     72   \n",
       "...                    ...    ...           ...    ...   \n",
       "206524  79_BALLYMENA_46985     79     BALLYMENA  46985   \n",
       "206525  79_BALLYMENA_47014     79     BALLYMENA  47014   \n",
       "206526  79_BALLYMENA_47090     79     BALLYMENA  47090   \n",
       "206527  79_BALLYMENA_90011     79     BALLYMENA  90011   \n",
       "206528  79_BALLYMENA_90089     79     BALLYMENA  90089   \n",
       "\n",
       "                         Description   Size  onHand   Price   startDate  \n",
       "0        Gekkeikan Black & Gold Sake  750mL       8   12.99  2016-01-01  \n",
       "1             Canadian Club 1858 VAP  750mL       7   10.99  2016-01-01  \n",
       "2           Herradura Silver Tequila  750mL       6   36.99  2016-01-01  \n",
       "3         Herradura Reposado Tequila  750mL       3   38.99  2016-01-01  \n",
       "4               No. 3 London Dry Gin  750mL       6   34.99  2016-01-01  \n",
       "...                              ...    ...     ...     ...         ...  \n",
       "206524  Rodney Strong Cab Svgn Alexa  750mL      13   22.99  2016-01-01  \n",
       "206525           Juan Gil Jumilla Rd  750mL      13   13.99  2016-01-01  \n",
       "206526    Napa Cellars Cab Svgn Napa  750mL      19   23.99  2016-01-01  \n",
       "206527  Ch Pichon Longville 12 Pauil  750mL      12  144.99  2016-01-01  \n",
       "206528    Ch Lynch Bages 12 Pauillac  750mL      24  119.99  2016-01-01  \n",
       "\n",
       "[206529 rows x 9 columns]"
      ]
     },
     "execution_count": 9,
     "metadata": {},
     "output_type": "execute_result"
    }
   ],
   "source": [
    "dfBeginningOfInventory"
   ]
  },
  {
   "cell_type": "code",
   "execution_count": 10,
   "metadata": {},
   "outputs": [
    {
     "data": {
      "text/plain": [
       "Index(['InventoryId', 'Store', 'City', 'Brand', 'Description', 'Size',\n",
       "       'onHand', 'Price', 'startDate'],\n",
       "      dtype='object')"
      ]
     },
     "execution_count": 10,
     "metadata": {},
     "output_type": "execute_result"
    }
   ],
   "source": [
    "dfBeginningOfInventory.columns"
   ]
  },
  {
   "cell_type": "code",
   "execution_count": 11,
   "metadata": {},
   "outputs": [
    {
     "data": {
      "text/plain": [
       "InventoryId     object\n",
       "Store            int64\n",
       "City            object\n",
       "Brand            int64\n",
       "Description     object\n",
       "Size            object\n",
       "onHand           int64\n",
       "Price          float64\n",
       "startDate       object\n",
       "dtype: object"
      ]
     },
     "execution_count": 11,
     "metadata": {},
     "output_type": "execute_result"
    }
   ],
   "source": [
    "dfBeginningOfInventory.dtypes"
   ]
  },
  {
   "cell_type": "markdown",
   "metadata": {},
   "source": [
    "## Changing name of column, then converting date time columns to date time data types"
   ]
  },
  {
   "cell_type": "code",
   "execution_count": 12,
   "metadata": {},
   "outputs": [],
   "source": [
    "dfBeginningOfInventory.rename(columns = {'startDate':'StartDate'}, inplace = True)\n",
    "dfBeginningOfInventory[\"StartDate\"] = pd.to_datetime(dfBeginningOfInventory[\"StartDate\"])\n"
   ]
  },
  {
   "cell_type": "code",
   "execution_count": 13,
   "metadata": {},
   "outputs": [
    {
     "data": {
      "text/plain": [
       "InventoryId            object\n",
       "Store                   int64\n",
       "City                   object\n",
       "Brand                   int64\n",
       "Description            object\n",
       "Size                   object\n",
       "onHand                  int64\n",
       "Price                 float64\n",
       "StartDate      datetime64[ns]\n",
       "dtype: object"
      ]
     },
     "execution_count": 13,
     "metadata": {},
     "output_type": "execute_result"
    }
   ],
   "source": [
    "dfBeginningOfInventory.dtypes"
   ]
  },
  {
   "cell_type": "markdown",
   "metadata": {},
   "source": [
    "### Removing NULL values from DataFrame"
   ]
  },
  {
   "cell_type": "code",
   "execution_count": 14,
   "metadata": {},
   "outputs": [],
   "source": [
    "dfBeginningOfInventory = dfBeginningOfInventory.dropna()"
   ]
  },
  {
   "cell_type": "markdown",
   "metadata": {},
   "source": [
    "## Browsing final dataframe"
   ]
  },
  {
   "cell_type": "code",
   "execution_count": 15,
   "metadata": {},
   "outputs": [
    {
     "data": {
      "text/html": [
       "<div>\n",
       "<style scoped>\n",
       "    .dataframe tbody tr th:only-of-type {\n",
       "        vertical-align: middle;\n",
       "    }\n",
       "\n",
       "    .dataframe tbody tr th {\n",
       "        vertical-align: top;\n",
       "    }\n",
       "\n",
       "    .dataframe thead th {\n",
       "        text-align: right;\n",
       "    }\n",
       "</style>\n",
       "<table border=\"1\" class=\"dataframe\">\n",
       "  <thead>\n",
       "    <tr style=\"text-align: right;\">\n",
       "      <th></th>\n",
       "      <th>InventoryId</th>\n",
       "      <th>Store</th>\n",
       "      <th>City</th>\n",
       "      <th>Brand</th>\n",
       "      <th>Description</th>\n",
       "      <th>Size</th>\n",
       "      <th>onHand</th>\n",
       "      <th>Price</th>\n",
       "      <th>StartDate</th>\n",
       "    </tr>\n",
       "  </thead>\n",
       "  <tbody>\n",
       "    <tr>\n",
       "      <th>0</th>\n",
       "      <td>1_HARDERSFIELD_58</td>\n",
       "      <td>1</td>\n",
       "      <td>HARDERSFIELD</td>\n",
       "      <td>58</td>\n",
       "      <td>Gekkeikan Black &amp; Gold Sake</td>\n",
       "      <td>750mL</td>\n",
       "      <td>8</td>\n",
       "      <td>12.99</td>\n",
       "      <td>2016-01-01</td>\n",
       "    </tr>\n",
       "    <tr>\n",
       "      <th>1</th>\n",
       "      <td>1_HARDERSFIELD_60</td>\n",
       "      <td>1</td>\n",
       "      <td>HARDERSFIELD</td>\n",
       "      <td>60</td>\n",
       "      <td>Canadian Club 1858 VAP</td>\n",
       "      <td>750mL</td>\n",
       "      <td>7</td>\n",
       "      <td>10.99</td>\n",
       "      <td>2016-01-01</td>\n",
       "    </tr>\n",
       "    <tr>\n",
       "      <th>2</th>\n",
       "      <td>1_HARDERSFIELD_62</td>\n",
       "      <td>1</td>\n",
       "      <td>HARDERSFIELD</td>\n",
       "      <td>62</td>\n",
       "      <td>Herradura Silver Tequila</td>\n",
       "      <td>750mL</td>\n",
       "      <td>6</td>\n",
       "      <td>36.99</td>\n",
       "      <td>2016-01-01</td>\n",
       "    </tr>\n",
       "    <tr>\n",
       "      <th>3</th>\n",
       "      <td>1_HARDERSFIELD_63</td>\n",
       "      <td>1</td>\n",
       "      <td>HARDERSFIELD</td>\n",
       "      <td>63</td>\n",
       "      <td>Herradura Reposado Tequila</td>\n",
       "      <td>750mL</td>\n",
       "      <td>3</td>\n",
       "      <td>38.99</td>\n",
       "      <td>2016-01-01</td>\n",
       "    </tr>\n",
       "    <tr>\n",
       "      <th>4</th>\n",
       "      <td>1_HARDERSFIELD_72</td>\n",
       "      <td>1</td>\n",
       "      <td>HARDERSFIELD</td>\n",
       "      <td>72</td>\n",
       "      <td>No. 3 London Dry Gin</td>\n",
       "      <td>750mL</td>\n",
       "      <td>6</td>\n",
       "      <td>34.99</td>\n",
       "      <td>2016-01-01</td>\n",
       "    </tr>\n",
       "    <tr>\n",
       "      <th>...</th>\n",
       "      <td>...</td>\n",
       "      <td>...</td>\n",
       "      <td>...</td>\n",
       "      <td>...</td>\n",
       "      <td>...</td>\n",
       "      <td>...</td>\n",
       "      <td>...</td>\n",
       "      <td>...</td>\n",
       "      <td>...</td>\n",
       "    </tr>\n",
       "    <tr>\n",
       "      <th>206524</th>\n",
       "      <td>79_BALLYMENA_46985</td>\n",
       "      <td>79</td>\n",
       "      <td>BALLYMENA</td>\n",
       "      <td>46985</td>\n",
       "      <td>Rodney Strong Cab Svgn Alexa</td>\n",
       "      <td>750mL</td>\n",
       "      <td>13</td>\n",
       "      <td>22.99</td>\n",
       "      <td>2016-01-01</td>\n",
       "    </tr>\n",
       "    <tr>\n",
       "      <th>206525</th>\n",
       "      <td>79_BALLYMENA_47014</td>\n",
       "      <td>79</td>\n",
       "      <td>BALLYMENA</td>\n",
       "      <td>47014</td>\n",
       "      <td>Juan Gil Jumilla Rd</td>\n",
       "      <td>750mL</td>\n",
       "      <td>13</td>\n",
       "      <td>13.99</td>\n",
       "      <td>2016-01-01</td>\n",
       "    </tr>\n",
       "    <tr>\n",
       "      <th>206526</th>\n",
       "      <td>79_BALLYMENA_47090</td>\n",
       "      <td>79</td>\n",
       "      <td>BALLYMENA</td>\n",
       "      <td>47090</td>\n",
       "      <td>Napa Cellars Cab Svgn Napa</td>\n",
       "      <td>750mL</td>\n",
       "      <td>19</td>\n",
       "      <td>23.99</td>\n",
       "      <td>2016-01-01</td>\n",
       "    </tr>\n",
       "    <tr>\n",
       "      <th>206527</th>\n",
       "      <td>79_BALLYMENA_90011</td>\n",
       "      <td>79</td>\n",
       "      <td>BALLYMENA</td>\n",
       "      <td>90011</td>\n",
       "      <td>Ch Pichon Longville 12 Pauil</td>\n",
       "      <td>750mL</td>\n",
       "      <td>12</td>\n",
       "      <td>144.99</td>\n",
       "      <td>2016-01-01</td>\n",
       "    </tr>\n",
       "    <tr>\n",
       "      <th>206528</th>\n",
       "      <td>79_BALLYMENA_90089</td>\n",
       "      <td>79</td>\n",
       "      <td>BALLYMENA</td>\n",
       "      <td>90089</td>\n",
       "      <td>Ch Lynch Bages 12 Pauillac</td>\n",
       "      <td>750mL</td>\n",
       "      <td>24</td>\n",
       "      <td>119.99</td>\n",
       "      <td>2016-01-01</td>\n",
       "    </tr>\n",
       "  </tbody>\n",
       "</table>\n",
       "<p>206529 rows × 9 columns</p>\n",
       "</div>"
      ],
      "text/plain": [
       "               InventoryId  Store          City  Brand  \\\n",
       "0        1_HARDERSFIELD_58      1  HARDERSFIELD     58   \n",
       "1        1_HARDERSFIELD_60      1  HARDERSFIELD     60   \n",
       "2        1_HARDERSFIELD_62      1  HARDERSFIELD     62   \n",
       "3        1_HARDERSFIELD_63      1  HARDERSFIELD     63   \n",
       "4        1_HARDERSFIELD_72      1  HARDERSFIELD     72   \n",
       "...                    ...    ...           ...    ...   \n",
       "206524  79_BALLYMENA_46985     79     BALLYMENA  46985   \n",
       "206525  79_BALLYMENA_47014     79     BALLYMENA  47014   \n",
       "206526  79_BALLYMENA_47090     79     BALLYMENA  47090   \n",
       "206527  79_BALLYMENA_90011     79     BALLYMENA  90011   \n",
       "206528  79_BALLYMENA_90089     79     BALLYMENA  90089   \n",
       "\n",
       "                         Description   Size  onHand   Price  StartDate  \n",
       "0        Gekkeikan Black & Gold Sake  750mL       8   12.99 2016-01-01  \n",
       "1             Canadian Club 1858 VAP  750mL       7   10.99 2016-01-01  \n",
       "2           Herradura Silver Tequila  750mL       6   36.99 2016-01-01  \n",
       "3         Herradura Reposado Tequila  750mL       3   38.99 2016-01-01  \n",
       "4               No. 3 London Dry Gin  750mL       6   34.99 2016-01-01  \n",
       "...                              ...    ...     ...     ...        ...  \n",
       "206524  Rodney Strong Cab Svgn Alexa  750mL      13   22.99 2016-01-01  \n",
       "206525           Juan Gil Jumilla Rd  750mL      13   13.99 2016-01-01  \n",
       "206526    Napa Cellars Cab Svgn Napa  750mL      19   23.99 2016-01-01  \n",
       "206527  Ch Pichon Longville 12 Pauil  750mL      12  144.99 2016-01-01  \n",
       "206528    Ch Lynch Bages 12 Pauillac  750mL      24  119.99 2016-01-01  \n",
       "\n",
       "[206529 rows x 9 columns]"
      ]
     },
     "execution_count": 15,
     "metadata": {},
     "output_type": "execute_result"
    }
   ],
   "source": [
    "dfBeginningOfInventory"
   ]
  },
  {
   "cell_type": "markdown",
   "metadata": {},
   "source": [
    "### `dfEndOfInventory`"
   ]
  },
  {
   "cell_type": "code",
   "execution_count": 16,
   "metadata": {},
   "outputs": [
    {
     "data": {
      "text/html": [
       "<div>\n",
       "<style scoped>\n",
       "    .dataframe tbody tr th:only-of-type {\n",
       "        vertical-align: middle;\n",
       "    }\n",
       "\n",
       "    .dataframe tbody tr th {\n",
       "        vertical-align: top;\n",
       "    }\n",
       "\n",
       "    .dataframe thead th {\n",
       "        text-align: right;\n",
       "    }\n",
       "</style>\n",
       "<table border=\"1\" class=\"dataframe\">\n",
       "  <thead>\n",
       "    <tr style=\"text-align: right;\">\n",
       "      <th></th>\n",
       "      <th>InventoryId</th>\n",
       "      <th>Store</th>\n",
       "      <th>City</th>\n",
       "      <th>Brand</th>\n",
       "      <th>Description</th>\n",
       "      <th>Size</th>\n",
       "      <th>onHand</th>\n",
       "      <th>Price</th>\n",
       "      <th>endDate</th>\n",
       "    </tr>\n",
       "  </thead>\n",
       "  <tbody>\n",
       "    <tr>\n",
       "      <th>0</th>\n",
       "      <td>1_HARDERSFIELD_58</td>\n",
       "      <td>1</td>\n",
       "      <td>HARDERSFIELD</td>\n",
       "      <td>58</td>\n",
       "      <td>Gekkeikan Black &amp; Gold Sake</td>\n",
       "      <td>750mL</td>\n",
       "      <td>11</td>\n",
       "      <td>12.99</td>\n",
       "      <td>2016-12-31</td>\n",
       "    </tr>\n",
       "    <tr>\n",
       "      <th>1</th>\n",
       "      <td>1_HARDERSFIELD_62</td>\n",
       "      <td>1</td>\n",
       "      <td>HARDERSFIELD</td>\n",
       "      <td>62</td>\n",
       "      <td>Herradura Silver Tequila</td>\n",
       "      <td>750mL</td>\n",
       "      <td>7</td>\n",
       "      <td>36.99</td>\n",
       "      <td>2016-12-31</td>\n",
       "    </tr>\n",
       "    <tr>\n",
       "      <th>2</th>\n",
       "      <td>1_HARDERSFIELD_63</td>\n",
       "      <td>1</td>\n",
       "      <td>HARDERSFIELD</td>\n",
       "      <td>63</td>\n",
       "      <td>Herradura Reposado Tequila</td>\n",
       "      <td>750mL</td>\n",
       "      <td>7</td>\n",
       "      <td>38.99</td>\n",
       "      <td>2016-12-31</td>\n",
       "    </tr>\n",
       "    <tr>\n",
       "      <th>3</th>\n",
       "      <td>1_HARDERSFIELD_72</td>\n",
       "      <td>1</td>\n",
       "      <td>HARDERSFIELD</td>\n",
       "      <td>72</td>\n",
       "      <td>No. 3 London Dry Gin</td>\n",
       "      <td>750mL</td>\n",
       "      <td>4</td>\n",
       "      <td>34.99</td>\n",
       "      <td>2016-12-31</td>\n",
       "    </tr>\n",
       "    <tr>\n",
       "      <th>4</th>\n",
       "      <td>1_HARDERSFIELD_75</td>\n",
       "      <td>1</td>\n",
       "      <td>HARDERSFIELD</td>\n",
       "      <td>75</td>\n",
       "      <td>Three Olives Tomato Vodka</td>\n",
       "      <td>750mL</td>\n",
       "      <td>7</td>\n",
       "      <td>14.99</td>\n",
       "      <td>2016-12-31</td>\n",
       "    </tr>\n",
       "    <tr>\n",
       "      <th>...</th>\n",
       "      <td>...</td>\n",
       "      <td>...</td>\n",
       "      <td>...</td>\n",
       "      <td>...</td>\n",
       "      <td>...</td>\n",
       "      <td>...</td>\n",
       "      <td>...</td>\n",
       "      <td>...</td>\n",
       "      <td>...</td>\n",
       "    </tr>\n",
       "    <tr>\n",
       "      <th>224484</th>\n",
       "      <td>81_PEMBROKE_90087</td>\n",
       "      <td>81</td>\n",
       "      <td>PEMBROKE</td>\n",
       "      <td>90087</td>\n",
       "      <td>Ch Mouton Rothschild 12 Paui</td>\n",
       "      <td>750mL</td>\n",
       "      <td>3</td>\n",
       "      <td>469.99</td>\n",
       "      <td>2016-12-31</td>\n",
       "    </tr>\n",
       "    <tr>\n",
       "      <th>224485</th>\n",
       "      <td>81_PEMBROKE_90088</td>\n",
       "      <td>81</td>\n",
       "      <td>PEMBROKE</td>\n",
       "      <td>90088</td>\n",
       "      <td>Ch Le Petite Mouton 12 Pauil</td>\n",
       "      <td>750mL</td>\n",
       "      <td>3</td>\n",
       "      <td>134.99</td>\n",
       "      <td>2016-12-31</td>\n",
       "    </tr>\n",
       "    <tr>\n",
       "      <th>224486</th>\n",
       "      <td>81_PEMBROKE_90089</td>\n",
       "      <td>81</td>\n",
       "      <td>PEMBROKE</td>\n",
       "      <td>90089</td>\n",
       "      <td>Ch Lynch Bages 12 Pauillac</td>\n",
       "      <td>750mL</td>\n",
       "      <td>3</td>\n",
       "      <td>119.99</td>\n",
       "      <td>2016-12-31</td>\n",
       "    </tr>\n",
       "    <tr>\n",
       "      <th>224487</th>\n",
       "      <td>81_PEMBROKE_90090</td>\n",
       "      <td>81</td>\n",
       "      <td>PEMBROKE</td>\n",
       "      <td>90090</td>\n",
       "      <td>Ch Lafite Rothschild 12</td>\n",
       "      <td>750mL</td>\n",
       "      <td>3</td>\n",
       "      <td>649.99</td>\n",
       "      <td>2016-12-31</td>\n",
       "    </tr>\n",
       "    <tr>\n",
       "      <th>224488</th>\n",
       "      <td>81_PEMBROKE_90604</td>\n",
       "      <td>81</td>\n",
       "      <td>PEMBROKE</td>\n",
       "      <td>90604</td>\n",
       "      <td>Ch Lynch Bages Pauilac</td>\n",
       "      <td>750mL</td>\n",
       "      <td>2</td>\n",
       "      <td>119.99</td>\n",
       "      <td>2016-12-31</td>\n",
       "    </tr>\n",
       "  </tbody>\n",
       "</table>\n",
       "<p>224489 rows × 9 columns</p>\n",
       "</div>"
      ],
      "text/plain": [
       "              InventoryId  Store          City  Brand  \\\n",
       "0       1_HARDERSFIELD_58      1  HARDERSFIELD     58   \n",
       "1       1_HARDERSFIELD_62      1  HARDERSFIELD     62   \n",
       "2       1_HARDERSFIELD_63      1  HARDERSFIELD     63   \n",
       "3       1_HARDERSFIELD_72      1  HARDERSFIELD     72   \n",
       "4       1_HARDERSFIELD_75      1  HARDERSFIELD     75   \n",
       "...                   ...    ...           ...    ...   \n",
       "224484  81_PEMBROKE_90087     81      PEMBROKE  90087   \n",
       "224485  81_PEMBROKE_90088     81      PEMBROKE  90088   \n",
       "224486  81_PEMBROKE_90089     81      PEMBROKE  90089   \n",
       "224487  81_PEMBROKE_90090     81      PEMBROKE  90090   \n",
       "224488  81_PEMBROKE_90604     81      PEMBROKE  90604   \n",
       "\n",
       "                         Description   Size  onHand   Price     endDate  \n",
       "0        Gekkeikan Black & Gold Sake  750mL      11   12.99  2016-12-31  \n",
       "1           Herradura Silver Tequila  750mL       7   36.99  2016-12-31  \n",
       "2         Herradura Reposado Tequila  750mL       7   38.99  2016-12-31  \n",
       "3               No. 3 London Dry Gin  750mL       4   34.99  2016-12-31  \n",
       "4          Three Olives Tomato Vodka  750mL       7   14.99  2016-12-31  \n",
       "...                              ...    ...     ...     ...         ...  \n",
       "224484  Ch Mouton Rothschild 12 Paui  750mL       3  469.99  2016-12-31  \n",
       "224485  Ch Le Petite Mouton 12 Pauil  750mL       3  134.99  2016-12-31  \n",
       "224486    Ch Lynch Bages 12 Pauillac  750mL       3  119.99  2016-12-31  \n",
       "224487       Ch Lafite Rothschild 12  750mL       3  649.99  2016-12-31  \n",
       "224488        Ch Lynch Bages Pauilac  750mL       2  119.99  2016-12-31  \n",
       "\n",
       "[224489 rows x 9 columns]"
      ]
     },
     "execution_count": 16,
     "metadata": {},
     "output_type": "execute_result"
    }
   ],
   "source": [
    "dfEndOfInventory"
   ]
  },
  {
   "cell_type": "code",
   "execution_count": 17,
   "metadata": {},
   "outputs": [
    {
     "data": {
      "text/plain": [
       "Index(['InventoryId', 'Store', 'City', 'Brand', 'Description', 'Size',\n",
       "       'onHand', 'Price', 'endDate'],\n",
       "      dtype='object')"
      ]
     },
     "execution_count": 17,
     "metadata": {},
     "output_type": "execute_result"
    }
   ],
   "source": [
    "dfEndOfInventory.columns"
   ]
  },
  {
   "cell_type": "code",
   "execution_count": 18,
   "metadata": {},
   "outputs": [
    {
     "data": {
      "text/plain": [
       "InventoryId     object\n",
       "Store            int64\n",
       "City            object\n",
       "Brand            int64\n",
       "Description     object\n",
       "Size            object\n",
       "onHand           int64\n",
       "Price          float64\n",
       "endDate         object\n",
       "dtype: object"
      ]
     },
     "execution_count": 18,
     "metadata": {},
     "output_type": "execute_result"
    }
   ],
   "source": [
    "dfEndOfInventory.dtypes"
   ]
  },
  {
   "cell_type": "markdown",
   "metadata": {},
   "source": [
    "### Changing name of column, then converting date time columns to date time data types"
   ]
  },
  {
   "cell_type": "code",
   "execution_count": 19,
   "metadata": {},
   "outputs": [],
   "source": [
    "dfEndOfInventory.rename(columns = {'endDate':'EndDate'}, inplace = True)\n",
    "dfEndOfInventory[\"EndDate\"] = pd.to_datetime(dfEndOfInventory[\"EndDate\"])\n"
   ]
  },
  {
   "cell_type": "code",
   "execution_count": 20,
   "metadata": {},
   "outputs": [
    {
     "data": {
      "text/plain": [
       "InventoryId            object\n",
       "Store                   int64\n",
       "City                   object\n",
       "Brand                   int64\n",
       "Description            object\n",
       "Size                   object\n",
       "onHand                  int64\n",
       "Price                 float64\n",
       "EndDate        datetime64[ns]\n",
       "dtype: object"
      ]
     },
     "execution_count": 20,
     "metadata": {},
     "output_type": "execute_result"
    }
   ],
   "source": [
    "dfEndOfInventory.dtypes"
   ]
  },
  {
   "cell_type": "markdown",
   "metadata": {},
   "source": [
    "### Removing NULL values from DataFrame"
   ]
  },
  {
   "cell_type": "code",
   "execution_count": 21,
   "metadata": {},
   "outputs": [],
   "source": [
    "dfEndOfInventory = dfEndOfInventory.dropna()"
   ]
  },
  {
   "cell_type": "markdown",
   "metadata": {},
   "source": [
    "### Browsing final dataframe"
   ]
  },
  {
   "cell_type": "code",
   "execution_count": 22,
   "metadata": {},
   "outputs": [
    {
     "data": {
      "text/html": [
       "<div>\n",
       "<style scoped>\n",
       "    .dataframe tbody tr th:only-of-type {\n",
       "        vertical-align: middle;\n",
       "    }\n",
       "\n",
       "    .dataframe tbody tr th {\n",
       "        vertical-align: top;\n",
       "    }\n",
       "\n",
       "    .dataframe thead th {\n",
       "        text-align: right;\n",
       "    }\n",
       "</style>\n",
       "<table border=\"1\" class=\"dataframe\">\n",
       "  <thead>\n",
       "    <tr style=\"text-align: right;\">\n",
       "      <th></th>\n",
       "      <th>InventoryId</th>\n",
       "      <th>Store</th>\n",
       "      <th>City</th>\n",
       "      <th>Brand</th>\n",
       "      <th>Description</th>\n",
       "      <th>Size</th>\n",
       "      <th>onHand</th>\n",
       "      <th>Price</th>\n",
       "      <th>EndDate</th>\n",
       "    </tr>\n",
       "  </thead>\n",
       "  <tbody>\n",
       "    <tr>\n",
       "      <th>0</th>\n",
       "      <td>1_HARDERSFIELD_58</td>\n",
       "      <td>1</td>\n",
       "      <td>HARDERSFIELD</td>\n",
       "      <td>58</td>\n",
       "      <td>Gekkeikan Black &amp; Gold Sake</td>\n",
       "      <td>750mL</td>\n",
       "      <td>11</td>\n",
       "      <td>12.99</td>\n",
       "      <td>2016-12-31</td>\n",
       "    </tr>\n",
       "    <tr>\n",
       "      <th>1</th>\n",
       "      <td>1_HARDERSFIELD_62</td>\n",
       "      <td>1</td>\n",
       "      <td>HARDERSFIELD</td>\n",
       "      <td>62</td>\n",
       "      <td>Herradura Silver Tequila</td>\n",
       "      <td>750mL</td>\n",
       "      <td>7</td>\n",
       "      <td>36.99</td>\n",
       "      <td>2016-12-31</td>\n",
       "    </tr>\n",
       "    <tr>\n",
       "      <th>2</th>\n",
       "      <td>1_HARDERSFIELD_63</td>\n",
       "      <td>1</td>\n",
       "      <td>HARDERSFIELD</td>\n",
       "      <td>63</td>\n",
       "      <td>Herradura Reposado Tequila</td>\n",
       "      <td>750mL</td>\n",
       "      <td>7</td>\n",
       "      <td>38.99</td>\n",
       "      <td>2016-12-31</td>\n",
       "    </tr>\n",
       "    <tr>\n",
       "      <th>3</th>\n",
       "      <td>1_HARDERSFIELD_72</td>\n",
       "      <td>1</td>\n",
       "      <td>HARDERSFIELD</td>\n",
       "      <td>72</td>\n",
       "      <td>No. 3 London Dry Gin</td>\n",
       "      <td>750mL</td>\n",
       "      <td>4</td>\n",
       "      <td>34.99</td>\n",
       "      <td>2016-12-31</td>\n",
       "    </tr>\n",
       "    <tr>\n",
       "      <th>4</th>\n",
       "      <td>1_HARDERSFIELD_75</td>\n",
       "      <td>1</td>\n",
       "      <td>HARDERSFIELD</td>\n",
       "      <td>75</td>\n",
       "      <td>Three Olives Tomato Vodka</td>\n",
       "      <td>750mL</td>\n",
       "      <td>7</td>\n",
       "      <td>14.99</td>\n",
       "      <td>2016-12-31</td>\n",
       "    </tr>\n",
       "    <tr>\n",
       "      <th>...</th>\n",
       "      <td>...</td>\n",
       "      <td>...</td>\n",
       "      <td>...</td>\n",
       "      <td>...</td>\n",
       "      <td>...</td>\n",
       "      <td>...</td>\n",
       "      <td>...</td>\n",
       "      <td>...</td>\n",
       "      <td>...</td>\n",
       "    </tr>\n",
       "    <tr>\n",
       "      <th>224484</th>\n",
       "      <td>81_PEMBROKE_90087</td>\n",
       "      <td>81</td>\n",
       "      <td>PEMBROKE</td>\n",
       "      <td>90087</td>\n",
       "      <td>Ch Mouton Rothschild 12 Paui</td>\n",
       "      <td>750mL</td>\n",
       "      <td>3</td>\n",
       "      <td>469.99</td>\n",
       "      <td>2016-12-31</td>\n",
       "    </tr>\n",
       "    <tr>\n",
       "      <th>224485</th>\n",
       "      <td>81_PEMBROKE_90088</td>\n",
       "      <td>81</td>\n",
       "      <td>PEMBROKE</td>\n",
       "      <td>90088</td>\n",
       "      <td>Ch Le Petite Mouton 12 Pauil</td>\n",
       "      <td>750mL</td>\n",
       "      <td>3</td>\n",
       "      <td>134.99</td>\n",
       "      <td>2016-12-31</td>\n",
       "    </tr>\n",
       "    <tr>\n",
       "      <th>224486</th>\n",
       "      <td>81_PEMBROKE_90089</td>\n",
       "      <td>81</td>\n",
       "      <td>PEMBROKE</td>\n",
       "      <td>90089</td>\n",
       "      <td>Ch Lynch Bages 12 Pauillac</td>\n",
       "      <td>750mL</td>\n",
       "      <td>3</td>\n",
       "      <td>119.99</td>\n",
       "      <td>2016-12-31</td>\n",
       "    </tr>\n",
       "    <tr>\n",
       "      <th>224487</th>\n",
       "      <td>81_PEMBROKE_90090</td>\n",
       "      <td>81</td>\n",
       "      <td>PEMBROKE</td>\n",
       "      <td>90090</td>\n",
       "      <td>Ch Lafite Rothschild 12</td>\n",
       "      <td>750mL</td>\n",
       "      <td>3</td>\n",
       "      <td>649.99</td>\n",
       "      <td>2016-12-31</td>\n",
       "    </tr>\n",
       "    <tr>\n",
       "      <th>224488</th>\n",
       "      <td>81_PEMBROKE_90604</td>\n",
       "      <td>81</td>\n",
       "      <td>PEMBROKE</td>\n",
       "      <td>90604</td>\n",
       "      <td>Ch Lynch Bages Pauilac</td>\n",
       "      <td>750mL</td>\n",
       "      <td>2</td>\n",
       "      <td>119.99</td>\n",
       "      <td>2016-12-31</td>\n",
       "    </tr>\n",
       "  </tbody>\n",
       "</table>\n",
       "<p>223205 rows × 9 columns</p>\n",
       "</div>"
      ],
      "text/plain": [
       "              InventoryId  Store          City  Brand  \\\n",
       "0       1_HARDERSFIELD_58      1  HARDERSFIELD     58   \n",
       "1       1_HARDERSFIELD_62      1  HARDERSFIELD     62   \n",
       "2       1_HARDERSFIELD_63      1  HARDERSFIELD     63   \n",
       "3       1_HARDERSFIELD_72      1  HARDERSFIELD     72   \n",
       "4       1_HARDERSFIELD_75      1  HARDERSFIELD     75   \n",
       "...                   ...    ...           ...    ...   \n",
       "224484  81_PEMBROKE_90087     81      PEMBROKE  90087   \n",
       "224485  81_PEMBROKE_90088     81      PEMBROKE  90088   \n",
       "224486  81_PEMBROKE_90089     81      PEMBROKE  90089   \n",
       "224487  81_PEMBROKE_90090     81      PEMBROKE  90090   \n",
       "224488  81_PEMBROKE_90604     81      PEMBROKE  90604   \n",
       "\n",
       "                         Description   Size  onHand   Price    EndDate  \n",
       "0        Gekkeikan Black & Gold Sake  750mL      11   12.99 2016-12-31  \n",
       "1           Herradura Silver Tequila  750mL       7   36.99 2016-12-31  \n",
       "2         Herradura Reposado Tequila  750mL       7   38.99 2016-12-31  \n",
       "3               No. 3 London Dry Gin  750mL       4   34.99 2016-12-31  \n",
       "4          Three Olives Tomato Vodka  750mL       7   14.99 2016-12-31  \n",
       "...                              ...    ...     ...     ...        ...  \n",
       "224484  Ch Mouton Rothschild 12 Paui  750mL       3  469.99 2016-12-31  \n",
       "224485  Ch Le Petite Mouton 12 Pauil  750mL       3  134.99 2016-12-31  \n",
       "224486    Ch Lynch Bages 12 Pauillac  750mL       3  119.99 2016-12-31  \n",
       "224487       Ch Lafite Rothschild 12  750mL       3  649.99 2016-12-31  \n",
       "224488        Ch Lynch Bages Pauilac  750mL       2  119.99 2016-12-31  \n",
       "\n",
       "[223205 rows x 9 columns]"
      ]
     },
     "execution_count": 22,
     "metadata": {},
     "output_type": "execute_result"
    }
   ],
   "source": [
    "dfEndOfInventory"
   ]
  },
  {
   "cell_type": "markdown",
   "metadata": {},
   "source": [
    "### `dfInvoicePurchase`"
   ]
  },
  {
   "cell_type": "code",
   "execution_count": 23,
   "metadata": {},
   "outputs": [
    {
     "data": {
      "text/html": [
       "<div>\n",
       "<style scoped>\n",
       "    .dataframe tbody tr th:only-of-type {\n",
       "        vertical-align: middle;\n",
       "    }\n",
       "\n",
       "    .dataframe tbody tr th {\n",
       "        vertical-align: top;\n",
       "    }\n",
       "\n",
       "    .dataframe thead th {\n",
       "        text-align: right;\n",
       "    }\n",
       "</style>\n",
       "<table border=\"1\" class=\"dataframe\">\n",
       "  <thead>\n",
       "    <tr style=\"text-align: right;\">\n",
       "      <th></th>\n",
       "      <th>VendorNumber</th>\n",
       "      <th>VendorName</th>\n",
       "      <th>InvoiceDate</th>\n",
       "      <th>PONumber</th>\n",
       "      <th>PODate</th>\n",
       "      <th>PayDate</th>\n",
       "      <th>Quantity</th>\n",
       "      <th>Dollars</th>\n",
       "      <th>Freight</th>\n",
       "      <th>Approval</th>\n",
       "    </tr>\n",
       "  </thead>\n",
       "  <tbody>\n",
       "    <tr>\n",
       "      <th>0</th>\n",
       "      <td>105</td>\n",
       "      <td>ALTAMAR BRANDS LLC</td>\n",
       "      <td>2016-01-04</td>\n",
       "      <td>8124</td>\n",
       "      <td>2015-12-21</td>\n",
       "      <td>2016-02-16</td>\n",
       "      <td>6</td>\n",
       "      <td>214.26</td>\n",
       "      <td>3.47</td>\n",
       "      <td>NaN</td>\n",
       "    </tr>\n",
       "    <tr>\n",
       "      <th>1</th>\n",
       "      <td>4466</td>\n",
       "      <td>AMERICAN VINTAGE BEVERAGE</td>\n",
       "      <td>2016-01-07</td>\n",
       "      <td>8137</td>\n",
       "      <td>2015-12-22</td>\n",
       "      <td>2016-02-21</td>\n",
       "      <td>15</td>\n",
       "      <td>140.55</td>\n",
       "      <td>8.57</td>\n",
       "      <td>NaN</td>\n",
       "    </tr>\n",
       "    <tr>\n",
       "      <th>2</th>\n",
       "      <td>388</td>\n",
       "      <td>ATLANTIC IMPORTING COMPANY</td>\n",
       "      <td>2016-01-09</td>\n",
       "      <td>8169</td>\n",
       "      <td>2015-12-24</td>\n",
       "      <td>2016-02-16</td>\n",
       "      <td>5</td>\n",
       "      <td>106.60</td>\n",
       "      <td>4.61</td>\n",
       "      <td>NaN</td>\n",
       "    </tr>\n",
       "    <tr>\n",
       "      <th>3</th>\n",
       "      <td>480</td>\n",
       "      <td>BACARDI USA INC</td>\n",
       "      <td>2016-01-12</td>\n",
       "      <td>8106</td>\n",
       "      <td>2015-12-20</td>\n",
       "      <td>2016-02-05</td>\n",
       "      <td>10100</td>\n",
       "      <td>137483.78</td>\n",
       "      <td>2935.20</td>\n",
       "      <td>NaN</td>\n",
       "    </tr>\n",
       "    <tr>\n",
       "      <th>4</th>\n",
       "      <td>516</td>\n",
       "      <td>BANFI PRODUCTS CORP</td>\n",
       "      <td>2016-01-07</td>\n",
       "      <td>8170</td>\n",
       "      <td>2015-12-24</td>\n",
       "      <td>2016-02-12</td>\n",
       "      <td>1935</td>\n",
       "      <td>15527.25</td>\n",
       "      <td>429.20</td>\n",
       "      <td>NaN</td>\n",
       "    </tr>\n",
       "    <tr>\n",
       "      <th>...</th>\n",
       "      <td>...</td>\n",
       "      <td>...</td>\n",
       "      <td>...</td>\n",
       "      <td>...</td>\n",
       "      <td>...</td>\n",
       "      <td>...</td>\n",
       "      <td>...</td>\n",
       "      <td>...</td>\n",
       "      <td>...</td>\n",
       "      <td>...</td>\n",
       "    </tr>\n",
       "    <tr>\n",
       "      <th>5538</th>\n",
       "      <td>9622</td>\n",
       "      <td>WEIN BAUER INC</td>\n",
       "      <td>2017-01-06</td>\n",
       "      <td>13626</td>\n",
       "      <td>2016-12-21</td>\n",
       "      <td>2017-02-10</td>\n",
       "      <td>90</td>\n",
       "      <td>1563.00</td>\n",
       "      <td>8.60</td>\n",
       "      <td>NaN</td>\n",
       "    </tr>\n",
       "    <tr>\n",
       "      <th>5539</th>\n",
       "      <td>9625</td>\n",
       "      <td>WESTERN SPIRITS BEVERAGE CO</td>\n",
       "      <td>2017-01-10</td>\n",
       "      <td>13661</td>\n",
       "      <td>2016-12-23</td>\n",
       "      <td>2017-02-18</td>\n",
       "      <td>4617</td>\n",
       "      <td>37300.48</td>\n",
       "      <td>186.50</td>\n",
       "      <td>NaN</td>\n",
       "    </tr>\n",
       "    <tr>\n",
       "      <th>5540</th>\n",
       "      <td>3664</td>\n",
       "      <td>WILLIAM GRANT &amp; SONS INC</td>\n",
       "      <td>2017-01-02</td>\n",
       "      <td>13643</td>\n",
       "      <td>2016-12-22</td>\n",
       "      <td>2017-02-04</td>\n",
       "      <td>9848</td>\n",
       "      <td>202815.78</td>\n",
       "      <td>932.95</td>\n",
       "      <td>NaN</td>\n",
       "    </tr>\n",
       "    <tr>\n",
       "      <th>5541</th>\n",
       "      <td>9815</td>\n",
       "      <td>WINE GROUP INC</td>\n",
       "      <td>2017-01-03</td>\n",
       "      <td>13602</td>\n",
       "      <td>2016-12-20</td>\n",
       "      <td>2017-02-08</td>\n",
       "      <td>24747</td>\n",
       "      <td>149007.56</td>\n",
       "      <td>819.54</td>\n",
       "      <td>NaN</td>\n",
       "    </tr>\n",
       "    <tr>\n",
       "      <th>5542</th>\n",
       "      <td>90058</td>\n",
       "      <td>ZORVINO VINEYARDS</td>\n",
       "      <td>2017-01-05</td>\n",
       "      <td>13574</td>\n",
       "      <td>2016-12-18</td>\n",
       "      <td>2017-02-12</td>\n",
       "      <td>437</td>\n",
       "      <td>3608.11</td>\n",
       "      <td>16.60</td>\n",
       "      <td>NaN</td>\n",
       "    </tr>\n",
       "  </tbody>\n",
       "</table>\n",
       "<p>5543 rows × 10 columns</p>\n",
       "</div>"
      ],
      "text/plain": [
       "      VendorNumber                   VendorName InvoiceDate  PONumber  \\\n",
       "0              105  ALTAMAR BRANDS LLC           2016-01-04      8124   \n",
       "1             4466  AMERICAN VINTAGE BEVERAGE    2016-01-07      8137   \n",
       "2              388  ATLANTIC IMPORTING COMPANY   2016-01-09      8169   \n",
       "3              480  BACARDI USA INC              2016-01-12      8106   \n",
       "4              516  BANFI PRODUCTS CORP          2016-01-07      8170   \n",
       "...            ...                          ...         ...       ...   \n",
       "5538          9622  WEIN BAUER INC               2017-01-06     13626   \n",
       "5539          9625  WESTERN SPIRITS BEVERAGE CO  2017-01-10     13661   \n",
       "5540          3664  WILLIAM GRANT & SONS INC     2017-01-02     13643   \n",
       "5541          9815  WINE GROUP INC               2017-01-03     13602   \n",
       "5542         90058  ZORVINO VINEYARDS            2017-01-05     13574   \n",
       "\n",
       "          PODate     PayDate  Quantity    Dollars  Freight Approval  \n",
       "0     2015-12-21  2016-02-16         6     214.26     3.47      NaN  \n",
       "1     2015-12-22  2016-02-21        15     140.55     8.57      NaN  \n",
       "2     2015-12-24  2016-02-16         5     106.60     4.61      NaN  \n",
       "3     2015-12-20  2016-02-05     10100  137483.78  2935.20      NaN  \n",
       "4     2015-12-24  2016-02-12      1935   15527.25   429.20      NaN  \n",
       "...          ...         ...       ...        ...      ...      ...  \n",
       "5538  2016-12-21  2017-02-10        90    1563.00     8.60      NaN  \n",
       "5539  2016-12-23  2017-02-18      4617   37300.48   186.50      NaN  \n",
       "5540  2016-12-22  2017-02-04      9848  202815.78   932.95      NaN  \n",
       "5541  2016-12-20  2017-02-08     24747  149007.56   819.54      NaN  \n",
       "5542  2016-12-18  2017-02-12       437    3608.11    16.60      NaN  \n",
       "\n",
       "[5543 rows x 10 columns]"
      ]
     },
     "execution_count": 23,
     "metadata": {},
     "output_type": "execute_result"
    }
   ],
   "source": [
    "dfInvoicePurchase"
   ]
  },
  {
   "cell_type": "code",
   "execution_count": 24,
   "metadata": {},
   "outputs": [
    {
     "data": {
      "text/plain": [
       "Index(['VendorNumber', 'VendorName', 'InvoiceDate', 'PONumber', 'PODate',\n",
       "       'PayDate', 'Quantity', 'Dollars', 'Freight', 'Approval'],\n",
       "      dtype='object')"
      ]
     },
     "execution_count": 24,
     "metadata": {},
     "output_type": "execute_result"
    }
   ],
   "source": [
    "dfInvoicePurchase.columns"
   ]
  },
  {
   "cell_type": "code",
   "execution_count": 25,
   "metadata": {},
   "outputs": [
    {
     "data": {
      "text/plain": [
       "VendorNumber      int64\n",
       "VendorName       object\n",
       "InvoiceDate      object\n",
       "PONumber          int64\n",
       "PODate           object\n",
       "PayDate          object\n",
       "Quantity          int64\n",
       "Dollars         float64\n",
       "Freight         float64\n",
       "Approval         object\n",
       "dtype: object"
      ]
     },
     "execution_count": 25,
     "metadata": {},
     "output_type": "execute_result"
    }
   ],
   "source": [
    "dfInvoicePurchase.dtypes"
   ]
  },
  {
   "cell_type": "markdown",
   "metadata": {},
   "source": [
    "### Converting date time columns to date time data types"
   ]
  },
  {
   "cell_type": "code",
   "execution_count": 26,
   "metadata": {},
   "outputs": [],
   "source": [
    "dfInvoicePurchase[\"InvoiceDate\"] = pd.to_datetime(dfInvoicePurchase[\"InvoiceDate\"])\n",
    "dfInvoicePurchase[\"PODate\"] = pd.to_datetime(dfInvoicePurchase[\"PODate\"])\n",
    "dfInvoicePurchase[\"PayDate\"] = pd.to_datetime(dfInvoicePurchase[\"PayDate\"])"
   ]
  },
  {
   "cell_type": "code",
   "execution_count": 27,
   "metadata": {},
   "outputs": [
    {
     "data": {
      "text/plain": [
       "VendorNumber             int64\n",
       "VendorName              object\n",
       "InvoiceDate     datetime64[ns]\n",
       "PONumber                 int64\n",
       "PODate          datetime64[ns]\n",
       "PayDate         datetime64[ns]\n",
       "Quantity                 int64\n",
       "Dollars                float64\n",
       "Freight                float64\n",
       "Approval                object\n",
       "dtype: object"
      ]
     },
     "execution_count": 27,
     "metadata": {},
     "output_type": "execute_result"
    }
   ],
   "source": [
    "dfInvoicePurchase.dtypes"
   ]
  },
  {
   "cell_type": "markdown",
   "metadata": {},
   "source": [
    "### Browsing final dataframe"
   ]
  },
  {
   "cell_type": "code",
   "execution_count": 28,
   "metadata": {},
   "outputs": [
    {
     "data": {
      "text/html": [
       "<div>\n",
       "<style scoped>\n",
       "    .dataframe tbody tr th:only-of-type {\n",
       "        vertical-align: middle;\n",
       "    }\n",
       "\n",
       "    .dataframe tbody tr th {\n",
       "        vertical-align: top;\n",
       "    }\n",
       "\n",
       "    .dataframe thead th {\n",
       "        text-align: right;\n",
       "    }\n",
       "</style>\n",
       "<table border=\"1\" class=\"dataframe\">\n",
       "  <thead>\n",
       "    <tr style=\"text-align: right;\">\n",
       "      <th></th>\n",
       "      <th>VendorNumber</th>\n",
       "      <th>VendorName</th>\n",
       "      <th>InvoiceDate</th>\n",
       "      <th>PONumber</th>\n",
       "      <th>PODate</th>\n",
       "      <th>PayDate</th>\n",
       "      <th>Quantity</th>\n",
       "      <th>Dollars</th>\n",
       "      <th>Freight</th>\n",
       "      <th>Approval</th>\n",
       "    </tr>\n",
       "  </thead>\n",
       "  <tbody>\n",
       "    <tr>\n",
       "      <th>0</th>\n",
       "      <td>105</td>\n",
       "      <td>ALTAMAR BRANDS LLC</td>\n",
       "      <td>2016-01-04</td>\n",
       "      <td>8124</td>\n",
       "      <td>2015-12-21</td>\n",
       "      <td>2016-02-16</td>\n",
       "      <td>6</td>\n",
       "      <td>214.26</td>\n",
       "      <td>3.47</td>\n",
       "      <td>NaN</td>\n",
       "    </tr>\n",
       "    <tr>\n",
       "      <th>1</th>\n",
       "      <td>4466</td>\n",
       "      <td>AMERICAN VINTAGE BEVERAGE</td>\n",
       "      <td>2016-01-07</td>\n",
       "      <td>8137</td>\n",
       "      <td>2015-12-22</td>\n",
       "      <td>2016-02-21</td>\n",
       "      <td>15</td>\n",
       "      <td>140.55</td>\n",
       "      <td>8.57</td>\n",
       "      <td>NaN</td>\n",
       "    </tr>\n",
       "    <tr>\n",
       "      <th>2</th>\n",
       "      <td>388</td>\n",
       "      <td>ATLANTIC IMPORTING COMPANY</td>\n",
       "      <td>2016-01-09</td>\n",
       "      <td>8169</td>\n",
       "      <td>2015-12-24</td>\n",
       "      <td>2016-02-16</td>\n",
       "      <td>5</td>\n",
       "      <td>106.60</td>\n",
       "      <td>4.61</td>\n",
       "      <td>NaN</td>\n",
       "    </tr>\n",
       "    <tr>\n",
       "      <th>3</th>\n",
       "      <td>480</td>\n",
       "      <td>BACARDI USA INC</td>\n",
       "      <td>2016-01-12</td>\n",
       "      <td>8106</td>\n",
       "      <td>2015-12-20</td>\n",
       "      <td>2016-02-05</td>\n",
       "      <td>10100</td>\n",
       "      <td>137483.78</td>\n",
       "      <td>2935.20</td>\n",
       "      <td>NaN</td>\n",
       "    </tr>\n",
       "    <tr>\n",
       "      <th>4</th>\n",
       "      <td>516</td>\n",
       "      <td>BANFI PRODUCTS CORP</td>\n",
       "      <td>2016-01-07</td>\n",
       "      <td>8170</td>\n",
       "      <td>2015-12-24</td>\n",
       "      <td>2016-02-12</td>\n",
       "      <td>1935</td>\n",
       "      <td>15527.25</td>\n",
       "      <td>429.20</td>\n",
       "      <td>NaN</td>\n",
       "    </tr>\n",
       "    <tr>\n",
       "      <th>...</th>\n",
       "      <td>...</td>\n",
       "      <td>...</td>\n",
       "      <td>...</td>\n",
       "      <td>...</td>\n",
       "      <td>...</td>\n",
       "      <td>...</td>\n",
       "      <td>...</td>\n",
       "      <td>...</td>\n",
       "      <td>...</td>\n",
       "      <td>...</td>\n",
       "    </tr>\n",
       "    <tr>\n",
       "      <th>5538</th>\n",
       "      <td>9622</td>\n",
       "      <td>WEIN BAUER INC</td>\n",
       "      <td>2017-01-06</td>\n",
       "      <td>13626</td>\n",
       "      <td>2016-12-21</td>\n",
       "      <td>2017-02-10</td>\n",
       "      <td>90</td>\n",
       "      <td>1563.00</td>\n",
       "      <td>8.60</td>\n",
       "      <td>NaN</td>\n",
       "    </tr>\n",
       "    <tr>\n",
       "      <th>5539</th>\n",
       "      <td>9625</td>\n",
       "      <td>WESTERN SPIRITS BEVERAGE CO</td>\n",
       "      <td>2017-01-10</td>\n",
       "      <td>13661</td>\n",
       "      <td>2016-12-23</td>\n",
       "      <td>2017-02-18</td>\n",
       "      <td>4617</td>\n",
       "      <td>37300.48</td>\n",
       "      <td>186.50</td>\n",
       "      <td>NaN</td>\n",
       "    </tr>\n",
       "    <tr>\n",
       "      <th>5540</th>\n",
       "      <td>3664</td>\n",
       "      <td>WILLIAM GRANT &amp; SONS INC</td>\n",
       "      <td>2017-01-02</td>\n",
       "      <td>13643</td>\n",
       "      <td>2016-12-22</td>\n",
       "      <td>2017-02-04</td>\n",
       "      <td>9848</td>\n",
       "      <td>202815.78</td>\n",
       "      <td>932.95</td>\n",
       "      <td>NaN</td>\n",
       "    </tr>\n",
       "    <tr>\n",
       "      <th>5541</th>\n",
       "      <td>9815</td>\n",
       "      <td>WINE GROUP INC</td>\n",
       "      <td>2017-01-03</td>\n",
       "      <td>13602</td>\n",
       "      <td>2016-12-20</td>\n",
       "      <td>2017-02-08</td>\n",
       "      <td>24747</td>\n",
       "      <td>149007.56</td>\n",
       "      <td>819.54</td>\n",
       "      <td>NaN</td>\n",
       "    </tr>\n",
       "    <tr>\n",
       "      <th>5542</th>\n",
       "      <td>90058</td>\n",
       "      <td>ZORVINO VINEYARDS</td>\n",
       "      <td>2017-01-05</td>\n",
       "      <td>13574</td>\n",
       "      <td>2016-12-18</td>\n",
       "      <td>2017-02-12</td>\n",
       "      <td>437</td>\n",
       "      <td>3608.11</td>\n",
       "      <td>16.60</td>\n",
       "      <td>NaN</td>\n",
       "    </tr>\n",
       "  </tbody>\n",
       "</table>\n",
       "<p>5543 rows × 10 columns</p>\n",
       "</div>"
      ],
      "text/plain": [
       "      VendorNumber                   VendorName InvoiceDate  PONumber  \\\n",
       "0              105  ALTAMAR BRANDS LLC           2016-01-04      8124   \n",
       "1             4466  AMERICAN VINTAGE BEVERAGE    2016-01-07      8137   \n",
       "2              388  ATLANTIC IMPORTING COMPANY   2016-01-09      8169   \n",
       "3              480  BACARDI USA INC              2016-01-12      8106   \n",
       "4              516  BANFI PRODUCTS CORP          2016-01-07      8170   \n",
       "...            ...                          ...         ...       ...   \n",
       "5538          9622  WEIN BAUER INC               2017-01-06     13626   \n",
       "5539          9625  WESTERN SPIRITS BEVERAGE CO  2017-01-10     13661   \n",
       "5540          3664  WILLIAM GRANT & SONS INC     2017-01-02     13643   \n",
       "5541          9815  WINE GROUP INC               2017-01-03     13602   \n",
       "5542         90058  ZORVINO VINEYARDS            2017-01-05     13574   \n",
       "\n",
       "         PODate    PayDate  Quantity    Dollars  Freight Approval  \n",
       "0    2015-12-21 2016-02-16         6     214.26     3.47      NaN  \n",
       "1    2015-12-22 2016-02-21        15     140.55     8.57      NaN  \n",
       "2    2015-12-24 2016-02-16         5     106.60     4.61      NaN  \n",
       "3    2015-12-20 2016-02-05     10100  137483.78  2935.20      NaN  \n",
       "4    2015-12-24 2016-02-12      1935   15527.25   429.20      NaN  \n",
       "...         ...        ...       ...        ...      ...      ...  \n",
       "5538 2016-12-21 2017-02-10        90    1563.00     8.60      NaN  \n",
       "5539 2016-12-23 2017-02-18      4617   37300.48   186.50      NaN  \n",
       "5540 2016-12-22 2017-02-04      9848  202815.78   932.95      NaN  \n",
       "5541 2016-12-20 2017-02-08     24747  149007.56   819.54      NaN  \n",
       "5542 2016-12-18 2017-02-12       437    3608.11    16.60      NaN  \n",
       "\n",
       "[5543 rows x 10 columns]"
      ]
     },
     "execution_count": 28,
     "metadata": {},
     "output_type": "execute_result"
    }
   ],
   "source": [
    "dfInvoicePurchase"
   ]
  },
  {
   "cell_type": "markdown",
   "metadata": {},
   "source": [
    "### Replacing NULL values to 0 in all columns"
   ]
  },
  {
   "cell_type": "code",
   "execution_count": 29,
   "metadata": {},
   "outputs": [],
   "source": [
    "dfInvoicePurchase = dfInvoicePurchase.fillna(0)"
   ]
  },
  {
   "cell_type": "markdown",
   "metadata": {},
   "source": [
    "### `dfFinalPurchase`"
   ]
  },
  {
   "cell_type": "code",
   "execution_count": 30,
   "metadata": {},
   "outputs": [
    {
     "data": {
      "text/html": [
       "<div>\n",
       "<style scoped>\n",
       "    .dataframe tbody tr th:only-of-type {\n",
       "        vertical-align: middle;\n",
       "    }\n",
       "\n",
       "    .dataframe tbody tr th {\n",
       "        vertical-align: top;\n",
       "    }\n",
       "\n",
       "    .dataframe thead th {\n",
       "        text-align: right;\n",
       "    }\n",
       "</style>\n",
       "<table border=\"1\" class=\"dataframe\">\n",
       "  <thead>\n",
       "    <tr style=\"text-align: right;\">\n",
       "      <th></th>\n",
       "      <th>InventoryId</th>\n",
       "      <th>Store</th>\n",
       "      <th>Brand</th>\n",
       "      <th>Description</th>\n",
       "      <th>Size</th>\n",
       "      <th>VendorNumber</th>\n",
       "      <th>VendorName</th>\n",
       "      <th>PONumber</th>\n",
       "      <th>PODate</th>\n",
       "      <th>ReceivingDate</th>\n",
       "      <th>InvoiceDate</th>\n",
       "      <th>PayDate</th>\n",
       "      <th>PurchasePrice</th>\n",
       "      <th>Quantity</th>\n",
       "      <th>Dollars</th>\n",
       "      <th>Classification</th>\n",
       "    </tr>\n",
       "  </thead>\n",
       "  <tbody>\n",
       "    <tr>\n",
       "      <th>0</th>\n",
       "      <td>69_MOUNTMEND_8412</td>\n",
       "      <td>69</td>\n",
       "      <td>8412</td>\n",
       "      <td>Tequila Ocho Plata Fresno</td>\n",
       "      <td>750mL</td>\n",
       "      <td>105</td>\n",
       "      <td>ALTAMAR BRANDS LLC</td>\n",
       "      <td>8124</td>\n",
       "      <td>2015-12-21</td>\n",
       "      <td>2016-01-02</td>\n",
       "      <td>2016-01-04</td>\n",
       "      <td>2016-02-16</td>\n",
       "      <td>35.71</td>\n",
       "      <td>6</td>\n",
       "      <td>214.26</td>\n",
       "      <td>1</td>\n",
       "    </tr>\n",
       "    <tr>\n",
       "      <th>1</th>\n",
       "      <td>30_CULCHETH_5255</td>\n",
       "      <td>30</td>\n",
       "      <td>5255</td>\n",
       "      <td>TGI Fridays Ultimte Mudslide</td>\n",
       "      <td>1.75L</td>\n",
       "      <td>4466</td>\n",
       "      <td>AMERICAN VINTAGE BEVERAGE</td>\n",
       "      <td>8137</td>\n",
       "      <td>2015-12-22</td>\n",
       "      <td>2016-01-01</td>\n",
       "      <td>2016-01-07</td>\n",
       "      <td>2016-02-21</td>\n",
       "      <td>9.35</td>\n",
       "      <td>4</td>\n",
       "      <td>37.40</td>\n",
       "      <td>1</td>\n",
       "    </tr>\n",
       "    <tr>\n",
       "      <th>2</th>\n",
       "      <td>34_PITMERDEN_5215</td>\n",
       "      <td>34</td>\n",
       "      <td>5215</td>\n",
       "      <td>TGI Fridays Long Island Iced</td>\n",
       "      <td>1.75L</td>\n",
       "      <td>4466</td>\n",
       "      <td>AMERICAN VINTAGE BEVERAGE</td>\n",
       "      <td>8137</td>\n",
       "      <td>2015-12-22</td>\n",
       "      <td>2016-01-02</td>\n",
       "      <td>2016-01-07</td>\n",
       "      <td>2016-02-21</td>\n",
       "      <td>9.41</td>\n",
       "      <td>5</td>\n",
       "      <td>47.05</td>\n",
       "      <td>1</td>\n",
       "    </tr>\n",
       "    <tr>\n",
       "      <th>3</th>\n",
       "      <td>1_HARDERSFIELD_5255</td>\n",
       "      <td>1</td>\n",
       "      <td>5255</td>\n",
       "      <td>TGI Fridays Ultimte Mudslide</td>\n",
       "      <td>1.75L</td>\n",
       "      <td>4466</td>\n",
       "      <td>AMERICAN VINTAGE BEVERAGE</td>\n",
       "      <td>8137</td>\n",
       "      <td>2015-12-22</td>\n",
       "      <td>2016-01-01</td>\n",
       "      <td>2016-01-07</td>\n",
       "      <td>2016-02-21</td>\n",
       "      <td>9.35</td>\n",
       "      <td>6</td>\n",
       "      <td>56.10</td>\n",
       "      <td>1</td>\n",
       "    </tr>\n",
       "    <tr>\n",
       "      <th>4</th>\n",
       "      <td>76_DONCASTER_2034</td>\n",
       "      <td>76</td>\n",
       "      <td>2034</td>\n",
       "      <td>Glendalough Double Barrel</td>\n",
       "      <td>750mL</td>\n",
       "      <td>388</td>\n",
       "      <td>ATLANTIC IMPORTING COMPANY</td>\n",
       "      <td>8169</td>\n",
       "      <td>2015-12-24</td>\n",
       "      <td>2016-01-02</td>\n",
       "      <td>2016-01-09</td>\n",
       "      <td>2016-02-16</td>\n",
       "      <td>21.32</td>\n",
       "      <td>5</td>\n",
       "      <td>106.60</td>\n",
       "      <td>1</td>\n",
       "    </tr>\n",
       "    <tr>\n",
       "      <th>...</th>\n",
       "      <td>...</td>\n",
       "      <td>...</td>\n",
       "      <td>...</td>\n",
       "      <td>...</td>\n",
       "      <td>...</td>\n",
       "      <td>...</td>\n",
       "      <td>...</td>\n",
       "      <td>...</td>\n",
       "      <td>...</td>\n",
       "      <td>...</td>\n",
       "      <td>...</td>\n",
       "      <td>...</td>\n",
       "      <td>...</td>\n",
       "      <td>...</td>\n",
       "      <td>...</td>\n",
       "      <td>...</td>\n",
       "    </tr>\n",
       "    <tr>\n",
       "      <th>2372469</th>\n",
       "      <td>49_GARIGILL_22298</td>\n",
       "      <td>49</td>\n",
       "      <td>22298</td>\n",
       "      <td>Zorvino Vyds Sangiovese</td>\n",
       "      <td>750mL</td>\n",
       "      <td>90058</td>\n",
       "      <td>ZORVINO VINEYARDS</td>\n",
       "      <td>13593</td>\n",
       "      <td>2016-12-19</td>\n",
       "      <td>2016-12-28</td>\n",
       "      <td>2017-01-09</td>\n",
       "      <td>2017-02-06</td>\n",
       "      <td>8.06</td>\n",
       "      <td>12</td>\n",
       "      <td>96.72</td>\n",
       "      <td>2</td>\n",
       "    </tr>\n",
       "    <tr>\n",
       "      <th>2372470</th>\n",
       "      <td>1_HARDERSFIELD_19556</td>\n",
       "      <td>1</td>\n",
       "      <td>19556</td>\n",
       "      <td>Zorvino Bacca Z Blackberry</td>\n",
       "      <td>750mL</td>\n",
       "      <td>90058</td>\n",
       "      <td>ZORVINO VINEYARDS</td>\n",
       "      <td>13593</td>\n",
       "      <td>2016-12-19</td>\n",
       "      <td>2016-12-27</td>\n",
       "      <td>2017-01-09</td>\n",
       "      <td>2017-02-06</td>\n",
       "      <td>9.39</td>\n",
       "      <td>12</td>\n",
       "      <td>112.68</td>\n",
       "      <td>2</td>\n",
       "    </tr>\n",
       "    <tr>\n",
       "      <th>2372471</th>\n",
       "      <td>66_EANVERNESS_22297</td>\n",
       "      <td>66</td>\n",
       "      <td>22297</td>\n",
       "      <td>Zorvino Vyds Pearz</td>\n",
       "      <td>750mL</td>\n",
       "      <td>90058</td>\n",
       "      <td>ZORVINO VINEYARDS</td>\n",
       "      <td>13593</td>\n",
       "      <td>2016-12-19</td>\n",
       "      <td>2016-12-26</td>\n",
       "      <td>2017-01-09</td>\n",
       "      <td>2017-02-06</td>\n",
       "      <td>6.75</td>\n",
       "      <td>12</td>\n",
       "      <td>81.00</td>\n",
       "      <td>2</td>\n",
       "    </tr>\n",
       "    <tr>\n",
       "      <th>2372472</th>\n",
       "      <td>69_MOUNTMEND_19557</td>\n",
       "      <td>69</td>\n",
       "      <td>19557</td>\n",
       "      <td>Zorvino Fragole Z Strawberry</td>\n",
       "      <td>750mL</td>\n",
       "      <td>90058</td>\n",
       "      <td>ZORVINO VINEYARDS</td>\n",
       "      <td>13593</td>\n",
       "      <td>2016-12-19</td>\n",
       "      <td>2016-12-26</td>\n",
       "      <td>2017-01-09</td>\n",
       "      <td>2017-02-06</td>\n",
       "      <td>9.39</td>\n",
       "      <td>12</td>\n",
       "      <td>112.68</td>\n",
       "      <td>2</td>\n",
       "    </tr>\n",
       "    <tr>\n",
       "      <th>2372473</th>\n",
       "      <td>55_DRY GULCH_22298</td>\n",
       "      <td>55</td>\n",
       "      <td>22298</td>\n",
       "      <td>Zorvino Vyds Sangiovese</td>\n",
       "      <td>750mL</td>\n",
       "      <td>90058</td>\n",
       "      <td>ZORVINO VINEYARDS</td>\n",
       "      <td>13593</td>\n",
       "      <td>2016-12-19</td>\n",
       "      <td>2016-12-28</td>\n",
       "      <td>2017-01-09</td>\n",
       "      <td>2017-02-06</td>\n",
       "      <td>8.06</td>\n",
       "      <td>12</td>\n",
       "      <td>96.72</td>\n",
       "      <td>2</td>\n",
       "    </tr>\n",
       "  </tbody>\n",
       "</table>\n",
       "<p>2372474 rows × 16 columns</p>\n",
       "</div>"
      ],
      "text/plain": [
       "                  InventoryId  Store  Brand                   Description  \\\n",
       "0           69_MOUNTMEND_8412     69   8412     Tequila Ocho Plata Fresno   \n",
       "1            30_CULCHETH_5255     30   5255  TGI Fridays Ultimte Mudslide   \n",
       "2           34_PITMERDEN_5215     34   5215  TGI Fridays Long Island Iced   \n",
       "3         1_HARDERSFIELD_5255      1   5255  TGI Fridays Ultimte Mudslide   \n",
       "4           76_DONCASTER_2034     76   2034     Glendalough Double Barrel   \n",
       "...                       ...    ...    ...                           ...   \n",
       "2372469     49_GARIGILL_22298     49  22298       Zorvino Vyds Sangiovese   \n",
       "2372470  1_HARDERSFIELD_19556      1  19556    Zorvino Bacca Z Blackberry   \n",
       "2372471   66_EANVERNESS_22297     66  22297            Zorvino Vyds Pearz   \n",
       "2372472    69_MOUNTMEND_19557     69  19557  Zorvino Fragole Z Strawberry   \n",
       "2372473    55_DRY GULCH_22298     55  22298       Zorvino Vyds Sangiovese   \n",
       "\n",
       "          Size  VendorNumber                   VendorName  PONumber  \\\n",
       "0        750mL           105  ALTAMAR BRANDS LLC               8124   \n",
       "1        1.75L          4466  AMERICAN VINTAGE BEVERAGE        8137   \n",
       "2        1.75L          4466  AMERICAN VINTAGE BEVERAGE        8137   \n",
       "3        1.75L          4466  AMERICAN VINTAGE BEVERAGE        8137   \n",
       "4        750mL           388  ATLANTIC IMPORTING COMPANY       8169   \n",
       "...        ...           ...                          ...       ...   \n",
       "2372469  750mL         90058  ZORVINO VINEYARDS               13593   \n",
       "2372470  750mL         90058  ZORVINO VINEYARDS               13593   \n",
       "2372471  750mL         90058  ZORVINO VINEYARDS               13593   \n",
       "2372472  750mL         90058  ZORVINO VINEYARDS               13593   \n",
       "2372473  750mL         90058  ZORVINO VINEYARDS               13593   \n",
       "\n",
       "             PODate ReceivingDate InvoiceDate     PayDate  PurchasePrice  \\\n",
       "0        2015-12-21    2016-01-02  2016-01-04  2016-02-16          35.71   \n",
       "1        2015-12-22    2016-01-01  2016-01-07  2016-02-21           9.35   \n",
       "2        2015-12-22    2016-01-02  2016-01-07  2016-02-21           9.41   \n",
       "3        2015-12-22    2016-01-01  2016-01-07  2016-02-21           9.35   \n",
       "4        2015-12-24    2016-01-02  2016-01-09  2016-02-16          21.32   \n",
       "...             ...           ...         ...         ...            ...   \n",
       "2372469  2016-12-19    2016-12-28  2017-01-09  2017-02-06           8.06   \n",
       "2372470  2016-12-19    2016-12-27  2017-01-09  2017-02-06           9.39   \n",
       "2372471  2016-12-19    2016-12-26  2017-01-09  2017-02-06           6.75   \n",
       "2372472  2016-12-19    2016-12-26  2017-01-09  2017-02-06           9.39   \n",
       "2372473  2016-12-19    2016-12-28  2017-01-09  2017-02-06           8.06   \n",
       "\n",
       "         Quantity  Dollars  Classification  \n",
       "0               6   214.26               1  \n",
       "1               4    37.40               1  \n",
       "2               5    47.05               1  \n",
       "3               6    56.10               1  \n",
       "4               5   106.60               1  \n",
       "...           ...      ...             ...  \n",
       "2372469        12    96.72               2  \n",
       "2372470        12   112.68               2  \n",
       "2372471        12    81.00               2  \n",
       "2372472        12   112.68               2  \n",
       "2372473        12    96.72               2  \n",
       "\n",
       "[2372474 rows x 16 columns]"
      ]
     },
     "execution_count": 30,
     "metadata": {},
     "output_type": "execute_result"
    }
   ],
   "source": [
    "dfFinalPurchase"
   ]
  },
  {
   "cell_type": "code",
   "execution_count": 31,
   "metadata": {},
   "outputs": [
    {
     "data": {
      "text/plain": [
       "Index(['InventoryId', 'Store', 'Brand', 'Description', 'Size', 'VendorNumber',\n",
       "       'VendorName', 'PONumber', 'PODate', 'ReceivingDate', 'InvoiceDate',\n",
       "       'PayDate', 'PurchasePrice', 'Quantity', 'Dollars', 'Classification'],\n",
       "      dtype='object')"
      ]
     },
     "execution_count": 31,
     "metadata": {},
     "output_type": "execute_result"
    }
   ],
   "source": [
    "dfFinalPurchase.columns\n"
   ]
  },
  {
   "cell_type": "code",
   "execution_count": 32,
   "metadata": {},
   "outputs": [
    {
     "data": {
      "text/plain": [
       "InventoryId        object\n",
       "Store               int64\n",
       "Brand               int64\n",
       "Description        object\n",
       "Size               object\n",
       "VendorNumber        int64\n",
       "VendorName         object\n",
       "PONumber            int64\n",
       "PODate             object\n",
       "ReceivingDate      object\n",
       "InvoiceDate        object\n",
       "PayDate            object\n",
       "PurchasePrice     float64\n",
       "Quantity            int64\n",
       "Dollars           float64\n",
       "Classification      int64\n",
       "dtype: object"
      ]
     },
     "execution_count": 32,
     "metadata": {},
     "output_type": "execute_result"
    }
   ],
   "source": [
    "dfFinalPurchase.dtypes"
   ]
  },
  {
   "cell_type": "markdown",
   "metadata": {},
   "source": [
    "### Converting date time columns to date time data types"
   ]
  },
  {
   "cell_type": "code",
   "execution_count": 33,
   "metadata": {},
   "outputs": [],
   "source": [
    "dfFinalPurchase[\"PODate\"] = pd.to_datetime(dfFinalPurchase[\"PODate\"])\n",
    "dfFinalPurchase[\"ReceivingDate\"] = pd.to_datetime(dfFinalPurchase[\"ReceivingDate\"])\n",
    "dfFinalPurchase[\"InvoiceDate\"] = pd.to_datetime(dfFinalPurchase[\"InvoiceDate\"])\n",
    "dfFinalPurchase[\"PayDate\"] = pd.to_datetime(dfFinalPurchase[\"PayDate\"])"
   ]
  },
  {
   "cell_type": "code",
   "execution_count": 34,
   "metadata": {},
   "outputs": [
    {
     "data": {
      "text/plain": [
       "InventoryId               object\n",
       "Store                      int64\n",
       "Brand                      int64\n",
       "Description               object\n",
       "Size                      object\n",
       "VendorNumber               int64\n",
       "VendorName                object\n",
       "PONumber                   int64\n",
       "PODate            datetime64[ns]\n",
       "ReceivingDate     datetime64[ns]\n",
       "InvoiceDate       datetime64[ns]\n",
       "PayDate           datetime64[ns]\n",
       "PurchasePrice            float64\n",
       "Quantity                   int64\n",
       "Dollars                  float64\n",
       "Classification             int64\n",
       "dtype: object"
      ]
     },
     "execution_count": 34,
     "metadata": {},
     "output_type": "execute_result"
    }
   ],
   "source": [
    "dfFinalPurchase.dtypes"
   ]
  },
  {
   "cell_type": "markdown",
   "metadata": {},
   "source": [
    "### Removing NULL values from DataFrame"
   ]
  },
  {
   "cell_type": "code",
   "execution_count": 35,
   "metadata": {},
   "outputs": [],
   "source": [
    "dfFinalPurchase = dfFinalPurchase.dropna()"
   ]
  },
  {
   "cell_type": "markdown",
   "metadata": {},
   "source": [
    "### Browsing final dataframe"
   ]
  },
  {
   "cell_type": "code",
   "execution_count": 36,
   "metadata": {},
   "outputs": [
    {
     "data": {
      "text/html": [
       "<div>\n",
       "<style scoped>\n",
       "    .dataframe tbody tr th:only-of-type {\n",
       "        vertical-align: middle;\n",
       "    }\n",
       "\n",
       "    .dataframe tbody tr th {\n",
       "        vertical-align: top;\n",
       "    }\n",
       "\n",
       "    .dataframe thead th {\n",
       "        text-align: right;\n",
       "    }\n",
       "</style>\n",
       "<table border=\"1\" class=\"dataframe\">\n",
       "  <thead>\n",
       "    <tr style=\"text-align: right;\">\n",
       "      <th></th>\n",
       "      <th>InventoryId</th>\n",
       "      <th>Store</th>\n",
       "      <th>Brand</th>\n",
       "      <th>Description</th>\n",
       "      <th>Size</th>\n",
       "      <th>VendorNumber</th>\n",
       "      <th>VendorName</th>\n",
       "      <th>PONumber</th>\n",
       "      <th>PODate</th>\n",
       "      <th>ReceivingDate</th>\n",
       "      <th>InvoiceDate</th>\n",
       "      <th>PayDate</th>\n",
       "      <th>PurchasePrice</th>\n",
       "      <th>Quantity</th>\n",
       "      <th>Dollars</th>\n",
       "      <th>Classification</th>\n",
       "    </tr>\n",
       "  </thead>\n",
       "  <tbody>\n",
       "    <tr>\n",
       "      <th>0</th>\n",
       "      <td>69_MOUNTMEND_8412</td>\n",
       "      <td>69</td>\n",
       "      <td>8412</td>\n",
       "      <td>Tequila Ocho Plata Fresno</td>\n",
       "      <td>750mL</td>\n",
       "      <td>105</td>\n",
       "      <td>ALTAMAR BRANDS LLC</td>\n",
       "      <td>8124</td>\n",
       "      <td>2015-12-21</td>\n",
       "      <td>2016-01-02</td>\n",
       "      <td>2016-01-04</td>\n",
       "      <td>2016-02-16</td>\n",
       "      <td>35.71</td>\n",
       "      <td>6</td>\n",
       "      <td>214.26</td>\n",
       "      <td>1</td>\n",
       "    </tr>\n",
       "    <tr>\n",
       "      <th>1</th>\n",
       "      <td>30_CULCHETH_5255</td>\n",
       "      <td>30</td>\n",
       "      <td>5255</td>\n",
       "      <td>TGI Fridays Ultimte Mudslide</td>\n",
       "      <td>1.75L</td>\n",
       "      <td>4466</td>\n",
       "      <td>AMERICAN VINTAGE BEVERAGE</td>\n",
       "      <td>8137</td>\n",
       "      <td>2015-12-22</td>\n",
       "      <td>2016-01-01</td>\n",
       "      <td>2016-01-07</td>\n",
       "      <td>2016-02-21</td>\n",
       "      <td>9.35</td>\n",
       "      <td>4</td>\n",
       "      <td>37.40</td>\n",
       "      <td>1</td>\n",
       "    </tr>\n",
       "    <tr>\n",
       "      <th>2</th>\n",
       "      <td>34_PITMERDEN_5215</td>\n",
       "      <td>34</td>\n",
       "      <td>5215</td>\n",
       "      <td>TGI Fridays Long Island Iced</td>\n",
       "      <td>1.75L</td>\n",
       "      <td>4466</td>\n",
       "      <td>AMERICAN VINTAGE BEVERAGE</td>\n",
       "      <td>8137</td>\n",
       "      <td>2015-12-22</td>\n",
       "      <td>2016-01-02</td>\n",
       "      <td>2016-01-07</td>\n",
       "      <td>2016-02-21</td>\n",
       "      <td>9.41</td>\n",
       "      <td>5</td>\n",
       "      <td>47.05</td>\n",
       "      <td>1</td>\n",
       "    </tr>\n",
       "    <tr>\n",
       "      <th>3</th>\n",
       "      <td>1_HARDERSFIELD_5255</td>\n",
       "      <td>1</td>\n",
       "      <td>5255</td>\n",
       "      <td>TGI Fridays Ultimte Mudslide</td>\n",
       "      <td>1.75L</td>\n",
       "      <td>4466</td>\n",
       "      <td>AMERICAN VINTAGE BEVERAGE</td>\n",
       "      <td>8137</td>\n",
       "      <td>2015-12-22</td>\n",
       "      <td>2016-01-01</td>\n",
       "      <td>2016-01-07</td>\n",
       "      <td>2016-02-21</td>\n",
       "      <td>9.35</td>\n",
       "      <td>6</td>\n",
       "      <td>56.10</td>\n",
       "      <td>1</td>\n",
       "    </tr>\n",
       "    <tr>\n",
       "      <th>4</th>\n",
       "      <td>76_DONCASTER_2034</td>\n",
       "      <td>76</td>\n",
       "      <td>2034</td>\n",
       "      <td>Glendalough Double Barrel</td>\n",
       "      <td>750mL</td>\n",
       "      <td>388</td>\n",
       "      <td>ATLANTIC IMPORTING COMPANY</td>\n",
       "      <td>8169</td>\n",
       "      <td>2015-12-24</td>\n",
       "      <td>2016-01-02</td>\n",
       "      <td>2016-01-09</td>\n",
       "      <td>2016-02-16</td>\n",
       "      <td>21.32</td>\n",
       "      <td>5</td>\n",
       "      <td>106.60</td>\n",
       "      <td>1</td>\n",
       "    </tr>\n",
       "    <tr>\n",
       "      <th>...</th>\n",
       "      <td>...</td>\n",
       "      <td>...</td>\n",
       "      <td>...</td>\n",
       "      <td>...</td>\n",
       "      <td>...</td>\n",
       "      <td>...</td>\n",
       "      <td>...</td>\n",
       "      <td>...</td>\n",
       "      <td>...</td>\n",
       "      <td>...</td>\n",
       "      <td>...</td>\n",
       "      <td>...</td>\n",
       "      <td>...</td>\n",
       "      <td>...</td>\n",
       "      <td>...</td>\n",
       "      <td>...</td>\n",
       "    </tr>\n",
       "    <tr>\n",
       "      <th>2372469</th>\n",
       "      <td>49_GARIGILL_22298</td>\n",
       "      <td>49</td>\n",
       "      <td>22298</td>\n",
       "      <td>Zorvino Vyds Sangiovese</td>\n",
       "      <td>750mL</td>\n",
       "      <td>90058</td>\n",
       "      <td>ZORVINO VINEYARDS</td>\n",
       "      <td>13593</td>\n",
       "      <td>2016-12-19</td>\n",
       "      <td>2016-12-28</td>\n",
       "      <td>2017-01-09</td>\n",
       "      <td>2017-02-06</td>\n",
       "      <td>8.06</td>\n",
       "      <td>12</td>\n",
       "      <td>96.72</td>\n",
       "      <td>2</td>\n",
       "    </tr>\n",
       "    <tr>\n",
       "      <th>2372470</th>\n",
       "      <td>1_HARDERSFIELD_19556</td>\n",
       "      <td>1</td>\n",
       "      <td>19556</td>\n",
       "      <td>Zorvino Bacca Z Blackberry</td>\n",
       "      <td>750mL</td>\n",
       "      <td>90058</td>\n",
       "      <td>ZORVINO VINEYARDS</td>\n",
       "      <td>13593</td>\n",
       "      <td>2016-12-19</td>\n",
       "      <td>2016-12-27</td>\n",
       "      <td>2017-01-09</td>\n",
       "      <td>2017-02-06</td>\n",
       "      <td>9.39</td>\n",
       "      <td>12</td>\n",
       "      <td>112.68</td>\n",
       "      <td>2</td>\n",
       "    </tr>\n",
       "    <tr>\n",
       "      <th>2372471</th>\n",
       "      <td>66_EANVERNESS_22297</td>\n",
       "      <td>66</td>\n",
       "      <td>22297</td>\n",
       "      <td>Zorvino Vyds Pearz</td>\n",
       "      <td>750mL</td>\n",
       "      <td>90058</td>\n",
       "      <td>ZORVINO VINEYARDS</td>\n",
       "      <td>13593</td>\n",
       "      <td>2016-12-19</td>\n",
       "      <td>2016-12-26</td>\n",
       "      <td>2017-01-09</td>\n",
       "      <td>2017-02-06</td>\n",
       "      <td>6.75</td>\n",
       "      <td>12</td>\n",
       "      <td>81.00</td>\n",
       "      <td>2</td>\n",
       "    </tr>\n",
       "    <tr>\n",
       "      <th>2372472</th>\n",
       "      <td>69_MOUNTMEND_19557</td>\n",
       "      <td>69</td>\n",
       "      <td>19557</td>\n",
       "      <td>Zorvino Fragole Z Strawberry</td>\n",
       "      <td>750mL</td>\n",
       "      <td>90058</td>\n",
       "      <td>ZORVINO VINEYARDS</td>\n",
       "      <td>13593</td>\n",
       "      <td>2016-12-19</td>\n",
       "      <td>2016-12-26</td>\n",
       "      <td>2017-01-09</td>\n",
       "      <td>2017-02-06</td>\n",
       "      <td>9.39</td>\n",
       "      <td>12</td>\n",
       "      <td>112.68</td>\n",
       "      <td>2</td>\n",
       "    </tr>\n",
       "    <tr>\n",
       "      <th>2372473</th>\n",
       "      <td>55_DRY GULCH_22298</td>\n",
       "      <td>55</td>\n",
       "      <td>22298</td>\n",
       "      <td>Zorvino Vyds Sangiovese</td>\n",
       "      <td>750mL</td>\n",
       "      <td>90058</td>\n",
       "      <td>ZORVINO VINEYARDS</td>\n",
       "      <td>13593</td>\n",
       "      <td>2016-12-19</td>\n",
       "      <td>2016-12-28</td>\n",
       "      <td>2017-01-09</td>\n",
       "      <td>2017-02-06</td>\n",
       "      <td>8.06</td>\n",
       "      <td>12</td>\n",
       "      <td>96.72</td>\n",
       "      <td>2</td>\n",
       "    </tr>\n",
       "  </tbody>\n",
       "</table>\n",
       "<p>2372471 rows × 16 columns</p>\n",
       "</div>"
      ],
      "text/plain": [
       "                  InventoryId  Store  Brand                   Description  \\\n",
       "0           69_MOUNTMEND_8412     69   8412     Tequila Ocho Plata Fresno   \n",
       "1            30_CULCHETH_5255     30   5255  TGI Fridays Ultimte Mudslide   \n",
       "2           34_PITMERDEN_5215     34   5215  TGI Fridays Long Island Iced   \n",
       "3         1_HARDERSFIELD_5255      1   5255  TGI Fridays Ultimte Mudslide   \n",
       "4           76_DONCASTER_2034     76   2034     Glendalough Double Barrel   \n",
       "...                       ...    ...    ...                           ...   \n",
       "2372469     49_GARIGILL_22298     49  22298       Zorvino Vyds Sangiovese   \n",
       "2372470  1_HARDERSFIELD_19556      1  19556    Zorvino Bacca Z Blackberry   \n",
       "2372471   66_EANVERNESS_22297     66  22297            Zorvino Vyds Pearz   \n",
       "2372472    69_MOUNTMEND_19557     69  19557  Zorvino Fragole Z Strawberry   \n",
       "2372473    55_DRY GULCH_22298     55  22298       Zorvino Vyds Sangiovese   \n",
       "\n",
       "          Size  VendorNumber                   VendorName  PONumber  \\\n",
       "0        750mL           105  ALTAMAR BRANDS LLC               8124   \n",
       "1        1.75L          4466  AMERICAN VINTAGE BEVERAGE        8137   \n",
       "2        1.75L          4466  AMERICAN VINTAGE BEVERAGE        8137   \n",
       "3        1.75L          4466  AMERICAN VINTAGE BEVERAGE        8137   \n",
       "4        750mL           388  ATLANTIC IMPORTING COMPANY       8169   \n",
       "...        ...           ...                          ...       ...   \n",
       "2372469  750mL         90058  ZORVINO VINEYARDS               13593   \n",
       "2372470  750mL         90058  ZORVINO VINEYARDS               13593   \n",
       "2372471  750mL         90058  ZORVINO VINEYARDS               13593   \n",
       "2372472  750mL         90058  ZORVINO VINEYARDS               13593   \n",
       "2372473  750mL         90058  ZORVINO VINEYARDS               13593   \n",
       "\n",
       "            PODate ReceivingDate InvoiceDate    PayDate  PurchasePrice  \\\n",
       "0       2015-12-21    2016-01-02  2016-01-04 2016-02-16          35.71   \n",
       "1       2015-12-22    2016-01-01  2016-01-07 2016-02-21           9.35   \n",
       "2       2015-12-22    2016-01-02  2016-01-07 2016-02-21           9.41   \n",
       "3       2015-12-22    2016-01-01  2016-01-07 2016-02-21           9.35   \n",
       "4       2015-12-24    2016-01-02  2016-01-09 2016-02-16          21.32   \n",
       "...            ...           ...         ...        ...            ...   \n",
       "2372469 2016-12-19    2016-12-28  2017-01-09 2017-02-06           8.06   \n",
       "2372470 2016-12-19    2016-12-27  2017-01-09 2017-02-06           9.39   \n",
       "2372471 2016-12-19    2016-12-26  2017-01-09 2017-02-06           6.75   \n",
       "2372472 2016-12-19    2016-12-26  2017-01-09 2017-02-06           9.39   \n",
       "2372473 2016-12-19    2016-12-28  2017-01-09 2017-02-06           8.06   \n",
       "\n",
       "         Quantity  Dollars  Classification  \n",
       "0               6   214.26               1  \n",
       "1               4    37.40               1  \n",
       "2               5    47.05               1  \n",
       "3               6    56.10               1  \n",
       "4               5   106.60               1  \n",
       "...           ...      ...             ...  \n",
       "2372469        12    96.72               2  \n",
       "2372470        12   112.68               2  \n",
       "2372471        12    81.00               2  \n",
       "2372472        12   112.68               2  \n",
       "2372473        12    96.72               2  \n",
       "\n",
       "[2372471 rows x 16 columns]"
      ]
     },
     "execution_count": 36,
     "metadata": {},
     "output_type": "execute_result"
    }
   ],
   "source": [
    "dfFinalPurchase"
   ]
  },
  {
   "cell_type": "markdown",
   "metadata": {},
   "source": [
    "### `dfFinalSales`"
   ]
  },
  {
   "cell_type": "code",
   "execution_count": 37,
   "metadata": {},
   "outputs": [
    {
     "data": {
      "text/html": [
       "<div>\n",
       "<style scoped>\n",
       "    .dataframe tbody tr th:only-of-type {\n",
       "        vertical-align: middle;\n",
       "    }\n",
       "\n",
       "    .dataframe tbody tr th {\n",
       "        vertical-align: top;\n",
       "    }\n",
       "\n",
       "    .dataframe thead th {\n",
       "        text-align: right;\n",
       "    }\n",
       "</style>\n",
       "<table border=\"1\" class=\"dataframe\">\n",
       "  <thead>\n",
       "    <tr style=\"text-align: right;\">\n",
       "      <th></th>\n",
       "      <th>InventoryId</th>\n",
       "      <th>Store</th>\n",
       "      <th>Brand</th>\n",
       "      <th>Description</th>\n",
       "      <th>Size</th>\n",
       "      <th>SalesQuantity</th>\n",
       "      <th>SalesDollars</th>\n",
       "      <th>SalesPrice</th>\n",
       "      <th>SalesDate</th>\n",
       "      <th>Volume</th>\n",
       "      <th>Classification</th>\n",
       "      <th>ExciseTax</th>\n",
       "      <th>VendorNo</th>\n",
       "      <th>VendorName</th>\n",
       "    </tr>\n",
       "  </thead>\n",
       "  <tbody>\n",
       "    <tr>\n",
       "      <th>0</th>\n",
       "      <td>1_HARDERSFIELD_1004</td>\n",
       "      <td>1</td>\n",
       "      <td>1004</td>\n",
       "      <td>Jim Beam w/2 Rocks Glasses</td>\n",
       "      <td>750mL</td>\n",
       "      <td>1</td>\n",
       "      <td>16.49</td>\n",
       "      <td>16.49</td>\n",
       "      <td>1/1/2016</td>\n",
       "      <td>750</td>\n",
       "      <td>1</td>\n",
       "      <td>0.79</td>\n",
       "      <td>12546</td>\n",
       "      <td>JIM BEAM BRANDS COMPANY</td>\n",
       "    </tr>\n",
       "    <tr>\n",
       "      <th>1</th>\n",
       "      <td>1_HARDERSFIELD_1004</td>\n",
       "      <td>1</td>\n",
       "      <td>1004</td>\n",
       "      <td>Jim Beam w/2 Rocks Glasses</td>\n",
       "      <td>750mL</td>\n",
       "      <td>2</td>\n",
       "      <td>32.98</td>\n",
       "      <td>16.49</td>\n",
       "      <td>1/2/2016</td>\n",
       "      <td>750</td>\n",
       "      <td>1</td>\n",
       "      <td>1.57</td>\n",
       "      <td>12546</td>\n",
       "      <td>JIM BEAM BRANDS COMPANY</td>\n",
       "    </tr>\n",
       "    <tr>\n",
       "      <th>2</th>\n",
       "      <td>1_HARDERSFIELD_1004</td>\n",
       "      <td>1</td>\n",
       "      <td>1004</td>\n",
       "      <td>Jim Beam w/2 Rocks Glasses</td>\n",
       "      <td>750mL</td>\n",
       "      <td>1</td>\n",
       "      <td>16.49</td>\n",
       "      <td>16.49</td>\n",
       "      <td>1/3/2016</td>\n",
       "      <td>750</td>\n",
       "      <td>1</td>\n",
       "      <td>0.79</td>\n",
       "      <td>12546</td>\n",
       "      <td>JIM BEAM BRANDS COMPANY</td>\n",
       "    </tr>\n",
       "    <tr>\n",
       "      <th>3</th>\n",
       "      <td>1_HARDERSFIELD_1004</td>\n",
       "      <td>1</td>\n",
       "      <td>1004</td>\n",
       "      <td>Jim Beam w/2 Rocks Glasses</td>\n",
       "      <td>750mL</td>\n",
       "      <td>1</td>\n",
       "      <td>14.49</td>\n",
       "      <td>14.49</td>\n",
       "      <td>1/8/2016</td>\n",
       "      <td>750</td>\n",
       "      <td>1</td>\n",
       "      <td>0.79</td>\n",
       "      <td>12546</td>\n",
       "      <td>JIM BEAM BRANDS COMPANY</td>\n",
       "    </tr>\n",
       "    <tr>\n",
       "      <th>4</th>\n",
       "      <td>1_HARDERSFIELD_1005</td>\n",
       "      <td>1</td>\n",
       "      <td>1005</td>\n",
       "      <td>Maker's Mark Combo Pack</td>\n",
       "      <td>375mL 2 Pk</td>\n",
       "      <td>2</td>\n",
       "      <td>69.98</td>\n",
       "      <td>34.99</td>\n",
       "      <td>1/9/2016</td>\n",
       "      <td>375</td>\n",
       "      <td>1</td>\n",
       "      <td>0.79</td>\n",
       "      <td>12546</td>\n",
       "      <td>JIM BEAM BRANDS COMPANY</td>\n",
       "    </tr>\n",
       "    <tr>\n",
       "      <th>...</th>\n",
       "      <td>...</td>\n",
       "      <td>...</td>\n",
       "      <td>...</td>\n",
       "      <td>...</td>\n",
       "      <td>...</td>\n",
       "      <td>...</td>\n",
       "      <td>...</td>\n",
       "      <td>...</td>\n",
       "      <td>...</td>\n",
       "      <td>...</td>\n",
       "      <td>...</td>\n",
       "      <td>...</td>\n",
       "      <td>...</td>\n",
       "      <td>...</td>\n",
       "    </tr>\n",
       "    <tr>\n",
       "      <th>1048570</th>\n",
       "      <td>19_WINTERVALE_39384</td>\n",
       "      <td>19</td>\n",
       "      <td>39384</td>\n",
       "      <td>F Coppola Diamond Pnt Nr</td>\n",
       "      <td>750mL</td>\n",
       "      <td>4</td>\n",
       "      <td>51.80</td>\n",
       "      <td>12.95</td>\n",
       "      <td>2/12/2016</td>\n",
       "      <td>750</td>\n",
       "      <td>2</td>\n",
       "      <td>0.45</td>\n",
       "      <td>2000</td>\n",
       "      <td>SOUTHERN WINE &amp; SPIRITS NE</td>\n",
       "    </tr>\n",
       "    <tr>\n",
       "      <th>1048571</th>\n",
       "      <td>19_WINTERVALE_39384</td>\n",
       "      <td>19</td>\n",
       "      <td>39384</td>\n",
       "      <td>F Coppola Diamond Pnt Nr</td>\n",
       "      <td>750mL</td>\n",
       "      <td>8</td>\n",
       "      <td>103.60</td>\n",
       "      <td>12.95</td>\n",
       "      <td>2/13/2016</td>\n",
       "      <td>750</td>\n",
       "      <td>2</td>\n",
       "      <td>0.90</td>\n",
       "      <td>2000</td>\n",
       "      <td>SOUTHERN WINE &amp; SPIRITS NE</td>\n",
       "    </tr>\n",
       "    <tr>\n",
       "      <th>1048572</th>\n",
       "      <td>19_WINTERVALE_39384</td>\n",
       "      <td>19</td>\n",
       "      <td>39384</td>\n",
       "      <td>F Coppola Diamond Pnt Nr</td>\n",
       "      <td>750mL</td>\n",
       "      <td>1</td>\n",
       "      <td>12.95</td>\n",
       "      <td>12.95</td>\n",
       "      <td>2/19/2016</td>\n",
       "      <td>750</td>\n",
       "      <td>2</td>\n",
       "      <td>0.11</td>\n",
       "      <td>2000</td>\n",
       "      <td>SOUTHERN WINE &amp; SPIRITS NE</td>\n",
       "    </tr>\n",
       "    <tr>\n",
       "      <th>1048573</th>\n",
       "      <td>19_WINTERVALE_39384</td>\n",
       "      <td>19</td>\n",
       "      <td>39384</td>\n",
       "      <td>F Coppola Diamond Pnt Nr</td>\n",
       "      <td>750mL</td>\n",
       "      <td>3</td>\n",
       "      <td>38.85</td>\n",
       "      <td>12.95</td>\n",
       "      <td>2/22/2016</td>\n",
       "      <td>750</td>\n",
       "      <td>2</td>\n",
       "      <td>0.34</td>\n",
       "      <td>2000</td>\n",
       "      <td>SOUTHERN WINE &amp; SPIRITS NE</td>\n",
       "    </tr>\n",
       "    <tr>\n",
       "      <th>1048574</th>\n",
       "      <td>19_WINTERVALE_39384</td>\n",
       "      <td>19</td>\n",
       "      <td>39384</td>\n",
       "      <td>F Coppola Diamond Pnt Nr</td>\n",
       "      <td>750mL</td>\n",
       "      <td>2</td>\n",
       "      <td>25.90</td>\n",
       "      <td>12.95</td>\n",
       "      <td>2/24/2016</td>\n",
       "      <td>750</td>\n",
       "      <td>2</td>\n",
       "      <td>0.22</td>\n",
       "      <td>2000</td>\n",
       "      <td>SOUTHERN WINE &amp; SPIRITS NE</td>\n",
       "    </tr>\n",
       "  </tbody>\n",
       "</table>\n",
       "<p>1048575 rows × 14 columns</p>\n",
       "</div>"
      ],
      "text/plain": [
       "                 InventoryId  Store  Brand                 Description  \\\n",
       "0        1_HARDERSFIELD_1004      1   1004  Jim Beam w/2 Rocks Glasses   \n",
       "1        1_HARDERSFIELD_1004      1   1004  Jim Beam w/2 Rocks Glasses   \n",
       "2        1_HARDERSFIELD_1004      1   1004  Jim Beam w/2 Rocks Glasses   \n",
       "3        1_HARDERSFIELD_1004      1   1004  Jim Beam w/2 Rocks Glasses   \n",
       "4        1_HARDERSFIELD_1005      1   1005     Maker's Mark Combo Pack   \n",
       "...                      ...    ...    ...                         ...   \n",
       "1048570  19_WINTERVALE_39384     19  39384    F Coppola Diamond Pnt Nr   \n",
       "1048571  19_WINTERVALE_39384     19  39384    F Coppola Diamond Pnt Nr   \n",
       "1048572  19_WINTERVALE_39384     19  39384    F Coppola Diamond Pnt Nr   \n",
       "1048573  19_WINTERVALE_39384     19  39384    F Coppola Diamond Pnt Nr   \n",
       "1048574  19_WINTERVALE_39384     19  39384    F Coppola Diamond Pnt Nr   \n",
       "\n",
       "               Size  SalesQuantity  SalesDollars  SalesPrice  SalesDate  \\\n",
       "0             750mL              1         16.49       16.49   1/1/2016   \n",
       "1             750mL              2         32.98       16.49   1/2/2016   \n",
       "2             750mL              1         16.49       16.49   1/3/2016   \n",
       "3             750mL              1         14.49       14.49   1/8/2016   \n",
       "4        375mL 2 Pk              2         69.98       34.99   1/9/2016   \n",
       "...             ...            ...           ...         ...        ...   \n",
       "1048570       750mL              4         51.80       12.95  2/12/2016   \n",
       "1048571       750mL              8        103.60       12.95  2/13/2016   \n",
       "1048572       750mL              1         12.95       12.95  2/19/2016   \n",
       "1048573       750mL              3         38.85       12.95  2/22/2016   \n",
       "1048574       750mL              2         25.90       12.95  2/24/2016   \n",
       "\n",
       "         Volume  Classification  ExciseTax  VendorNo  \\\n",
       "0           750               1       0.79     12546   \n",
       "1           750               1       1.57     12546   \n",
       "2           750               1       0.79     12546   \n",
       "3           750               1       0.79     12546   \n",
       "4           375               1       0.79     12546   \n",
       "...         ...             ...        ...       ...   \n",
       "1048570     750               2       0.45      2000   \n",
       "1048571     750               2       0.90      2000   \n",
       "1048572     750               2       0.11      2000   \n",
       "1048573     750               2       0.34      2000   \n",
       "1048574     750               2       0.22      2000   \n",
       "\n",
       "                          VendorName  \n",
       "0        JIM BEAM BRANDS COMPANY      \n",
       "1        JIM BEAM BRANDS COMPANY      \n",
       "2        JIM BEAM BRANDS COMPANY      \n",
       "3        JIM BEAM BRANDS COMPANY      \n",
       "4        JIM BEAM BRANDS COMPANY      \n",
       "...                              ...  \n",
       "1048570  SOUTHERN WINE & SPIRITS NE   \n",
       "1048571  SOUTHERN WINE & SPIRITS NE   \n",
       "1048572  SOUTHERN WINE & SPIRITS NE   \n",
       "1048573  SOUTHERN WINE & SPIRITS NE   \n",
       "1048574  SOUTHERN WINE & SPIRITS NE   \n",
       "\n",
       "[1048575 rows x 14 columns]"
      ]
     },
     "execution_count": 37,
     "metadata": {},
     "output_type": "execute_result"
    }
   ],
   "source": [
    "dfFinalSales"
   ]
  },
  {
   "cell_type": "code",
   "execution_count": 38,
   "metadata": {},
   "outputs": [
    {
     "data": {
      "text/plain": [
       "Index(['InventoryId', 'Store', 'Brand', 'Description', 'Size', 'SalesQuantity',\n",
       "       'SalesDollars', 'SalesPrice', 'SalesDate', 'Volume', 'Classification',\n",
       "       'ExciseTax', 'VendorNo', 'VendorName'],\n",
       "      dtype='object')"
      ]
     },
     "execution_count": 38,
     "metadata": {},
     "output_type": "execute_result"
    }
   ],
   "source": [
    "dfFinalSales.columns"
   ]
  },
  {
   "cell_type": "code",
   "execution_count": 39,
   "metadata": {},
   "outputs": [
    {
     "data": {
      "text/plain": [
       "InventoryId        object\n",
       "Store               int64\n",
       "Brand               int64\n",
       "Description        object\n",
       "Size               object\n",
       "SalesQuantity       int64\n",
       "SalesDollars      float64\n",
       "SalesPrice        float64\n",
       "SalesDate          object\n",
       "Volume              int64\n",
       "Classification      int64\n",
       "ExciseTax         float64\n",
       "VendorNo            int64\n",
       "VendorName         object\n",
       "dtype: object"
      ]
     },
     "execution_count": 39,
     "metadata": {},
     "output_type": "execute_result"
    }
   ],
   "source": [
    "dfFinalSales.dtypes"
   ]
  },
  {
   "cell_type": "markdown",
   "metadata": {},
   "source": [
    "### Converting date time columns to date time data types"
   ]
  },
  {
   "cell_type": "code",
   "execution_count": 40,
   "metadata": {},
   "outputs": [],
   "source": [
    "dfFinalSales[\"SalesDate\"] = pd.to_datetime(dfFinalSales[\"SalesDate\"])\n"
   ]
  },
  {
   "cell_type": "code",
   "execution_count": 41,
   "metadata": {},
   "outputs": [
    {
     "data": {
      "text/plain": [
       "InventoryId               object\n",
       "Store                      int64\n",
       "Brand                      int64\n",
       "Description               object\n",
       "Size                      object\n",
       "SalesQuantity              int64\n",
       "SalesDollars             float64\n",
       "SalesPrice               float64\n",
       "SalesDate         datetime64[ns]\n",
       "Volume                     int64\n",
       "Classification             int64\n",
       "ExciseTax                float64\n",
       "VendorNo                   int64\n",
       "VendorName                object\n",
       "dtype: object"
      ]
     },
     "execution_count": 41,
     "metadata": {},
     "output_type": "execute_result"
    }
   ],
   "source": [
    "dfFinalSales.dtypes"
   ]
  },
  {
   "cell_type": "markdown",
   "metadata": {},
   "source": [
    "### Removing NULL values from DataFrame"
   ]
  },
  {
   "cell_type": "code",
   "execution_count": 42,
   "metadata": {},
   "outputs": [],
   "source": [
    "dfFinalSales = dfFinalSales.dropna()"
   ]
  },
  {
   "cell_type": "markdown",
   "metadata": {},
   "source": [
    "### Browsing final dataframe"
   ]
  },
  {
   "cell_type": "code",
   "execution_count": 43,
   "metadata": {},
   "outputs": [
    {
     "data": {
      "text/html": [
       "<div>\n",
       "<style scoped>\n",
       "    .dataframe tbody tr th:only-of-type {\n",
       "        vertical-align: middle;\n",
       "    }\n",
       "\n",
       "    .dataframe tbody tr th {\n",
       "        vertical-align: top;\n",
       "    }\n",
       "\n",
       "    .dataframe thead th {\n",
       "        text-align: right;\n",
       "    }\n",
       "</style>\n",
       "<table border=\"1\" class=\"dataframe\">\n",
       "  <thead>\n",
       "    <tr style=\"text-align: right;\">\n",
       "      <th></th>\n",
       "      <th>InventoryId</th>\n",
       "      <th>Store</th>\n",
       "      <th>Brand</th>\n",
       "      <th>Description</th>\n",
       "      <th>Size</th>\n",
       "      <th>SalesQuantity</th>\n",
       "      <th>SalesDollars</th>\n",
       "      <th>SalesPrice</th>\n",
       "      <th>SalesDate</th>\n",
       "      <th>Volume</th>\n",
       "      <th>Classification</th>\n",
       "      <th>ExciseTax</th>\n",
       "      <th>VendorNo</th>\n",
       "      <th>VendorName</th>\n",
       "    </tr>\n",
       "  </thead>\n",
       "  <tbody>\n",
       "    <tr>\n",
       "      <th>0</th>\n",
       "      <td>1_HARDERSFIELD_1004</td>\n",
       "      <td>1</td>\n",
       "      <td>1004</td>\n",
       "      <td>Jim Beam w/2 Rocks Glasses</td>\n",
       "      <td>750mL</td>\n",
       "      <td>1</td>\n",
       "      <td>16.49</td>\n",
       "      <td>16.49</td>\n",
       "      <td>2016-01-01</td>\n",
       "      <td>750</td>\n",
       "      <td>1</td>\n",
       "      <td>0.79</td>\n",
       "      <td>12546</td>\n",
       "      <td>JIM BEAM BRANDS COMPANY</td>\n",
       "    </tr>\n",
       "    <tr>\n",
       "      <th>1</th>\n",
       "      <td>1_HARDERSFIELD_1004</td>\n",
       "      <td>1</td>\n",
       "      <td>1004</td>\n",
       "      <td>Jim Beam w/2 Rocks Glasses</td>\n",
       "      <td>750mL</td>\n",
       "      <td>2</td>\n",
       "      <td>32.98</td>\n",
       "      <td>16.49</td>\n",
       "      <td>2016-01-02</td>\n",
       "      <td>750</td>\n",
       "      <td>1</td>\n",
       "      <td>1.57</td>\n",
       "      <td>12546</td>\n",
       "      <td>JIM BEAM BRANDS COMPANY</td>\n",
       "    </tr>\n",
       "    <tr>\n",
       "      <th>2</th>\n",
       "      <td>1_HARDERSFIELD_1004</td>\n",
       "      <td>1</td>\n",
       "      <td>1004</td>\n",
       "      <td>Jim Beam w/2 Rocks Glasses</td>\n",
       "      <td>750mL</td>\n",
       "      <td>1</td>\n",
       "      <td>16.49</td>\n",
       "      <td>16.49</td>\n",
       "      <td>2016-01-03</td>\n",
       "      <td>750</td>\n",
       "      <td>1</td>\n",
       "      <td>0.79</td>\n",
       "      <td>12546</td>\n",
       "      <td>JIM BEAM BRANDS COMPANY</td>\n",
       "    </tr>\n",
       "    <tr>\n",
       "      <th>3</th>\n",
       "      <td>1_HARDERSFIELD_1004</td>\n",
       "      <td>1</td>\n",
       "      <td>1004</td>\n",
       "      <td>Jim Beam w/2 Rocks Glasses</td>\n",
       "      <td>750mL</td>\n",
       "      <td>1</td>\n",
       "      <td>14.49</td>\n",
       "      <td>14.49</td>\n",
       "      <td>2016-01-08</td>\n",
       "      <td>750</td>\n",
       "      <td>1</td>\n",
       "      <td>0.79</td>\n",
       "      <td>12546</td>\n",
       "      <td>JIM BEAM BRANDS COMPANY</td>\n",
       "    </tr>\n",
       "    <tr>\n",
       "      <th>4</th>\n",
       "      <td>1_HARDERSFIELD_1005</td>\n",
       "      <td>1</td>\n",
       "      <td>1005</td>\n",
       "      <td>Maker's Mark Combo Pack</td>\n",
       "      <td>375mL 2 Pk</td>\n",
       "      <td>2</td>\n",
       "      <td>69.98</td>\n",
       "      <td>34.99</td>\n",
       "      <td>2016-01-09</td>\n",
       "      <td>375</td>\n",
       "      <td>1</td>\n",
       "      <td>0.79</td>\n",
       "      <td>12546</td>\n",
       "      <td>JIM BEAM BRANDS COMPANY</td>\n",
       "    </tr>\n",
       "    <tr>\n",
       "      <th>...</th>\n",
       "      <td>...</td>\n",
       "      <td>...</td>\n",
       "      <td>...</td>\n",
       "      <td>...</td>\n",
       "      <td>...</td>\n",
       "      <td>...</td>\n",
       "      <td>...</td>\n",
       "      <td>...</td>\n",
       "      <td>...</td>\n",
       "      <td>...</td>\n",
       "      <td>...</td>\n",
       "      <td>...</td>\n",
       "      <td>...</td>\n",
       "      <td>...</td>\n",
       "    </tr>\n",
       "    <tr>\n",
       "      <th>1048570</th>\n",
       "      <td>19_WINTERVALE_39384</td>\n",
       "      <td>19</td>\n",
       "      <td>39384</td>\n",
       "      <td>F Coppola Diamond Pnt Nr</td>\n",
       "      <td>750mL</td>\n",
       "      <td>4</td>\n",
       "      <td>51.80</td>\n",
       "      <td>12.95</td>\n",
       "      <td>2016-02-12</td>\n",
       "      <td>750</td>\n",
       "      <td>2</td>\n",
       "      <td>0.45</td>\n",
       "      <td>2000</td>\n",
       "      <td>SOUTHERN WINE &amp; SPIRITS NE</td>\n",
       "    </tr>\n",
       "    <tr>\n",
       "      <th>1048571</th>\n",
       "      <td>19_WINTERVALE_39384</td>\n",
       "      <td>19</td>\n",
       "      <td>39384</td>\n",
       "      <td>F Coppola Diamond Pnt Nr</td>\n",
       "      <td>750mL</td>\n",
       "      <td>8</td>\n",
       "      <td>103.60</td>\n",
       "      <td>12.95</td>\n",
       "      <td>2016-02-13</td>\n",
       "      <td>750</td>\n",
       "      <td>2</td>\n",
       "      <td>0.90</td>\n",
       "      <td>2000</td>\n",
       "      <td>SOUTHERN WINE &amp; SPIRITS NE</td>\n",
       "    </tr>\n",
       "    <tr>\n",
       "      <th>1048572</th>\n",
       "      <td>19_WINTERVALE_39384</td>\n",
       "      <td>19</td>\n",
       "      <td>39384</td>\n",
       "      <td>F Coppola Diamond Pnt Nr</td>\n",
       "      <td>750mL</td>\n",
       "      <td>1</td>\n",
       "      <td>12.95</td>\n",
       "      <td>12.95</td>\n",
       "      <td>2016-02-19</td>\n",
       "      <td>750</td>\n",
       "      <td>2</td>\n",
       "      <td>0.11</td>\n",
       "      <td>2000</td>\n",
       "      <td>SOUTHERN WINE &amp; SPIRITS NE</td>\n",
       "    </tr>\n",
       "    <tr>\n",
       "      <th>1048573</th>\n",
       "      <td>19_WINTERVALE_39384</td>\n",
       "      <td>19</td>\n",
       "      <td>39384</td>\n",
       "      <td>F Coppola Diamond Pnt Nr</td>\n",
       "      <td>750mL</td>\n",
       "      <td>3</td>\n",
       "      <td>38.85</td>\n",
       "      <td>12.95</td>\n",
       "      <td>2016-02-22</td>\n",
       "      <td>750</td>\n",
       "      <td>2</td>\n",
       "      <td>0.34</td>\n",
       "      <td>2000</td>\n",
       "      <td>SOUTHERN WINE &amp; SPIRITS NE</td>\n",
       "    </tr>\n",
       "    <tr>\n",
       "      <th>1048574</th>\n",
       "      <td>19_WINTERVALE_39384</td>\n",
       "      <td>19</td>\n",
       "      <td>39384</td>\n",
       "      <td>F Coppola Diamond Pnt Nr</td>\n",
       "      <td>750mL</td>\n",
       "      <td>2</td>\n",
       "      <td>25.90</td>\n",
       "      <td>12.95</td>\n",
       "      <td>2016-02-24</td>\n",
       "      <td>750</td>\n",
       "      <td>2</td>\n",
       "      <td>0.22</td>\n",
       "      <td>2000</td>\n",
       "      <td>SOUTHERN WINE &amp; SPIRITS NE</td>\n",
       "    </tr>\n",
       "  </tbody>\n",
       "</table>\n",
       "<p>1048575 rows × 14 columns</p>\n",
       "</div>"
      ],
      "text/plain": [
       "                 InventoryId  Store  Brand                 Description  \\\n",
       "0        1_HARDERSFIELD_1004      1   1004  Jim Beam w/2 Rocks Glasses   \n",
       "1        1_HARDERSFIELD_1004      1   1004  Jim Beam w/2 Rocks Glasses   \n",
       "2        1_HARDERSFIELD_1004      1   1004  Jim Beam w/2 Rocks Glasses   \n",
       "3        1_HARDERSFIELD_1004      1   1004  Jim Beam w/2 Rocks Glasses   \n",
       "4        1_HARDERSFIELD_1005      1   1005     Maker's Mark Combo Pack   \n",
       "...                      ...    ...    ...                         ...   \n",
       "1048570  19_WINTERVALE_39384     19  39384    F Coppola Diamond Pnt Nr   \n",
       "1048571  19_WINTERVALE_39384     19  39384    F Coppola Diamond Pnt Nr   \n",
       "1048572  19_WINTERVALE_39384     19  39384    F Coppola Diamond Pnt Nr   \n",
       "1048573  19_WINTERVALE_39384     19  39384    F Coppola Diamond Pnt Nr   \n",
       "1048574  19_WINTERVALE_39384     19  39384    F Coppola Diamond Pnt Nr   \n",
       "\n",
       "               Size  SalesQuantity  SalesDollars  SalesPrice  SalesDate  \\\n",
       "0             750mL              1         16.49       16.49 2016-01-01   \n",
       "1             750mL              2         32.98       16.49 2016-01-02   \n",
       "2             750mL              1         16.49       16.49 2016-01-03   \n",
       "3             750mL              1         14.49       14.49 2016-01-08   \n",
       "4        375mL 2 Pk              2         69.98       34.99 2016-01-09   \n",
       "...             ...            ...           ...         ...        ...   \n",
       "1048570       750mL              4         51.80       12.95 2016-02-12   \n",
       "1048571       750mL              8        103.60       12.95 2016-02-13   \n",
       "1048572       750mL              1         12.95       12.95 2016-02-19   \n",
       "1048573       750mL              3         38.85       12.95 2016-02-22   \n",
       "1048574       750mL              2         25.90       12.95 2016-02-24   \n",
       "\n",
       "         Volume  Classification  ExciseTax  VendorNo  \\\n",
       "0           750               1       0.79     12546   \n",
       "1           750               1       1.57     12546   \n",
       "2           750               1       0.79     12546   \n",
       "3           750               1       0.79     12546   \n",
       "4           375               1       0.79     12546   \n",
       "...         ...             ...        ...       ...   \n",
       "1048570     750               2       0.45      2000   \n",
       "1048571     750               2       0.90      2000   \n",
       "1048572     750               2       0.11      2000   \n",
       "1048573     750               2       0.34      2000   \n",
       "1048574     750               2       0.22      2000   \n",
       "\n",
       "                          VendorName  \n",
       "0        JIM BEAM BRANDS COMPANY      \n",
       "1        JIM BEAM BRANDS COMPANY      \n",
       "2        JIM BEAM BRANDS COMPANY      \n",
       "3        JIM BEAM BRANDS COMPANY      \n",
       "4        JIM BEAM BRANDS COMPANY      \n",
       "...                              ...  \n",
       "1048570  SOUTHERN WINE & SPIRITS NE   \n",
       "1048571  SOUTHERN WINE & SPIRITS NE   \n",
       "1048572  SOUTHERN WINE & SPIRITS NE   \n",
       "1048573  SOUTHERN WINE & SPIRITS NE   \n",
       "1048574  SOUTHERN WINE & SPIRITS NE   \n",
       "\n",
       "[1048575 rows x 14 columns]"
      ]
     },
     "execution_count": 43,
     "metadata": {},
     "output_type": "execute_result"
    }
   ],
   "source": [
    "dfFinalSales"
   ]
  },
  {
   "cell_type": "markdown",
   "metadata": {},
   "source": [
    "# Designing dimension tables from .csv files"
   ]
  },
  {
   "cell_type": "markdown",
   "metadata": {},
   "source": [
    "### `DimBrand`"
   ]
  },
  {
   "cell_type": "code",
   "execution_count": 44,
   "metadata": {},
   "outputs": [
    {
     "data": {
      "text/html": [
       "<div>\n",
       "<style scoped>\n",
       "    .dataframe tbody tr th:only-of-type {\n",
       "        vertical-align: middle;\n",
       "    }\n",
       "\n",
       "    .dataframe tbody tr th {\n",
       "        vertical-align: top;\n",
       "    }\n",
       "\n",
       "    .dataframe thead th {\n",
       "        text-align: right;\n",
       "    }\n",
       "</style>\n",
       "<table border=\"1\" class=\"dataframe\">\n",
       "  <thead>\n",
       "    <tr style=\"text-align: right;\">\n",
       "      <th></th>\n",
       "      <th>InventoryId</th>\n",
       "      <th>Store</th>\n",
       "      <th>City</th>\n",
       "      <th>Brand</th>\n",
       "      <th>Description</th>\n",
       "      <th>Size</th>\n",
       "    </tr>\n",
       "  </thead>\n",
       "  <tbody>\n",
       "    <tr>\n",
       "      <th>0</th>\n",
       "      <td>1_HARDERSFIELD_58</td>\n",
       "      <td>1</td>\n",
       "      <td>HARDERSFIELD</td>\n",
       "      <td>58</td>\n",
       "      <td>Gekkeikan Black &amp; Gold Sake</td>\n",
       "      <td>750mL</td>\n",
       "    </tr>\n",
       "    <tr>\n",
       "      <th>1</th>\n",
       "      <td>1_HARDERSFIELD_60</td>\n",
       "      <td>1</td>\n",
       "      <td>HARDERSFIELD</td>\n",
       "      <td>60</td>\n",
       "      <td>Canadian Club 1858 VAP</td>\n",
       "      <td>750mL</td>\n",
       "    </tr>\n",
       "    <tr>\n",
       "      <th>2</th>\n",
       "      <td>1_HARDERSFIELD_62</td>\n",
       "      <td>1</td>\n",
       "      <td>HARDERSFIELD</td>\n",
       "      <td>62</td>\n",
       "      <td>Herradura Silver Tequila</td>\n",
       "      <td>750mL</td>\n",
       "    </tr>\n",
       "    <tr>\n",
       "      <th>3</th>\n",
       "      <td>1_HARDERSFIELD_63</td>\n",
       "      <td>1</td>\n",
       "      <td>HARDERSFIELD</td>\n",
       "      <td>63</td>\n",
       "      <td>Herradura Reposado Tequila</td>\n",
       "      <td>750mL</td>\n",
       "    </tr>\n",
       "    <tr>\n",
       "      <th>4</th>\n",
       "      <td>1_HARDERSFIELD_72</td>\n",
       "      <td>1</td>\n",
       "      <td>HARDERSFIELD</td>\n",
       "      <td>72</td>\n",
       "      <td>No. 3 London Dry Gin</td>\n",
       "      <td>750mL</td>\n",
       "    </tr>\n",
       "    <tr>\n",
       "      <th>...</th>\n",
       "      <td>...</td>\n",
       "      <td>...</td>\n",
       "      <td>...</td>\n",
       "      <td>...</td>\n",
       "      <td>...</td>\n",
       "      <td>...</td>\n",
       "    </tr>\n",
       "    <tr>\n",
       "      <th>206524</th>\n",
       "      <td>79_BALLYMENA_46985</td>\n",
       "      <td>79</td>\n",
       "      <td>BALLYMENA</td>\n",
       "      <td>46985</td>\n",
       "      <td>Rodney Strong Cab Svgn Alexa</td>\n",
       "      <td>750mL</td>\n",
       "    </tr>\n",
       "    <tr>\n",
       "      <th>206525</th>\n",
       "      <td>79_BALLYMENA_47014</td>\n",
       "      <td>79</td>\n",
       "      <td>BALLYMENA</td>\n",
       "      <td>47014</td>\n",
       "      <td>Juan Gil Jumilla Rd</td>\n",
       "      <td>750mL</td>\n",
       "    </tr>\n",
       "    <tr>\n",
       "      <th>206526</th>\n",
       "      <td>79_BALLYMENA_47090</td>\n",
       "      <td>79</td>\n",
       "      <td>BALLYMENA</td>\n",
       "      <td>47090</td>\n",
       "      <td>Napa Cellars Cab Svgn Napa</td>\n",
       "      <td>750mL</td>\n",
       "    </tr>\n",
       "    <tr>\n",
       "      <th>206527</th>\n",
       "      <td>79_BALLYMENA_90011</td>\n",
       "      <td>79</td>\n",
       "      <td>BALLYMENA</td>\n",
       "      <td>90011</td>\n",
       "      <td>Ch Pichon Longville 12 Pauil</td>\n",
       "      <td>750mL</td>\n",
       "    </tr>\n",
       "    <tr>\n",
       "      <th>206528</th>\n",
       "      <td>79_BALLYMENA_90089</td>\n",
       "      <td>79</td>\n",
       "      <td>BALLYMENA</td>\n",
       "      <td>90089</td>\n",
       "      <td>Ch Lynch Bages 12 Pauillac</td>\n",
       "      <td>750mL</td>\n",
       "    </tr>\n",
       "  </tbody>\n",
       "</table>\n",
       "<p>206529 rows × 6 columns</p>\n",
       "</div>"
      ],
      "text/plain": [
       "               InventoryId  Store          City  Brand  \\\n",
       "0        1_HARDERSFIELD_58      1  HARDERSFIELD     58   \n",
       "1        1_HARDERSFIELD_60      1  HARDERSFIELD     60   \n",
       "2        1_HARDERSFIELD_62      1  HARDERSFIELD     62   \n",
       "3        1_HARDERSFIELD_63      1  HARDERSFIELD     63   \n",
       "4        1_HARDERSFIELD_72      1  HARDERSFIELD     72   \n",
       "...                    ...    ...           ...    ...   \n",
       "206524  79_BALLYMENA_46985     79     BALLYMENA  46985   \n",
       "206525  79_BALLYMENA_47014     79     BALLYMENA  47014   \n",
       "206526  79_BALLYMENA_47090     79     BALLYMENA  47090   \n",
       "206527  79_BALLYMENA_90011     79     BALLYMENA  90011   \n",
       "206528  79_BALLYMENA_90089     79     BALLYMENA  90089   \n",
       "\n",
       "                         Description   Size  \n",
       "0        Gekkeikan Black & Gold Sake  750mL  \n",
       "1             Canadian Club 1858 VAP  750mL  \n",
       "2           Herradura Silver Tequila  750mL  \n",
       "3         Herradura Reposado Tequila  750mL  \n",
       "4               No. 3 London Dry Gin  750mL  \n",
       "...                              ...    ...  \n",
       "206524  Rodney Strong Cab Svgn Alexa  750mL  \n",
       "206525           Juan Gil Jumilla Rd  750mL  \n",
       "206526    Napa Cellars Cab Svgn Napa  750mL  \n",
       "206527  Ch Pichon Longville 12 Pauil  750mL  \n",
       "206528    Ch Lynch Bages 12 Pauillac  750mL  \n",
       "\n",
       "[206529 rows x 6 columns]"
      ]
     },
     "execution_count": 44,
     "metadata": {},
     "output_type": "execute_result"
    }
   ],
   "source": [
    "DimBrand = dfBeginningOfInventory.iloc[:, 0:6]\n",
    "DimBrand"
   ]
  },
  {
   "cell_type": "code",
   "execution_count": 45,
   "metadata": {},
   "outputs": [
    {
     "data": {
      "text/plain": [
       "Index(['InventoryId', 'Store', 'City', 'Brand', 'Description', 'Size'], dtype='object')"
      ]
     },
     "execution_count": 45,
     "metadata": {},
     "output_type": "execute_result"
    }
   ],
   "source": [
    "DimBrand.columns"
   ]
  },
  {
   "cell_type": "code",
   "execution_count": 46,
   "metadata": {},
   "outputs": [
    {
     "data": {
      "text/plain": [
       "InventoryId    object\n",
       "Store           int64\n",
       "City           object\n",
       "Brand           int64\n",
       "Description    object\n",
       "Size           object\n",
       "dtype: object"
      ]
     },
     "execution_count": 46,
     "metadata": {},
     "output_type": "execute_result"
    }
   ],
   "source": [
    "DimBrand.dtypes"
   ]
  },
  {
   "cell_type": "markdown",
   "metadata": {},
   "source": [
    "### Removing NULL values from DataFrame"
   ]
  },
  {
   "cell_type": "code",
   "execution_count": 47,
   "metadata": {},
   "outputs": [],
   "source": [
    "DimBrand = DimBrand.dropna()"
   ]
  },
  {
   "cell_type": "code",
   "execution_count": 48,
   "metadata": {},
   "outputs": [
    {
     "data": {
      "text/plain": [
       "InventoryId    0\n",
       "Store          0\n",
       "City           0\n",
       "Brand          0\n",
       "Description    0\n",
       "Size           0\n",
       "dtype: int64"
      ]
     },
     "execution_count": 48,
     "metadata": {},
     "output_type": "execute_result"
    }
   ],
   "source": [
    "DimBrand.isna().sum()"
   ]
  },
  {
   "cell_type": "markdown",
   "metadata": {},
   "source": [
    "### Removing duplicates from DataFrame"
   ]
  },
  {
   "cell_type": "code",
   "execution_count": 49,
   "metadata": {},
   "outputs": [],
   "source": [
    "DimBrand = DimBrand.drop_duplicates()"
   ]
  },
  {
   "cell_type": "code",
   "execution_count": 50,
   "metadata": {},
   "outputs": [],
   "source": [
    "DimBrandDuplicated = DimBrand[DimBrand.duplicated()]"
   ]
  },
  {
   "cell_type": "code",
   "execution_count": 51,
   "metadata": {},
   "outputs": [
    {
     "data": {
      "text/html": [
       "<div>\n",
       "<style scoped>\n",
       "    .dataframe tbody tr th:only-of-type {\n",
       "        vertical-align: middle;\n",
       "    }\n",
       "\n",
       "    .dataframe tbody tr th {\n",
       "        vertical-align: top;\n",
       "    }\n",
       "\n",
       "    .dataframe thead th {\n",
       "        text-align: right;\n",
       "    }\n",
       "</style>\n",
       "<table border=\"1\" class=\"dataframe\">\n",
       "  <thead>\n",
       "    <tr style=\"text-align: right;\">\n",
       "      <th></th>\n",
       "      <th>InventoryId</th>\n",
       "      <th>Store</th>\n",
       "      <th>City</th>\n",
       "      <th>Brand</th>\n",
       "      <th>Description</th>\n",
       "      <th>Size</th>\n",
       "    </tr>\n",
       "  </thead>\n",
       "  <tbody>\n",
       "  </tbody>\n",
       "</table>\n",
       "</div>"
      ],
      "text/plain": [
       "Empty DataFrame\n",
       "Columns: [InventoryId, Store, City, Brand, Description, Size]\n",
       "Index: []"
      ]
     },
     "execution_count": 51,
     "metadata": {},
     "output_type": "execute_result"
    }
   ],
   "source": [
    "DimBrandDuplicated"
   ]
  },
  {
   "cell_type": "markdown",
   "metadata": {},
   "source": [
    "### Verifying if there are duplicates in a id column"
   ]
  },
  {
   "cell_type": "code",
   "execution_count": 52,
   "metadata": {},
   "outputs": [
    {
     "name": "stdout",
     "output_type": "stream",
     "text": [
      "\u001b[97mFalse\n",
      "\n"
     ]
    }
   ],
   "source": [
    "boolean = DimBrand.duplicated(subset=['InventoryId']).any()\n",
    "print('\\033[97m' + str(boolean), end='\\n\\n')"
   ]
  },
  {
   "cell_type": "markdown",
   "metadata": {},
   "source": [
    "### Browsing  final dataframe"
   ]
  },
  {
   "cell_type": "code",
   "execution_count": 53,
   "metadata": {},
   "outputs": [
    {
     "data": {
      "text/html": [
       "<div>\n",
       "<style scoped>\n",
       "    .dataframe tbody tr th:only-of-type {\n",
       "        vertical-align: middle;\n",
       "    }\n",
       "\n",
       "    .dataframe tbody tr th {\n",
       "        vertical-align: top;\n",
       "    }\n",
       "\n",
       "    .dataframe thead th {\n",
       "        text-align: right;\n",
       "    }\n",
       "</style>\n",
       "<table border=\"1\" class=\"dataframe\">\n",
       "  <thead>\n",
       "    <tr style=\"text-align: right;\">\n",
       "      <th></th>\n",
       "      <th>InventoryId</th>\n",
       "      <th>Store</th>\n",
       "      <th>City</th>\n",
       "      <th>Brand</th>\n",
       "      <th>Description</th>\n",
       "      <th>Size</th>\n",
       "    </tr>\n",
       "  </thead>\n",
       "  <tbody>\n",
       "    <tr>\n",
       "      <th>0</th>\n",
       "      <td>1_HARDERSFIELD_58</td>\n",
       "      <td>1</td>\n",
       "      <td>HARDERSFIELD</td>\n",
       "      <td>58</td>\n",
       "      <td>Gekkeikan Black &amp; Gold Sake</td>\n",
       "      <td>750mL</td>\n",
       "    </tr>\n",
       "    <tr>\n",
       "      <th>1</th>\n",
       "      <td>1_HARDERSFIELD_60</td>\n",
       "      <td>1</td>\n",
       "      <td>HARDERSFIELD</td>\n",
       "      <td>60</td>\n",
       "      <td>Canadian Club 1858 VAP</td>\n",
       "      <td>750mL</td>\n",
       "    </tr>\n",
       "    <tr>\n",
       "      <th>2</th>\n",
       "      <td>1_HARDERSFIELD_62</td>\n",
       "      <td>1</td>\n",
       "      <td>HARDERSFIELD</td>\n",
       "      <td>62</td>\n",
       "      <td>Herradura Silver Tequila</td>\n",
       "      <td>750mL</td>\n",
       "    </tr>\n",
       "    <tr>\n",
       "      <th>3</th>\n",
       "      <td>1_HARDERSFIELD_63</td>\n",
       "      <td>1</td>\n",
       "      <td>HARDERSFIELD</td>\n",
       "      <td>63</td>\n",
       "      <td>Herradura Reposado Tequila</td>\n",
       "      <td>750mL</td>\n",
       "    </tr>\n",
       "    <tr>\n",
       "      <th>4</th>\n",
       "      <td>1_HARDERSFIELD_72</td>\n",
       "      <td>1</td>\n",
       "      <td>HARDERSFIELD</td>\n",
       "      <td>72</td>\n",
       "      <td>No. 3 London Dry Gin</td>\n",
       "      <td>750mL</td>\n",
       "    </tr>\n",
       "    <tr>\n",
       "      <th>...</th>\n",
       "      <td>...</td>\n",
       "      <td>...</td>\n",
       "      <td>...</td>\n",
       "      <td>...</td>\n",
       "      <td>...</td>\n",
       "      <td>...</td>\n",
       "    </tr>\n",
       "    <tr>\n",
       "      <th>206524</th>\n",
       "      <td>79_BALLYMENA_46985</td>\n",
       "      <td>79</td>\n",
       "      <td>BALLYMENA</td>\n",
       "      <td>46985</td>\n",
       "      <td>Rodney Strong Cab Svgn Alexa</td>\n",
       "      <td>750mL</td>\n",
       "    </tr>\n",
       "    <tr>\n",
       "      <th>206525</th>\n",
       "      <td>79_BALLYMENA_47014</td>\n",
       "      <td>79</td>\n",
       "      <td>BALLYMENA</td>\n",
       "      <td>47014</td>\n",
       "      <td>Juan Gil Jumilla Rd</td>\n",
       "      <td>750mL</td>\n",
       "    </tr>\n",
       "    <tr>\n",
       "      <th>206526</th>\n",
       "      <td>79_BALLYMENA_47090</td>\n",
       "      <td>79</td>\n",
       "      <td>BALLYMENA</td>\n",
       "      <td>47090</td>\n",
       "      <td>Napa Cellars Cab Svgn Napa</td>\n",
       "      <td>750mL</td>\n",
       "    </tr>\n",
       "    <tr>\n",
       "      <th>206527</th>\n",
       "      <td>79_BALLYMENA_90011</td>\n",
       "      <td>79</td>\n",
       "      <td>BALLYMENA</td>\n",
       "      <td>90011</td>\n",
       "      <td>Ch Pichon Longville 12 Pauil</td>\n",
       "      <td>750mL</td>\n",
       "    </tr>\n",
       "    <tr>\n",
       "      <th>206528</th>\n",
       "      <td>79_BALLYMENA_90089</td>\n",
       "      <td>79</td>\n",
       "      <td>BALLYMENA</td>\n",
       "      <td>90089</td>\n",
       "      <td>Ch Lynch Bages 12 Pauillac</td>\n",
       "      <td>750mL</td>\n",
       "    </tr>\n",
       "  </tbody>\n",
       "</table>\n",
       "<p>206529 rows × 6 columns</p>\n",
       "</div>"
      ],
      "text/plain": [
       "               InventoryId  Store          City  Brand  \\\n",
       "0        1_HARDERSFIELD_58      1  HARDERSFIELD     58   \n",
       "1        1_HARDERSFIELD_60      1  HARDERSFIELD     60   \n",
       "2        1_HARDERSFIELD_62      1  HARDERSFIELD     62   \n",
       "3        1_HARDERSFIELD_63      1  HARDERSFIELD     63   \n",
       "4        1_HARDERSFIELD_72      1  HARDERSFIELD     72   \n",
       "...                    ...    ...           ...    ...   \n",
       "206524  79_BALLYMENA_46985     79     BALLYMENA  46985   \n",
       "206525  79_BALLYMENA_47014     79     BALLYMENA  47014   \n",
       "206526  79_BALLYMENA_47090     79     BALLYMENA  47090   \n",
       "206527  79_BALLYMENA_90011     79     BALLYMENA  90011   \n",
       "206528  79_BALLYMENA_90089     79     BALLYMENA  90089   \n",
       "\n",
       "                         Description   Size  \n",
       "0        Gekkeikan Black & Gold Sake  750mL  \n",
       "1             Canadian Club 1858 VAP  750mL  \n",
       "2           Herradura Silver Tequila  750mL  \n",
       "3         Herradura Reposado Tequila  750mL  \n",
       "4               No. 3 London Dry Gin  750mL  \n",
       "...                              ...    ...  \n",
       "206524  Rodney Strong Cab Svgn Alexa  750mL  \n",
       "206525           Juan Gil Jumilla Rd  750mL  \n",
       "206526    Napa Cellars Cab Svgn Napa  750mL  \n",
       "206527  Ch Pichon Longville 12 Pauil  750mL  \n",
       "206528    Ch Lynch Bages 12 Pauillac  750mL  \n",
       "\n",
       "[206529 rows x 6 columns]"
      ]
     },
     "execution_count": 53,
     "metadata": {},
     "output_type": "execute_result"
    }
   ],
   "source": [
    "DimBrand"
   ]
  },
  {
   "cell_type": "markdown",
   "metadata": {},
   "source": [
    "### `DimVendor`"
   ]
  },
  {
   "cell_type": "code",
   "execution_count": 54,
   "metadata": {},
   "outputs": [
    {
     "data": {
      "text/html": [
       "<div>\n",
       "<style scoped>\n",
       "    .dataframe tbody tr th:only-of-type {\n",
       "        vertical-align: middle;\n",
       "    }\n",
       "\n",
       "    .dataframe tbody tr th {\n",
       "        vertical-align: top;\n",
       "    }\n",
       "\n",
       "    .dataframe thead th {\n",
       "        text-align: right;\n",
       "    }\n",
       "</style>\n",
       "<table border=\"1\" class=\"dataframe\">\n",
       "  <thead>\n",
       "    <tr style=\"text-align: right;\">\n",
       "      <th></th>\n",
       "      <th>VendorName</th>\n",
       "      <th>VendorNumber</th>\n",
       "    </tr>\n",
       "  </thead>\n",
       "  <tbody>\n",
       "    <tr>\n",
       "      <th>0</th>\n",
       "      <td>SHAW ROSS INT L IMP LTD</td>\n",
       "      <td>8320</td>\n",
       "    </tr>\n",
       "    <tr>\n",
       "      <th>1</th>\n",
       "      <td>BROWN-FORMAN CORP</td>\n",
       "      <td>1128</td>\n",
       "    </tr>\n",
       "    <tr>\n",
       "      <th>2</th>\n",
       "      <td>BROWN-FORMAN CORP</td>\n",
       "      <td>1128</td>\n",
       "    </tr>\n",
       "    <tr>\n",
       "      <th>3</th>\n",
       "      <td>ULTRA BEVERAGE COMPANY LLP</td>\n",
       "      <td>9165</td>\n",
       "    </tr>\n",
       "    <tr>\n",
       "      <th>4</th>\n",
       "      <td>PROXIMO SPIRITS INC.</td>\n",
       "      <td>7245</td>\n",
       "    </tr>\n",
       "    <tr>\n",
       "      <th>...</th>\n",
       "      <td>...</td>\n",
       "      <td>...</td>\n",
       "    </tr>\n",
       "    <tr>\n",
       "      <th>12256</th>\n",
       "      <td>VINILANDIA USA</td>\n",
       "      <td>90024</td>\n",
       "    </tr>\n",
       "    <tr>\n",
       "      <th>12257</th>\n",
       "      <td>MARTIGNETTI COMPANIES</td>\n",
       "      <td>4425</td>\n",
       "    </tr>\n",
       "    <tr>\n",
       "      <th>12258</th>\n",
       "      <td>PERFECTA WINES</td>\n",
       "      <td>10754</td>\n",
       "    </tr>\n",
       "    <tr>\n",
       "      <th>12259</th>\n",
       "      <td>FREDERICK WILDMAN &amp; SONS</td>\n",
       "      <td>9744</td>\n",
       "    </tr>\n",
       "    <tr>\n",
       "      <th>12260</th>\n",
       "      <td>PERFECTA WINES</td>\n",
       "      <td>10754</td>\n",
       "    </tr>\n",
       "  </tbody>\n",
       "</table>\n",
       "<p>12260 rows × 2 columns</p>\n",
       "</div>"
      ],
      "text/plain": [
       "                        VendorName  VendorNumber\n",
       "0      SHAW ROSS INT L IMP LTD              8320\n",
       "1      BROWN-FORMAN CORP                    1128\n",
       "2      BROWN-FORMAN CORP                    1128\n",
       "3      ULTRA BEVERAGE COMPANY LLP           9165\n",
       "4      PROXIMO SPIRITS INC.                 7245\n",
       "...                            ...           ...\n",
       "12256  VINILANDIA USA                      90024\n",
       "12257        MARTIGNETTI COMPANIES          4425\n",
       "12258  PERFECTA WINES                      10754\n",
       "12259  FREDERICK WILDMAN & SONS             9744\n",
       "12260  PERFECTA WINES                      10754\n",
       "\n",
       "[12260 rows x 2 columns]"
      ]
     },
     "execution_count": 54,
     "metadata": {},
     "output_type": "execute_result"
    }
   ],
   "source": [
    "DimVendor = dfPurchasePriceDesc[[\"VendorName\", \"VendorNumber\"]]\n",
    "DimVendor"
   ]
  },
  {
   "cell_type": "code",
   "execution_count": 55,
   "metadata": {},
   "outputs": [
    {
     "data": {
      "text/plain": [
       "Index(['VendorName', 'VendorNumber'], dtype='object')"
      ]
     },
     "execution_count": 55,
     "metadata": {},
     "output_type": "execute_result"
    }
   ],
   "source": [
    "DimVendor.columns"
   ]
  },
  {
   "cell_type": "code",
   "execution_count": 56,
   "metadata": {},
   "outputs": [
    {
     "data": {
      "text/plain": [
       "VendorName      object\n",
       "VendorNumber     int64\n",
       "dtype: object"
      ]
     },
     "execution_count": 56,
     "metadata": {},
     "output_type": "execute_result"
    }
   ],
   "source": [
    "DimVendor.dtypes"
   ]
  },
  {
   "cell_type": "markdown",
   "metadata": {},
   "source": [
    "### Removing NULL values from DataFrame"
   ]
  },
  {
   "cell_type": "code",
   "execution_count": 57,
   "metadata": {},
   "outputs": [],
   "source": [
    "DimVendor = DimVendor.dropna()"
   ]
  },
  {
   "cell_type": "code",
   "execution_count": 58,
   "metadata": {},
   "outputs": [
    {
     "data": {
      "text/plain": [
       "VendorName      0\n",
       "VendorNumber    0\n",
       "dtype: int64"
      ]
     },
     "execution_count": 58,
     "metadata": {},
     "output_type": "execute_result"
    }
   ],
   "source": [
    "DimVendor.isna().sum()"
   ]
  },
  {
   "cell_type": "markdown",
   "metadata": {},
   "source": [
    "### Removing duplicates from DataFrame"
   ]
  },
  {
   "cell_type": "code",
   "execution_count": 59,
   "metadata": {},
   "outputs": [],
   "source": [
    "DimVendor = DimVendor.drop_duplicates()"
   ]
  },
  {
   "cell_type": "code",
   "execution_count": 60,
   "metadata": {},
   "outputs": [],
   "source": [
    "DimVendorDuplicated = DimVendor[DimVendor.duplicated()]"
   ]
  },
  {
   "cell_type": "code",
   "execution_count": 61,
   "metadata": {},
   "outputs": [
    {
     "data": {
      "text/html": [
       "<div>\n",
       "<style scoped>\n",
       "    .dataframe tbody tr th:only-of-type {\n",
       "        vertical-align: middle;\n",
       "    }\n",
       "\n",
       "    .dataframe tbody tr th {\n",
       "        vertical-align: top;\n",
       "    }\n",
       "\n",
       "    .dataframe thead th {\n",
       "        text-align: right;\n",
       "    }\n",
       "</style>\n",
       "<table border=\"1\" class=\"dataframe\">\n",
       "  <thead>\n",
       "    <tr style=\"text-align: right;\">\n",
       "      <th></th>\n",
       "      <th>VendorName</th>\n",
       "      <th>VendorNumber</th>\n",
       "    </tr>\n",
       "  </thead>\n",
       "  <tbody>\n",
       "  </tbody>\n",
       "</table>\n",
       "</div>"
      ],
      "text/plain": [
       "Empty DataFrame\n",
       "Columns: [VendorName, VendorNumber]\n",
       "Index: []"
      ]
     },
     "execution_count": 61,
     "metadata": {},
     "output_type": "execute_result"
    }
   ],
   "source": [
    "DimVendorDuplicated"
   ]
  },
  {
   "cell_type": "markdown",
   "metadata": {},
   "source": [
    "### Verifying if there are duplicates in a id column"
   ]
  },
  {
   "cell_type": "code",
   "execution_count": 62,
   "metadata": {},
   "outputs": [
    {
     "name": "stdout",
     "output_type": "stream",
     "text": [
      "\u001b[97mTrue\n",
      "\n"
     ]
    }
   ],
   "source": [
    "boolean = DimVendor.duplicated(subset=['VendorNumber']).any()\n",
    "print('\\033[97m' + str(boolean), end='\\n\\n')"
   ]
  },
  {
   "cell_type": "code",
   "execution_count": 63,
   "metadata": {},
   "outputs": [
    {
     "data": {
      "text/html": [
       "<div>\n",
       "<style scoped>\n",
       "    .dataframe tbody tr th:only-of-type {\n",
       "        vertical-align: middle;\n",
       "    }\n",
       "\n",
       "    .dataframe tbody tr th {\n",
       "        vertical-align: top;\n",
       "    }\n",
       "\n",
       "    .dataframe thead th {\n",
       "        text-align: right;\n",
       "    }\n",
       "</style>\n",
       "<table border=\"1\" class=\"dataframe\">\n",
       "  <thead>\n",
       "    <tr style=\"text-align: right;\">\n",
       "      <th></th>\n",
       "      <th>VendorName</th>\n",
       "      <th>VendorNumber</th>\n",
       "    </tr>\n",
       "  </thead>\n",
       "  <tbody>\n",
       "    <tr>\n",
       "      <th>321</th>\n",
       "      <td>MARTIGNETTI COMPANIES</td>\n",
       "      <td>4425</td>\n",
       "    </tr>\n",
       "    <tr>\n",
       "      <th>6854</th>\n",
       "      <td>ALISA CARR BEVERAGES</td>\n",
       "      <td>1703</td>\n",
       "    </tr>\n",
       "    <tr>\n",
       "      <th>8795</th>\n",
       "      <td>ALISA CARR BEVERAGES</td>\n",
       "      <td>1703</td>\n",
       "    </tr>\n",
       "    <tr>\n",
       "      <th>11699</th>\n",
       "      <td>SOUTHERN GLAZERS W&amp;S OF NE</td>\n",
       "      <td>2000</td>\n",
       "    </tr>\n",
       "    <tr>\n",
       "      <th>12184</th>\n",
       "      <td>VINEYARD BRANDS LLC</td>\n",
       "      <td>1587</td>\n",
       "    </tr>\n",
       "  </tbody>\n",
       "</table>\n",
       "</div>"
      ],
      "text/plain": [
       "                                VendorName  VendorNumber\n",
       "321                 MARTIGNETTI COMPANIES           4425\n",
       "6854       ALISA CARR BEVERAGES                     1703\n",
       "8795   ALISA CARR BEVERAGES                         1703\n",
       "11699          SOUTHERN GLAZERS W&S OF NE           2000\n",
       "12184          VINEYARD BRANDS LLC                  1587"
      ]
     },
     "execution_count": 63,
     "metadata": {},
     "output_type": "execute_result"
    }
   ],
   "source": [
    "DimVendor[DimVendor.duplicated(subset=['VendorNumber'])]"
   ]
  },
  {
   "cell_type": "code",
   "execution_count": 64,
   "metadata": {},
   "outputs": [
    {
     "data": {
      "text/html": [
       "<div>\n",
       "<style scoped>\n",
       "    .dataframe tbody tr th:only-of-type {\n",
       "        vertical-align: middle;\n",
       "    }\n",
       "\n",
       "    .dataframe tbody tr th {\n",
       "        vertical-align: top;\n",
       "    }\n",
       "\n",
       "    .dataframe thead th {\n",
       "        text-align: right;\n",
       "    }\n",
       "</style>\n",
       "<table border=\"1\" class=\"dataframe\">\n",
       "  <thead>\n",
       "    <tr style=\"text-align: right;\">\n",
       "      <th></th>\n",
       "      <th>VendorName</th>\n",
       "      <th>VendorNumber</th>\n",
       "    </tr>\n",
       "  </thead>\n",
       "  <tbody>\n",
       "    <tr>\n",
       "      <th>15</th>\n",
       "      <td>MARTIGNETTI COMPANIES</td>\n",
       "      <td>4425</td>\n",
       "    </tr>\n",
       "    <tr>\n",
       "      <th>321</th>\n",
       "      <td>MARTIGNETTI COMPANIES</td>\n",
       "      <td>4425</td>\n",
       "    </tr>\n",
       "    <tr>\n",
       "      <th>541</th>\n",
       "      <td>SOUTHERN WINE &amp; SPIRITS NE</td>\n",
       "      <td>2000</td>\n",
       "    </tr>\n",
       "    <tr>\n",
       "      <th>1520</th>\n",
       "      <td>VINEYARD BRANDS INC</td>\n",
       "      <td>1587</td>\n",
       "    </tr>\n",
       "    <tr>\n",
       "      <th>4737</th>\n",
       "      <td>ALISA CARR BEVERAGES</td>\n",
       "      <td>1703</td>\n",
       "    </tr>\n",
       "    <tr>\n",
       "      <th>6854</th>\n",
       "      <td>ALISA CARR BEVERAGES</td>\n",
       "      <td>1703</td>\n",
       "    </tr>\n",
       "    <tr>\n",
       "      <th>8795</th>\n",
       "      <td>ALISA CARR BEVERAGES</td>\n",
       "      <td>1703</td>\n",
       "    </tr>\n",
       "    <tr>\n",
       "      <th>11699</th>\n",
       "      <td>SOUTHERN GLAZERS W&amp;S OF NE</td>\n",
       "      <td>2000</td>\n",
       "    </tr>\n",
       "    <tr>\n",
       "      <th>12184</th>\n",
       "      <td>VINEYARD BRANDS LLC</td>\n",
       "      <td>1587</td>\n",
       "    </tr>\n",
       "  </tbody>\n",
       "</table>\n",
       "</div>"
      ],
      "text/plain": [
       "                                VendorName  VendorNumber\n",
       "15                   MARTIGNETTI COMPANIES          4425\n",
       "321                 MARTIGNETTI COMPANIES           4425\n",
       "541            SOUTHERN WINE & SPIRITS NE           2000\n",
       "1520           VINEYARD BRANDS INC                  1587\n",
       "4737                  ALISA CARR BEVERAGES          1703\n",
       "6854       ALISA CARR BEVERAGES                     1703\n",
       "8795   ALISA CARR BEVERAGES                         1703\n",
       "11699          SOUTHERN GLAZERS W&S OF NE           2000\n",
       "12184          VINEYARD BRANDS LLC                  1587"
      ]
     },
     "execution_count": 64,
     "metadata": {},
     "output_type": "execute_result"
    }
   ],
   "source": [
    "duplicated = [4425, 1703,2000,1587 ]\n",
    "DimVendor[(DimVendor['VendorNumber'].isin(duplicated))]"
   ]
  },
  {
   "cell_type": "markdown",
   "metadata": {},
   "source": [
    "#### Removing all duplicates from a id column"
   ]
  },
  {
   "cell_type": "code",
   "execution_count": 65,
   "metadata": {},
   "outputs": [],
   "source": [
    "DimVendor = DimVendor.drop_duplicates(subset=['VendorNumber'])"
   ]
  },
  {
   "cell_type": "markdown",
   "metadata": {},
   "source": [
    "#### Verify if all duplicates are removed"
   ]
  },
  {
   "cell_type": "code",
   "execution_count": 66,
   "metadata": {},
   "outputs": [
    {
     "data": {
      "text/html": [
       "<div>\n",
       "<style scoped>\n",
       "    .dataframe tbody tr th:only-of-type {\n",
       "        vertical-align: middle;\n",
       "    }\n",
       "\n",
       "    .dataframe tbody tr th {\n",
       "        vertical-align: top;\n",
       "    }\n",
       "\n",
       "    .dataframe thead th {\n",
       "        text-align: right;\n",
       "    }\n",
       "</style>\n",
       "<table border=\"1\" class=\"dataframe\">\n",
       "  <thead>\n",
       "    <tr style=\"text-align: right;\">\n",
       "      <th></th>\n",
       "      <th>VendorName</th>\n",
       "      <th>VendorNumber</th>\n",
       "    </tr>\n",
       "  </thead>\n",
       "  <tbody>\n",
       "  </tbody>\n",
       "</table>\n",
       "</div>"
      ],
      "text/plain": [
       "Empty DataFrame\n",
       "Columns: [VendorName, VendorNumber]\n",
       "Index: []"
      ]
     },
     "execution_count": 66,
     "metadata": {},
     "output_type": "execute_result"
    }
   ],
   "source": [
    "DimVendor[DimVendor.duplicated(subset=['VendorNumber'])]"
   ]
  },
  {
   "cell_type": "markdown",
   "metadata": {},
   "source": [
    "### Browsing  final dataframe"
   ]
  },
  {
   "cell_type": "code",
   "execution_count": 67,
   "metadata": {},
   "outputs": [
    {
     "data": {
      "text/html": [
       "<div>\n",
       "<style scoped>\n",
       "    .dataframe tbody tr th:only-of-type {\n",
       "        vertical-align: middle;\n",
       "    }\n",
       "\n",
       "    .dataframe tbody tr th {\n",
       "        vertical-align: top;\n",
       "    }\n",
       "\n",
       "    .dataframe thead th {\n",
       "        text-align: right;\n",
       "    }\n",
       "</style>\n",
       "<table border=\"1\" class=\"dataframe\">\n",
       "  <thead>\n",
       "    <tr style=\"text-align: right;\">\n",
       "      <th></th>\n",
       "      <th>VendorName</th>\n",
       "      <th>VendorNumber</th>\n",
       "    </tr>\n",
       "  </thead>\n",
       "  <tbody>\n",
       "    <tr>\n",
       "      <th>0</th>\n",
       "      <td>SHAW ROSS INT L IMP LTD</td>\n",
       "      <td>8320</td>\n",
       "    </tr>\n",
       "    <tr>\n",
       "      <th>1</th>\n",
       "      <td>BROWN-FORMAN CORP</td>\n",
       "      <td>1128</td>\n",
       "    </tr>\n",
       "    <tr>\n",
       "      <th>3</th>\n",
       "      <td>ULTRA BEVERAGE COMPANY LLP</td>\n",
       "      <td>9165</td>\n",
       "    </tr>\n",
       "    <tr>\n",
       "      <th>4</th>\n",
       "      <td>PROXIMO SPIRITS INC.</td>\n",
       "      <td>7245</td>\n",
       "    </tr>\n",
       "    <tr>\n",
       "      <th>7</th>\n",
       "      <td>MOET HENNESSY USA INC</td>\n",
       "      <td>8112</td>\n",
       "    </tr>\n",
       "    <tr>\n",
       "      <th>...</th>\n",
       "      <td>...</td>\n",
       "      <td>...</td>\n",
       "    </tr>\n",
       "    <tr>\n",
       "      <th>11484</th>\n",
       "      <td>TRUETT HURST</td>\n",
       "      <td>9099</td>\n",
       "    </tr>\n",
       "    <tr>\n",
       "      <th>11707</th>\n",
       "      <td>GILMANTON WINERY &amp; VINEYARD</td>\n",
       "      <td>3551</td>\n",
       "    </tr>\n",
       "    <tr>\n",
       "      <th>11799</th>\n",
       "      <td>AAPER ALCOHOL &amp; CHEMICAL CO</td>\n",
       "      <td>54</td>\n",
       "    </tr>\n",
       "    <tr>\n",
       "      <th>11918</th>\n",
       "      <td>BLACK COVE BEVERAGES</td>\n",
       "      <td>90059</td>\n",
       "    </tr>\n",
       "    <tr>\n",
       "      <th>12167</th>\n",
       "      <td>LOYAL DOG WINERY</td>\n",
       "      <td>5083</td>\n",
       "    </tr>\n",
       "  </tbody>\n",
       "</table>\n",
       "<p>131 rows × 2 columns</p>\n",
       "</div>"
      ],
      "text/plain": [
       "                        VendorName  VendorNumber\n",
       "0      SHAW ROSS INT L IMP LTD              8320\n",
       "1      BROWN-FORMAN CORP                    1128\n",
       "3      ULTRA BEVERAGE COMPANY LLP           9165\n",
       "4      PROXIMO SPIRITS INC.                 7245\n",
       "7      MOET HENNESSY USA INC                8112\n",
       "...                            ...           ...\n",
       "11484  TRUETT HURST                         9099\n",
       "11707  GILMANTON WINERY & VINEYARD          3551\n",
       "11799  AAPER ALCOHOL & CHEMICAL CO            54\n",
       "11918  BLACK COVE BEVERAGES                90059\n",
       "12167  LOYAL DOG WINERY                     5083\n",
       "\n",
       "[131 rows x 2 columns]"
      ]
     },
     "execution_count": 67,
     "metadata": {},
     "output_type": "execute_result"
    }
   ],
   "source": [
    "DimVendor"
   ]
  },
  {
   "cell_type": "markdown",
   "metadata": {},
   "source": [
    "# Connecting to SQL Server, then creating Database for these objects"
   ]
  },
  {
   "cell_type": "code",
   "execution_count": 68,
   "metadata": {},
   "outputs": [
    {
     "name": "stdout",
     "output_type": "stream",
     "text": [
      "\u001b[92m Successfully connected to SQL Server\n"
     ]
    }
   ],
   "source": [
    "conn_str = (\n",
    "    r'DRIVER={ODBC Driver 17 for SQL Server};'\n",
    "    r'SERVER=;'\n",
    "    r'DATABASE=master;'\n",
    "    r'Trusted_Connection=;'\n",
    ")\n",
    "\n",
    "try:\n",
    "    conn = pyodbc.connect(conn_str)\n",
    "    print(\"\\033[92m Successfully connected to SQL Server\")\n",
    "    conn.autocommit = True\n",
    "except pyodbc.Error as e:\n",
    "    print(\"'\\033[91m Error: Could not connect to SQL Server\")\n",
    "    print(e)"
   ]
  },
  {
   "cell_type": "code",
   "execution_count": 69,
   "metadata": {},
   "outputs": [
    {
     "name": "stdout",
     "output_type": "stream",
     "text": [
      "\u001b[96mMicrosoft SQL Server 2019 (RTM) - 15.0.2000.5 (X64) \n",
      "\tSep 24 2019 13:48:23 \n",
      "\tCopyright (C) 2019 Microsoft Corporation\n",
      "\tDeveloper Edition (64-bit) on Windows 10 Home 10.0 <X64> (Build 22631: ) (Hypervisor)\n",
      "\n"
     ]
    }
   ],
   "source": [
    "cursor = conn.cursor()\n",
    "cursor.execute(\"USE master\")\n",
    "cursor.execute(\"SELECT @@version;\")\n",
    "row = cursor.fetchone()\n",
    "while row:\n",
    "    print('\\033[96m' + str(row[0]))\n",
    "    row = cursor.fetchone()"
   ]
  },
  {
   "cell_type": "code",
   "execution_count": 70,
   "metadata": {},
   "outputs": [
    {
     "name": "stdout",
     "output_type": "stream",
     "text": [
      "\u001b[92m Database was successfully created\n"
     ]
    }
   ],
   "source": [
    "try: \n",
    "    cursor = conn.cursor()\n",
    "    cursor.execute(\"IF EXISTS(SELECT name FROM sys.databases WHERE name = 'Inventory') DROP DATABASE Inventory\")\n",
    "    cursor.execute(\"CREATE DATABASE Inventory\")\n",
    "    print(\"\\033[92m Database was successfully created\")\n",
    "except pyodbc.Error as e:\n",
    "    print(\"'\\033[91m Error: Database wasn't successfully created\")\n",
    "    print(e)"
   ]
  },
  {
   "cell_type": "markdown",
   "metadata": {},
   "source": [
    "# Creating tables in SQL Server Database for DataFrame"
   ]
  },
  {
   "cell_type": "markdown",
   "metadata": {},
   "source": [
    "### `dfPurchasePriceDesc`"
   ]
  },
  {
   "cell_type": "code",
   "execution_count": 71,
   "metadata": {},
   "outputs": [
    {
     "name": "stdout",
     "output_type": "stream",
     "text": [
      "\u001b[92m The table was successfully created\n"
     ]
    }
   ],
   "source": [
    "try: \n",
    "    cursor = conn.cursor()\n",
    "    cursor.execute(\"USE Inventory\")\n",
    "    cursor.execute(\"IF OBJECT_ID('dbo.FactPurchasePriceDesc', 'U') IS NOT NULL DROP TABLE dbo.FactPurchasePriceDesc\")\n",
    "    cursor.execute('''CREATE TABLE dbo.FactPurchasePriceDesc (\n",
    "                                  Brand int,\n",
    "                                  Description nvarchar(255),\n",
    "                                  Price decimal(12,6),\n",
    "                                  Size nvarchar(255),\n",
    "                                  Volume nvarchar(255),\n",
    "                                  Classification  int,\n",
    "                                  PurchasePrice decimal(12,6),\n",
    "                                  VendorNumber int,\n",
    "                                  VendorName nvarchar(255))       \n",
    "    ''')\n",
    "    print(\"\\033[92m The table was successfully created\")\n",
    "except pyodbc.Error as e:\n",
    "    print(\"'\\033[91m Error: The table wasn't successfully created\")\n",
    "    print(e)"
   ]
  },
  {
   "cell_type": "code",
   "execution_count": 72,
   "metadata": {},
   "outputs": [
    {
     "name": "stdout",
     "output_type": "stream",
     "text": [
      "\u001b[92m The table was successfully loaded by DataFrame\n"
     ]
    }
   ],
   "source": [
    "try:\n",
    "    for index, row in dfPurchasePriceDesc.iterrows():\n",
    "        count = cursor.execute(\"\"\"INSERT INTO dbo.FactPurchasePriceDesc(\n",
    "            Brand,\n",
    "            Description,\n",
    "            Price,\n",
    "            Size,\n",
    "            Volume,\n",
    "            Classification,\n",
    "            PurchasePrice,\n",
    "            VendorNumber,\n",
    "            VendorName)\n",
    "        VALUES (?,?,?,?,?,?,?,?,?)\"\"\", \n",
    "        row.Brand, \n",
    "        row.Description,\n",
    "        row.Price, \n",
    "        row.Size, \n",
    "        row.Volume, \n",
    "        row.Classification, \n",
    "        row.PurchasePrice, \n",
    "        row.VendorNumber, \n",
    "        row.VendorName)\n",
    "    print(\"\\033[92m The table was successfully loaded by DataFrame\")\n",
    "except pyodbc.Error as e:\n",
    "    print(\"'\\033[91m Error: The table wasn't successfully loaded by DataFrame\")\n",
    "    print(e)\n",
    "\n",
    "\n",
    "conn.commit()\n"
   ]
  },
  {
   "cell_type": "markdown",
   "metadata": {},
   "source": [
    "### Veriyfing if all data was loaded"
   ]
  },
  {
   "cell_type": "code",
   "execution_count": 73,
   "metadata": {},
   "outputs": [
    {
     "name": "stdout",
     "output_type": "stream",
     "text": [
      "\u001b[93m Rows inserted: 12260\n"
     ]
    }
   ],
   "source": [
    "cursor = conn.cursor()\n",
    "cursor.execute(\"SELECT COUNT(*) FROM Inventory.dbo.FactPurchasePriceDesc\")\n",
    "row = cursor.fetchone()\n",
    "while row:\n",
    "    print('\\033[93m Rows inserted: ' + str(row[0]))\n",
    "    row = cursor.fetchone()"
   ]
  },
  {
   "cell_type": "code",
   "execution_count": 74,
   "metadata": {},
   "outputs": [
    {
     "name": "stdout",
     "output_type": "stream",
     "text": [
      "\u001b[95m The quantity of records in DataFrame: 12260\n"
     ]
    }
   ],
   "source": [
    "print(\"\\033[95m The quantity of records in DataFrame: {}\".format(len(dfPurchasePriceDesc)))"
   ]
  },
  {
   "cell_type": "markdown",
   "metadata": {},
   "source": [
    "###  `dfBeginningOfInventory`"
   ]
  },
  {
   "cell_type": "code",
   "execution_count": 75,
   "metadata": {},
   "outputs": [
    {
     "name": "stdout",
     "output_type": "stream",
     "text": [
      "\u001b[92m The table was successfully created\n"
     ]
    }
   ],
   "source": [
    "try: \n",
    "    cursor = conn.cursor()\n",
    "    cursor.execute(\"USE Inventory\")\n",
    "    cursor.execute(\"IF OBJECT_ID('dbo.FactBeginningInventory', 'U') IS NOT NULL DROP TABLE dbo.FactBeginningInventory\")\n",
    "    cursor.execute('''CREATE TABLE dbo.FactBeginningInventory (\n",
    "                                InventoryId nvarchar(255),\n",
    "                                Store int,\n",
    "                                City nvarchar(255),\n",
    "                                Brand int,\n",
    "                                Description nvarchar(255),\n",
    "                                Size nvarchar(255),\n",
    "                                onHand int,\n",
    "                                Price decimal(12,6),\n",
    "                                StartDate datetime)       \n",
    "    ''')\n",
    "    print(\"\\033[92m The table was successfully created\")\n",
    "except pyodbc.Error as e:\n",
    "    print(\"'\\033[91m Error: The table wasn't successfully created\")\n",
    "    print(e)"
   ]
  },
  {
   "cell_type": "code",
   "execution_count": 76,
   "metadata": {},
   "outputs": [
    {
     "name": "stdout",
     "output_type": "stream",
     "text": [
      "\u001b[92m The table was successfully loaded by DataFrame\n"
     ]
    }
   ],
   "source": [
    "try:\n",
    "    for index, row in dfBeginningOfInventory.iterrows():\n",
    "        cursor.execute(\"\"\"INSERT INTO dbo.FactBeginningInventory(\n",
    "            InventoryId,\n",
    "            Store,\n",
    "            City,\n",
    "            Brand,\n",
    "            Description,\n",
    "            Size,\n",
    "            onHand,\n",
    "            Price,\n",
    "            StartDate)\n",
    "        VALUES (?,?,?,?,?,?,?,?,?)\"\"\", \n",
    "        row.InventoryId, \n",
    "        row.Store,\n",
    "        row.City, \n",
    "        row.Brand, \n",
    "        row.Description, \n",
    "        row.Size, \n",
    "        row.onHand, \n",
    "        row.Price, \n",
    "        row.StartDate)\n",
    "    print(\"\\033[92m The table was successfully loaded by DataFrame\")\n",
    "except pyodbc.Error as e:\n",
    "    print(\"'\\033[91m Error: The table wasn't successfully loaded by DataFrame\")\n",
    "    print(e)\n",
    "\n",
    "\n",
    "conn.commit()\n"
   ]
  },
  {
   "cell_type": "markdown",
   "metadata": {},
   "source": [
    "### Verifying if all data was loaded:"
   ]
  },
  {
   "cell_type": "code",
   "execution_count": 77,
   "metadata": {},
   "outputs": [
    {
     "name": "stdout",
     "output_type": "stream",
     "text": [
      "\u001b[93m Rows inserted: 206529\n"
     ]
    }
   ],
   "source": [
    "cursor = conn.cursor()\n",
    "cursor.execute(\"SELECT COUNT(*) FROM Inventory.dbo.FactBeginningInventory\")\n",
    "row = cursor.fetchone()\n",
    "while row:\n",
    "    print('\\033[93m Rows inserted: ' + str(row[0]))\n",
    "    row = cursor.fetchone()"
   ]
  },
  {
   "cell_type": "code",
   "execution_count": 78,
   "metadata": {},
   "outputs": [
    {
     "name": "stdout",
     "output_type": "stream",
     "text": [
      "\u001b[95m The quantity of records in DataFrame: 206529\n"
     ]
    }
   ],
   "source": [
    "print(\"\\033[95m The quantity of records in DataFrame: {}\".format(len(dfBeginningOfInventory)))"
   ]
  },
  {
   "cell_type": "markdown",
   "metadata": {},
   "source": [
    "### `dfEndOfInventory`"
   ]
  },
  {
   "cell_type": "code",
   "execution_count": 79,
   "metadata": {},
   "outputs": [
    {
     "name": "stdout",
     "output_type": "stream",
     "text": [
      "\u001b[92m The table was successfully created\n"
     ]
    }
   ],
   "source": [
    "try: \n",
    "    cursor = conn.cursor()\n",
    "    cursor.execute(\"USE Inventory\")\n",
    "    cursor.execute(\"IF OBJECT_ID('dbo.FactEndInventory', 'U') IS NOT NULL DROP TABLE dbo.FactEndInventory\")\n",
    "    cursor.execute('''CREATE TABLE dbo.FactEndInventory (\n",
    "                                InventoryId nvarchar(255),\n",
    "                                Store int,\n",
    "                                City nvarchar(255),\n",
    "                                Brand int,\n",
    "                                Description nvarchar(255),\n",
    "                                Size nvarchar(255),\n",
    "                                onHand int,\n",
    "                                Price decimal(12,6),\n",
    "                                EndDate datetime)       \n",
    "    ''')\n",
    "    print(\"\\033[92m The table was successfully created\")\n",
    "except pyodbc.Error as e:\n",
    "    print(\"'\\033[91m Error: The table wasn't successfully created\")\n",
    "    print(e)"
   ]
  },
  {
   "cell_type": "code",
   "execution_count": 80,
   "metadata": {},
   "outputs": [
    {
     "name": "stdout",
     "output_type": "stream",
     "text": [
      "\u001b[92m The table was successfully loaded by DataFrame\n"
     ]
    }
   ],
   "source": [
    "try:\n",
    "    for index, row in dfEndOfInventory.iterrows():\n",
    "        cursor.execute(\"\"\"INSERT INTO dbo.FactEndInventory(\n",
    "            InventoryId,\n",
    "            Store,\n",
    "            City,\n",
    "            Brand,\n",
    "            Description,\n",
    "            Size,\n",
    "            onHand,\n",
    "            Price,\n",
    "            EndDate)\n",
    "        VALUES (?,?,?,?,?,?,?,?,?)\"\"\", \n",
    "        row.InventoryId, \n",
    "        row.Store,\n",
    "        row.City, \n",
    "        row.Brand, \n",
    "        row.Description, \n",
    "        row.Size, \n",
    "        row.onHand, \n",
    "        row.Price, \n",
    "        row.EndDate)\n",
    "    print(\"\\033[92m The table was successfully loaded by DataFrame\")\n",
    "except pyodbc.Error as e:\n",
    "    print(\"'\\033[91m Error: The table wasn't successfully loaded by DataFrame\")\n",
    "    print(e)\n",
    "\n",
    "conn.commit()\n"
   ]
  },
  {
   "cell_type": "markdown",
   "metadata": {},
   "source": [
    "### Verifying if all data was loaded:"
   ]
  },
  {
   "cell_type": "code",
   "execution_count": 81,
   "metadata": {},
   "outputs": [
    {
     "name": "stdout",
     "output_type": "stream",
     "text": [
      "\u001b[93m Rows inserted: 223205\n"
     ]
    }
   ],
   "source": [
    "cursor = conn.cursor()\n",
    "cursor.execute(\"SELECT COUNT(*) FROM Inventory.dbo.FactEndInventory\")\n",
    "row = cursor.fetchone()\n",
    "while row:\n",
    "    print('\\033[93m Rows inserted: ' + str(row[0]))\n",
    "    row = cursor.fetchone()"
   ]
  },
  {
   "cell_type": "code",
   "execution_count": 82,
   "metadata": {},
   "outputs": [
    {
     "name": "stdout",
     "output_type": "stream",
     "text": [
      "\u001b[95m The quantity of records in DataFrame: 223205\n"
     ]
    }
   ],
   "source": [
    "print(\"\\033[95m The quantity of records in DataFrame: {}\".format(len(dfEndOfInventory)))"
   ]
  },
  {
   "cell_type": "markdown",
   "metadata": {},
   "source": [
    "### `dfInvoicePurchase`"
   ]
  },
  {
   "cell_type": "code",
   "execution_count": 83,
   "metadata": {},
   "outputs": [
    {
     "name": "stdout",
     "output_type": "stream",
     "text": [
      "\u001b[92m The table was successfully created\n"
     ]
    }
   ],
   "source": [
    "try: \n",
    "    cursor = conn.cursor()\n",
    "    cursor.execute(\"USE Inventory\")\n",
    "    cursor.execute(\"IF OBJECT_ID('dbo.FactInvoicePurchases', 'U') IS NOT NULL DROP TABLE dbo.FactInvoicePurchases\")\n",
    "    cursor.execute('''CREATE TABLE dbo.FactInvoicePurchases (\n",
    "                            VendorNumber int,\n",
    "                            VendorName nvarchar(255),\n",
    "                            InvoiceDate datetime,\n",
    "                            PONumber int,\n",
    "                            PODate datetime,\n",
    "                            PayDate datetime,\n",
    "                            Quantity int,\n",
    "                            Dollars decimal(19,9),\n",
    "                            Freight decimal(19,9),\n",
    "                            Approval nvarchar(255))       \n",
    "    ''')\n",
    "    print(\"\\033[92m The table was successfully created\")\n",
    "except pyodbc.Error as e:\n",
    "    print(\"'\\033[91m Error: The table wasn't successfully created\")\n",
    "    print(e)"
   ]
  },
  {
   "cell_type": "code",
   "execution_count": 84,
   "metadata": {},
   "outputs": [
    {
     "name": "stdout",
     "output_type": "stream",
     "text": [
      "\u001b[92m The table was successfully loaded by DataFrame\n"
     ]
    }
   ],
   "source": [
    "try:\n",
    "    for index, row in dfInvoicePurchase.iterrows():\n",
    "        cursor.execute(\"\"\"INSERT INTO dbo.FactInvoicePurchases(\n",
    "            VendorNumber,\n",
    "            VendorName,\n",
    "            InvoiceDate,\n",
    "            PONumber,\n",
    "            PODate,\n",
    "            PayDate,\n",
    "            Quantity,\n",
    "            Dollars,\n",
    "            Freight,\n",
    "            Approval)\n",
    "        VALUES (?,?,?,?,?,?,?,?,?,?)\"\"\", \n",
    "        row.VendorNumber, \n",
    "        row.VendorName,\n",
    "        row.InvoiceDate, \n",
    "        row.PONumber, \n",
    "        row.PODate, \n",
    "        row.PayDate, \n",
    "        row.Quantity, \n",
    "        row.Dollars, \n",
    "        row.Freight,\n",
    "        row.Approval)\n",
    "    print(\"\\033[92m The table was successfully loaded by DataFrame\")\n",
    "except pyodbc.Error as e:\n",
    "    print(\"'\\033[91m Error: The table wasn't successfully loaded by DataFrame\")\n",
    "    print(e)\n",
    "\n",
    "conn.commit()"
   ]
  },
  {
   "cell_type": "markdown",
   "metadata": {},
   "source": [
    "### Verifying if all data was loaded:"
   ]
  },
  {
   "cell_type": "code",
   "execution_count": 85,
   "metadata": {},
   "outputs": [
    {
     "name": "stdout",
     "output_type": "stream",
     "text": [
      "\u001b[93m Rows inserted: 5543\n"
     ]
    }
   ],
   "source": [
    "cursor = conn.cursor()\n",
    "cursor.execute(\"SELECT COUNT(*) FROM Inventory.dbo.FactInvoicePurchases\")\n",
    "row = cursor.fetchone()\n",
    "while row:\n",
    "    print('\\033[93m Rows inserted: ' + str(row[0]))\n",
    "    row = cursor.fetchone()"
   ]
  },
  {
   "cell_type": "code",
   "execution_count": 86,
   "metadata": {},
   "outputs": [
    {
     "name": "stdout",
     "output_type": "stream",
     "text": [
      "\u001b[95m The quantity of records in DataFrame: 5543\n"
     ]
    }
   ],
   "source": [
    "print(\"\\033[95m The quantity of records in DataFrame: {}\".format(len(dfInvoicePurchase)))"
   ]
  },
  {
   "cell_type": "markdown",
   "metadata": {},
   "source": [
    "### `dfFinalPurchase`"
   ]
  },
  {
   "cell_type": "code",
   "execution_count": 87,
   "metadata": {},
   "outputs": [
    {
     "name": "stdout",
     "output_type": "stream",
     "text": [
      "\u001b[92m The table was successfully created\n"
     ]
    }
   ],
   "source": [
    "try: \n",
    "    cursor = conn.cursor()\n",
    "    cursor.execute(\"USE Inventory\")\n",
    "    cursor.execute(\"IF OBJECT_ID('dbo.FactFinalPurchase', 'U') IS NOT NULL DROP TABLE dbo.FactFinalPurchase\")\n",
    "    cursor.execute('''CREATE TABLE dbo.FactFinalPurchase (\n",
    "                        InventoryId nvarchar(255),\n",
    "                        Store int,\n",
    "                        Brand int,\n",
    "                        Description nvarchar(255),\n",
    "                        Size nvarchar(255),\n",
    "                        VendorNumber int,\n",
    "                        VendorName nvarchar(255),\n",
    "                        PONumber int,\n",
    "                        PODate datetime,\n",
    "                        ReceivingDate datetime,\n",
    "                        InvoiceDate datetime,\n",
    "                        PayDate datetime,\n",
    "                        PurchasePrice decimal(12,6),\n",
    "                        Quantity int,\n",
    "                        Dollars decimal(12,6),\n",
    "                        Classification int)       \n",
    "    ''')\n",
    "    print(\"\\033[92m The table was successfully created\")\n",
    "except pyodbc.Error as e:\n",
    "    print(\"'\\033[91m Error: The table wasn't successfully created\")\n",
    "    print(e)"
   ]
  },
  {
   "cell_type": "code",
   "execution_count": 88,
   "metadata": {},
   "outputs": [
    {
     "name": "stdout",
     "output_type": "stream",
     "text": [
      "\u001b[92m The table was successfully loaded by DataFrame\n"
     ]
    }
   ],
   "source": [
    "try:\n",
    "    for index, row in dfFinalPurchase.iterrows():\n",
    "        cursor.execute(\"\"\"INSERT INTO dbo.FactFinalPurchase(\n",
    "            InventoryId,\n",
    "            Store,\n",
    "            Brand,\n",
    "            Description,\n",
    "            Size,\n",
    "            VendorNumber,\n",
    "            VendorName,\n",
    "            PONumber,\n",
    "            PODate,\n",
    "            ReceivingDate,\n",
    "            InvoiceDate,\n",
    "            PayDate,\n",
    "            PurchasePrice,\n",
    "            Quantity,\n",
    "            Dollars,\n",
    "            Classification)\n",
    "        VALUES (?,?,?,?,?,?,?,?,?,?,?,?,?,?,?,?)\"\"\", \n",
    "        row.InventoryId, \n",
    "        row.Store,\n",
    "        row.Brand, \n",
    "        row.Description, \n",
    "        row.Size, \n",
    "        row.VendorNumber, \n",
    "        row.VendorName, \n",
    "        row.PONumber, \n",
    "        row.PODate,\n",
    "        row.ReceivingDate,\n",
    "        row.InvoiceDate,\n",
    "        row.PayDate,\n",
    "        row.PurchasePrice,\n",
    "        row.Quantity,\n",
    "        row.Dollars,\n",
    "        row.Classification)\n",
    "    print(\"\\033[92m The table was successfully loaded by DataFrame\")\n",
    "except pyodbc.Error as e:\n",
    "    print(\"'\\033[91m Error: The table wasn't successfully loaded by DataFrame\")\n",
    "    print(e)\n",
    "\n",
    "conn.commit()"
   ]
  },
  {
   "cell_type": "markdown",
   "metadata": {},
   "source": [
    "### Verifying if all data was loaded:"
   ]
  },
  {
   "cell_type": "code",
   "execution_count": 89,
   "metadata": {},
   "outputs": [
    {
     "name": "stdout",
     "output_type": "stream",
     "text": [
      "\u001b[93m Rows inserted: 2372471\n"
     ]
    }
   ],
   "source": [
    "cursor = conn.cursor()\n",
    "cursor.execute(\"SELECT COUNT(*) FROM Inventory.dbo.FactFinalPurchase\")\n",
    "row = cursor.fetchone()\n",
    "while row:\n",
    "    print('\\033[93m Rows inserted: ' + str(row[0]))\n",
    "    row = cursor.fetchone()"
   ]
  },
  {
   "cell_type": "code",
   "execution_count": 90,
   "metadata": {},
   "outputs": [
    {
     "name": "stdout",
     "output_type": "stream",
     "text": [
      "\u001b[95m The quantity of records in DataFrame: 2372471\n"
     ]
    }
   ],
   "source": [
    "print(\"\\033[95m The quantity of records in DataFrame: {}\".format(len(dfFinalPurchase)))"
   ]
  },
  {
   "cell_type": "markdown",
   "metadata": {},
   "source": [
    "### `dfFinalSales`"
   ]
  },
  {
   "cell_type": "code",
   "execution_count": 91,
   "metadata": {},
   "outputs": [
    {
     "name": "stdout",
     "output_type": "stream",
     "text": [
      "\u001b[92m The table was successfully created\n"
     ]
    }
   ],
   "source": [
    "try: \n",
    "    cursor = conn.cursor()\n",
    "    cursor.execute(\"USE Inventory\")\n",
    "    cursor.execute(\"IF OBJECT_ID('dbo.FactFinalSales', 'U') IS NOT NULL DROP TABLE dbo.FactFinalSales\")\n",
    "    cursor.execute('''CREATE TABLE dbo.FactFinalSales (\n",
    "                    InventoryId nvarchar(255),\n",
    "                    Store int,\n",
    "                    Brand int,\n",
    "                    Description nvarchar(255),\n",
    "                    Size nvarchar(255),\n",
    "                    SalesQuantity int,\n",
    "                    SalesDollars decimal(12,6),\n",
    "                    SalesPrice decimal(12,6),\n",
    "                    SalesDate datetime,\n",
    "                    Volume int,\n",
    "                    Classification int,\n",
    "                    ExciseTax decimal(12,6),\n",
    "                    VendorNo int,\n",
    "                    VendorName nvarchar(255))       \n",
    "    ''')\n",
    "    print(\"\\033[92m The table was successfully created\")\n",
    "except pyodbc.Error as e:\n",
    "    print(\"'\\033[91m Error: The table wasn't successfully created\")\n",
    "    print(e)"
   ]
  },
  {
   "cell_type": "code",
   "execution_count": 92,
   "metadata": {},
   "outputs": [
    {
     "name": "stdout",
     "output_type": "stream",
     "text": [
      "\u001b[92m The table was successfully loaded by DataFrame\n"
     ]
    }
   ],
   "source": [
    "try:\n",
    "    for index, row in dfFinalSales.iterrows():\n",
    "        cursor.execute(\"\"\"INSERT INTO dbo.FactFinalSales(\n",
    "            InventoryId,\n",
    "            Store,\n",
    "            Brand,\n",
    "            Description,\n",
    "            Size,\n",
    "            SalesQuantity,\n",
    "            SalesDollars,\n",
    "            SalesPrice,\n",
    "            SalesDate,\n",
    "            Volume,\n",
    "            Classification,\n",
    "            ExciseTax,\n",
    "            VendorNo,\n",
    "            VendorName)\n",
    "        VALUES (?,?,?,?,?,?,?,?,?,?,?,?,?,?)\"\"\", \n",
    "        row.InventoryId, \n",
    "        row.Store,\n",
    "        row.Brand, \n",
    "        row.Description, \n",
    "        row.Size, \n",
    "        row.SalesQuantity, \n",
    "        row.SalesDollars, \n",
    "        row.SalesPrice, \n",
    "        row.SalesDate,\n",
    "        row.Volume,\n",
    "        row.Classification,\n",
    "        row.ExciseTax,\n",
    "        row.VendorNo,\n",
    "        row.VendorName)\n",
    "    print(\"\\033[92m The table was successfully loaded by DataFrame\")\n",
    "except pyodbc.Error as e:\n",
    "    print(\"'\\033[91m Error: The table wasn't successfully loaded by DataFrame\")\n",
    "    print(e)\n",
    "\n",
    "conn.commit()"
   ]
  },
  {
   "cell_type": "markdown",
   "metadata": {},
   "source": [
    "### Verifying if all data was loaded:"
   ]
  },
  {
   "cell_type": "code",
   "execution_count": 93,
   "metadata": {},
   "outputs": [
    {
     "name": "stdout",
     "output_type": "stream",
     "text": [
      "\u001b[93m Rows inserted: 1048575\n"
     ]
    }
   ],
   "source": [
    "cursor = conn.cursor()\n",
    "cursor.execute(\"SELECT COUNT(*) FROM Inventory.dbo.FactFinalSales\")\n",
    "row = cursor.fetchone()\n",
    "while row:\n",
    "    print('\\033[93m Rows inserted: ' + str(row[0]))\n",
    "    row = cursor.fetchone()"
   ]
  },
  {
   "cell_type": "code",
   "execution_count": 94,
   "metadata": {},
   "outputs": [
    {
     "name": "stdout",
     "output_type": "stream",
     "text": [
      "\u001b[95m The quantity of records in DataFrame: 1048575\n"
     ]
    }
   ],
   "source": [
    "print(\"\\033[95m The quantity of records in DataFrame: {}\".format(len(dfFinalSales)))"
   ]
  },
  {
   "cell_type": "markdown",
   "metadata": {},
   "source": [
    "### `DimBrand`"
   ]
  },
  {
   "cell_type": "code",
   "execution_count": 95,
   "metadata": {},
   "outputs": [
    {
     "name": "stdout",
     "output_type": "stream",
     "text": [
      "\u001b[92m The table was successfully created\n"
     ]
    }
   ],
   "source": [
    "try: \n",
    "    cursor = conn.cursor()\n",
    "    cursor.execute(\"USE Inventory\")\n",
    "    cursor.execute(\"IF OBJECT_ID('dbo.DimBrand', 'U') IS NOT NULL DROP TABLE dbo.DimBrand\")\n",
    "    cursor.execute('''CREATE TABLE dbo.DimBrand (\n",
    "                    InventoryId nvarchar(255),\n",
    "                    Store int,\n",
    "                    City nvarchar(255),\n",
    "                    Brand int,\n",
    "                    Description nvarchar(255),\n",
    "                    Size nvarchar(255))       \n",
    "    ''')\n",
    "    print(\"\\033[92m The table was successfully created\")\n",
    "except pyodbc.Error as e:\n",
    "    print(\"'\\033[91m Error: The table wasn't successfully created\")\n",
    "    print(e)"
   ]
  },
  {
   "cell_type": "code",
   "execution_count": 96,
   "metadata": {},
   "outputs": [
    {
     "name": "stdout",
     "output_type": "stream",
     "text": [
      "\u001b[92m The table was successfully loaded by DataFrame\n"
     ]
    }
   ],
   "source": [
    "try:\n",
    "    for index, row in DimBrand.iterrows():\n",
    "        cursor.execute(\"\"\"INSERT INTO dbo.DimBrand(\n",
    "            InventoryId,\n",
    "            Store,\n",
    "            City,\n",
    "            Brand,\n",
    "            Description,\n",
    "            Size)\n",
    "        VALUES (?,?,?,?,?,?)\"\"\", \n",
    "        row.InventoryId, \n",
    "        row.Store,\n",
    "        row.City,\n",
    "        row.Brand, \n",
    "        row.Description, \n",
    "        row.Size)\n",
    "    print(\"\\033[92m The table was successfully loaded by DataFrame\")\n",
    "except pyodbc.Error as e:\n",
    "    print(\"'\\033[91m Error: The table wasn't successfully loaded by DataFrame\")\n",
    "    print(e)\n",
    "\n",
    "conn.commit()"
   ]
  },
  {
   "cell_type": "markdown",
   "metadata": {},
   "source": [
    "### Verifying if all data was loaded:"
   ]
  },
  {
   "cell_type": "code",
   "execution_count": 97,
   "metadata": {},
   "outputs": [
    {
     "name": "stdout",
     "output_type": "stream",
     "text": [
      "\u001b[93m Rows inserted: 206529\n"
     ]
    }
   ],
   "source": [
    "cursor = conn.cursor()\n",
    "cursor.execute(\"SELECT COUNT(*) FROM Inventory.dbo.DimBrand\")\n",
    "row = cursor.fetchone()\n",
    "while row:\n",
    "    print('\\033[93m Rows inserted: ' + str(row[0]))\n",
    "    row = cursor.fetchone()"
   ]
  },
  {
   "cell_type": "code",
   "execution_count": 98,
   "metadata": {},
   "outputs": [
    {
     "name": "stdout",
     "output_type": "stream",
     "text": [
      "\u001b[95m The quantity of records in DataFrame: 206529\n"
     ]
    }
   ],
   "source": [
    "print(\"\\033[95m The quantity of records in DataFrame: {}\".format(len(DimBrand)))"
   ]
  },
  {
   "cell_type": "markdown",
   "metadata": {},
   "source": [
    "### `DimVendor`"
   ]
  },
  {
   "cell_type": "code",
   "execution_count": 99,
   "metadata": {},
   "outputs": [
    {
     "name": "stdout",
     "output_type": "stream",
     "text": [
      "\u001b[92m The table was successfully created\n"
     ]
    }
   ],
   "source": [
    "try: \n",
    "    cursor = conn.cursor()\n",
    "    cursor.execute(\"USE Inventory\")\n",
    "    cursor.execute(\"IF OBJECT_ID('dbo.DimVendor', 'U') IS NOT NULL DROP TABLE dbo.DimVendor\")\n",
    "    cursor.execute('''CREATE TABLE dbo.DimVendor (\n",
    "                    VendorName nvarchar(255),\n",
    "                    VendorNumber int)       \n",
    "    ''')\n",
    "    print(\"\\033[92m The table was successfully created\")\n",
    "except pyodbc.Error as e:\n",
    "    print(\"'\\033[91m Error: The table wasn't successfully created\")\n",
    "    print(e)"
   ]
  },
  {
   "cell_type": "code",
   "execution_count": 100,
   "metadata": {},
   "outputs": [
    {
     "name": "stdout",
     "output_type": "stream",
     "text": [
      "\u001b[92m The table was successfully loaded by DataFrame\n"
     ]
    }
   ],
   "source": [
    "try:\n",
    "    for index, row in DimVendor.iterrows():\n",
    "        cursor.execute(\"\"\"INSERT INTO dbo.DimVendor(\n",
    "            VendorName,\n",
    "            VendorNumber)\n",
    "        VALUES (?,?)\"\"\", \n",
    "        row.VendorName, \n",
    "        row.VendorNumber)\n",
    "    print(\"\\033[92m The table was successfully loaded by DataFrame\")\n",
    "except pyodbc.Error as e:\n",
    "    print(\"'\\033[91m Error: The table wasn't successfully loaded by DataFrame\")\n",
    "    print(e)\n",
    "\n",
    "conn.commit()"
   ]
  },
  {
   "cell_type": "markdown",
   "metadata": {},
   "source": [
    "### Verifying if all data was loaded:"
   ]
  },
  {
   "cell_type": "code",
   "execution_count": 101,
   "metadata": {},
   "outputs": [
    {
     "name": "stdout",
     "output_type": "stream",
     "text": [
      "\u001b[93m Rows inserted: 131\n"
     ]
    }
   ],
   "source": [
    "cursor = conn.cursor()\n",
    "cursor.execute(\"SELECT COUNT(*) FROM Inventory.dbo.DimVendor\")\n",
    "row = cursor.fetchone()\n",
    "while row:\n",
    "    print('\\033[93m Rows inserted: ' + str(row[0]))\n",
    "    row = cursor.fetchone()"
   ]
  },
  {
   "cell_type": "code",
   "execution_count": 102,
   "metadata": {},
   "outputs": [
    {
     "name": "stdout",
     "output_type": "stream",
     "text": [
      "\u001b[95m The quantity of records in DataFrame: 131\n"
     ]
    }
   ],
   "source": [
    "print(\"\\033[95m The quantity of records in DataFrame: {}\".format(len(DimVendor)))"
   ]
  },
  {
   "cell_type": "markdown",
   "metadata": {},
   "source": [
    "### `DimCalendar`"
   ]
  },
  {
   "cell_type": "code",
   "execution_count": 103,
   "metadata": {},
   "outputs": [
    {
     "name": "stdout",
     "output_type": "stream",
     "text": [
      "\u001b[92m The table was successfully created\n"
     ]
    }
   ],
   "source": [
    "try: \n",
    "    cursor = conn.cursor()\n",
    "    cursor.execute(\"USE Inventory\")\n",
    "    cursor.execute(\"IF OBJECT_ID('dbo.DimCalendar', 'U') IS NOT NULL DROP TABLE dbo.DimCalendar\")\n",
    "    cursor.execute('''\n",
    "    DECLARE @StartDate  date = '20100101';\n",
    "DECLARE @CutoffDate date = DATEADD(DAY, -1, DATEADD(YEAR, 30, @StartDate));\n",
    "\n",
    ";WITH seq(n) AS \n",
    "(\n",
    "  SELECT 0 UNION ALL SELECT n + 1 FROM seq\n",
    "  WHERE n < DATEDIFF(DAY, @StartDate, @CutoffDate)\n",
    "),\n",
    "d(d) AS \n",
    "(\n",
    "  SELECT DATEADD(DAY, n, @StartDate) FROM seq\n",
    "),\n",
    "src AS\n",
    "(\n",
    "  SELECT\n",
    "    TheDate         = CONVERT(date, d),\n",
    "    TheDay          = DATEPART(DAY,       d),\n",
    "    TheDayName      = DATENAME(WEEKDAY,   d),\n",
    "    TheWeek         = DATEPART(WEEK,      d),\n",
    "    TheISOWeek      = DATEPART(ISO_WEEK,  d),\n",
    "    TheDayOfWeek    = DATEPART(WEEKDAY,   d),\n",
    "    TheMonth        = DATEPART(MONTH,     d),\n",
    "    TheMonthName    = DATENAME(MONTH,     d),\n",
    "    TheQuarter      = DATEPART(Quarter,   d),\n",
    "    TheYear         = DATEPART(YEAR,      d),\n",
    "    TheFirstOfMonth = DATEFROMPARTS(YEAR(d), MONTH(d), 1),\n",
    "    TheLastOfYear   = DATEFROMPARTS(YEAR(d), 12, 31),\n",
    "    TheDayOfYear    = DATEPART(DAYOFYEAR, d)\n",
    "  FROM d\n",
    "),\n",
    "dim AS\n",
    "(\n",
    "  SELECT\n",
    "    TheDate, \n",
    "    TheDay,\n",
    "    TheDaySuffix        = CONVERT(char(2), CASE WHEN TheDay / 10 = 1 THEN 'th' ELSE \n",
    "                            CASE RIGHT(TheDay, 1) WHEN '1' THEN 'st' WHEN '2' THEN 'nd' \n",
    "                            WHEN '3' THEN 'rd' ELSE 'th' END END),\n",
    "    TheDayName,\n",
    "    TheDayOfWeek,\n",
    "    TheDayOfWeekInMonth = CONVERT(tinyint, ROW_NUMBER() OVER \n",
    "                            (PARTITION BY TheFirstOfMonth, TheDayOfWeek ORDER BY TheDate)),\n",
    "    TheDayOfYear,\n",
    "    IsWeekend           = CASE WHEN TheDayOfWeek IN (CASE @@DATEFIRST WHEN 1 THEN 6 WHEN 7 THEN 1 END,7) \n",
    "                            THEN 1 ELSE 0 END,\n",
    "    TheWeek,\n",
    "    TheISOweek,\n",
    "    TheFirstOfWeek      = DATEADD(DAY, 1 - TheDayOfWeek, TheDate),\n",
    "    TheLastOfWeek       = DATEADD(DAY, 6, DATEADD(DAY, 1 - TheDayOfWeek, TheDate)),\n",
    "    TheWeekOfMonth      = CONVERT(tinyint, DENSE_RANK() OVER \n",
    "                            (PARTITION BY TheYear, TheMonth ORDER BY TheWeek)),\n",
    "    TheMonth,\n",
    "    TheMonthName,\n",
    "    TheFirstOfMonth,\n",
    "    TheLastOfMonth      = MAX(TheDate) OVER (PARTITION BY TheYear, TheMonth),\n",
    "    TheFirstOfNextMonth = DATEADD(MONTH, 1, TheFirstOfMonth),\n",
    "    TheLastOfNextMonth  = DATEADD(DAY, -1, DATEADD(MONTH, 2, TheFirstOfMonth)),\n",
    "    TheQuarter,\n",
    "    TheFirstOfQuarter   = MIN(TheDate) OVER (PARTITION BY TheYear, TheQuarter),\n",
    "    TheLastOfQuarter    = MAX(TheDate) OVER (PARTITION BY TheYear, TheQuarter),\n",
    "    TheYear,\n",
    "    TheISOYear          = TheYear - CASE WHEN TheMonth = 1 AND TheISOWeek > 51 THEN 1 \n",
    "                            WHEN TheMonth = 12 AND TheISOWeek = 1  THEN -1 ELSE 0 END,      \n",
    "    TheFirstOfYear      = DATEFROMPARTS(TheYear, 1,  1),\n",
    "    TheLastOfYear,\n",
    "    IsLeapYear          = CONVERT(bit, CASE WHEN (TheYear % 400 = 0) \n",
    "                            OR (TheYear % 4 = 0 AND TheYear % 100 <> 0) \n",
    "                            THEN 1 ELSE 0 END),\n",
    "    Has53Weeks          = CASE WHEN DATEPART(WEEK,     TheLastOfYear) = 53 THEN 1 ELSE 0 END,\n",
    "    Has53ISOWeeks       = CASE WHEN DATEPART(ISO_WEEK, TheLastOfYear) = 53 THEN 1 ELSE 0 END,\n",
    "    MMYYYY              = CONVERT(char(2), CONVERT(char(8), TheDate, 101))\n",
    "                          + CONVERT(char(4), TheYear),\n",
    "    Style101            = CONVERT(char(10), TheDate, 101),\n",
    "    Style103            = CONVERT(char(10), TheDate, 103),\n",
    "    Style112            = CONVERT(char(8),  TheDate, 112),\n",
    "    Style120            = CONVERT(char(10), TheDate, 120)\n",
    "  FROM src\n",
    ")\n",
    "SELECT *\n",
    "INTO dbo.DimCalendar \n",
    "FROM dim\n",
    "  ORDER BY TheDate\n",
    "  OPTION (MAXRECURSION 0);\n",
    "    ''')\n",
    "    print(\"\\033[92m The table was successfully created\")\n",
    "except pyodbc.Error as e:\n",
    "    print(\"'\\033[91m Error: The table wasn't successfully created\")\n",
    "    print(e)"
   ]
  },
  {
   "cell_type": "markdown",
   "metadata": {},
   "source": [
    "### Verifying if all data was loaded:"
   ]
  },
  {
   "cell_type": "code",
   "execution_count": 104,
   "metadata": {},
   "outputs": [
    {
     "name": "stdout",
     "output_type": "stream",
     "text": [
      "\u001b[93m Rows inserted: 10957\n"
     ]
    }
   ],
   "source": [
    "cursor = conn.cursor()\n",
    "cursor.execute(\"SELECT COUNT(*) FROM Inventory.dbo.DimCalendar\")\n",
    "row = cursor.fetchone()\n",
    "while row:\n",
    "    print('\\033[93m Rows inserted: ' + str(row[0]))\n",
    "    row = cursor.fetchone()"
   ]
  },
  {
   "cell_type": "markdown",
   "metadata": {},
   "source": [
    "# Close connection"
   ]
  },
  {
   "cell_type": "code",
   "execution_count": 105,
   "metadata": {},
   "outputs": [
    {
     "name": "stdout",
     "output_type": "stream",
     "text": [
      "\u001b[92m Connection was successfully closed\n"
     ]
    }
   ],
   "source": [
    "try:\n",
    "    conn.close()\n",
    "    print(\"\\033[92m Connection was successfully closed\")\n",
    "except pyodbc.Error as e:\n",
    "    print(\"'\\033[91m Error: Connection wasn't successfully closed\")\n",
    "    print(e)"
   ]
  }
 ],
 "metadata": {
  "kernelspec": {
   "display_name": "Python 3",
   "language": "python",
   "name": "python3"
  },
  "language_info": {
   "codemirror_mode": {
    "name": "ipython",
    "version": 3
   },
   "file_extension": ".py",
   "mimetype": "text/x-python",
   "name": "python",
   "nbconvert_exporter": "python",
   "pygments_lexer": "ipython3",
   "version": "3.11.5"
  },
  "orig_nbformat": 4
 },
 "nbformat": 4,
 "nbformat_minor": 2
}
